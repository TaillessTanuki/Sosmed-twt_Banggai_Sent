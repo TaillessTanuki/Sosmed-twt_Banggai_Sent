{
  "nbformat": 4,
  "nbformat_minor": 0,
  "metadata": {
    "colab": {
      "provenance": [],
      "collapsed_sections": [
        "LJL-neuHd-ab",
        "uqDcm6qIhpfo",
        "BgnmFGgbeM4o",
        "P1RGdnrreR9V",
        "akyZhgQzeZ8I",
        "csdn5fHWjv2W",
        "LnldCt2zkih_",
        "vZVKauuAkyDI",
        "KyujIEiSK3YT",
        "OqDFduCP47A2",
        "ypMTFDakovXo"
      ],
      "gpuType": "T4",
      "toc_visible": true
    },
    "kernelspec": {
      "name": "python3",
      "display_name": "Python 3"
    },
    "language_info": {
      "name": "python"
    },
    "accelerator": "GPU"
  },
  "cells": [
    {
      "cell_type": "markdown",
      "metadata": {
        "id": "Wj172v-Yd1-_"
      },
      "source": [
        "# Libraries"
      ]
    },
    {
      "cell_type": "code",
      "execution_count": 1,
      "metadata": {
        "colab": {
          "base_uri": "https://localhost:8080/"
        },
        "id": "MjWHRVR5ahdx",
        "outputId": "1f5de905-a500-486f-e6a8-536737ed9fdb"
      },
      "outputs": [
        {
          "output_type": "stream",
          "name": "stdout",
          "text": [
            "Collecting Sastrawi\n",
            "  Downloading Sastrawi-1.0.1-py2.py3-none-any.whl (209 kB)\n",
            "\u001b[?25l     \u001b[90m━━━━━━━━━━━━━━━━━━━━━━━━━━━━━━━━━━━━━━━━\u001b[0m \u001b[32m0.0/209.7 kB\u001b[0m \u001b[31m?\u001b[0m eta \u001b[36m-:--:--\u001b[0m\r\u001b[2K     \u001b[91m━━━━━━━━━━━━━━━━━━━━━━━━━━━\u001b[0m\u001b[90m╺\u001b[0m\u001b[90m━━━━━━━━━━━━\u001b[0m \u001b[32m143.4/209.7 kB\u001b[0m \u001b[31m4.0 MB/s\u001b[0m eta \u001b[36m0:00:01\u001b[0m\r\u001b[2K     \u001b[90m━━━━━━━━━━━━━━━━━━━━━━━━━━━━━━━━━━━━━━━━\u001b[0m \u001b[32m209.7/209.7 kB\u001b[0m \u001b[31m4.1 MB/s\u001b[0m eta \u001b[36m0:00:00\u001b[0m\n",
            "\u001b[?25hInstalling collected packages: Sastrawi\n",
            "Successfully installed Sastrawi-1.0.1\n",
            "Collecting clean-text\n",
            "  Downloading clean_text-0.6.0-py3-none-any.whl (11 kB)\n",
            "Collecting emoji<2.0.0,>=1.0.0 (from clean-text)\n",
            "  Downloading emoji-1.7.0.tar.gz (175 kB)\n",
            "\u001b[2K     \u001b[90m━━━━━━━━━━━━━━━━━━━━━━━━━━━━━━━━━━━━━━━━\u001b[0m \u001b[32m175.4/175.4 kB\u001b[0m \u001b[31m3.7 MB/s\u001b[0m eta \u001b[36m0:00:00\u001b[0m\n",
            "\u001b[?25h  Preparing metadata (setup.py) ... \u001b[?25l\u001b[?25hdone\n",
            "Collecting ftfy<7.0,>=6.0 (from clean-text)\n",
            "  Downloading ftfy-6.2.0-py3-none-any.whl (54 kB)\n",
            "\u001b[2K     \u001b[90m━━━━━━━━━━━━━━━━━━━━━━━━━━━━━━━━━━━━━━━━\u001b[0m \u001b[32m54.4/54.4 kB\u001b[0m \u001b[31m5.4 MB/s\u001b[0m eta \u001b[36m0:00:00\u001b[0m\n",
            "\u001b[?25hRequirement already satisfied: wcwidth<0.3.0,>=0.2.12 in /usr/local/lib/python3.10/dist-packages (from ftfy<7.0,>=6.0->clean-text) (0.2.13)\n",
            "Building wheels for collected packages: emoji\n",
            "  Building wheel for emoji (setup.py) ... \u001b[?25l\u001b[?25hdone\n",
            "  Created wheel for emoji: filename=emoji-1.7.0-py3-none-any.whl size=171034 sha256=32df5d5d677cecab031a826290bdc424062e7ef6712c93c3e15320c51a1d1f4f\n",
            "  Stored in directory: /root/.cache/pip/wheels/31/8a/8c/315c9e5d7773f74b33d5ed33f075b49c6eaeb7cedbb86e2cf8\n",
            "Successfully built emoji\n",
            "Installing collected packages: emoji, ftfy, clean-text\n",
            "Successfully installed clean-text-0.6.0 emoji-1.7.0 ftfy-6.2.0\n",
            "Collecting deep-translator\n",
            "  Downloading deep_translator-1.11.4-py3-none-any.whl (42 kB)\n",
            "\u001b[2K     \u001b[90m━━━━━━━━━━━━━━━━━━━━━━━━━━━━━━━━━━━━━━━━\u001b[0m \u001b[32m42.3/42.3 kB\u001b[0m \u001b[31m1.3 MB/s\u001b[0m eta \u001b[36m0:00:00\u001b[0m\n",
            "\u001b[?25hRequirement already satisfied: beautifulsoup4<5.0.0,>=4.9.1 in /usr/local/lib/python3.10/dist-packages (from deep-translator) (4.12.3)\n",
            "Requirement already satisfied: requests<3.0.0,>=2.23.0 in /usr/local/lib/python3.10/dist-packages (from deep-translator) (2.31.0)\n",
            "Requirement already satisfied: soupsieve>1.2 in /usr/local/lib/python3.10/dist-packages (from beautifulsoup4<5.0.0,>=4.9.1->deep-translator) (2.5)\n",
            "Requirement already satisfied: charset-normalizer<4,>=2 in /usr/local/lib/python3.10/dist-packages (from requests<3.0.0,>=2.23.0->deep-translator) (3.3.2)\n",
            "Requirement already satisfied: idna<4,>=2.5 in /usr/local/lib/python3.10/dist-packages (from requests<3.0.0,>=2.23.0->deep-translator) (3.6)\n",
            "Requirement already satisfied: urllib3<3,>=1.21.1 in /usr/local/lib/python3.10/dist-packages (from requests<3.0.0,>=2.23.0->deep-translator) (2.0.7)\n",
            "Requirement already satisfied: certifi>=2017.4.17 in /usr/local/lib/python3.10/dist-packages (from requests<3.0.0,>=2.23.0->deep-translator) (2024.2.2)\n",
            "Installing collected packages: deep-translator\n",
            "Successfully installed deep-translator-1.11.4\n"
          ]
        }
      ],
      "source": [
        "!pip install Sastrawi\n",
        "!pip install clean-text\n",
        "!pip install deep-translator"
      ]
    },
    {
      "cell_type": "code",
      "execution_count": 2,
      "metadata": {
        "colab": {
          "base_uri": "https://localhost:8080/"
        },
        "id": "6Nsz9j1DEJXD",
        "outputId": "b32d3ddb-b66f-4d1e-9ee6-9b17f1a8dcab"
      },
      "outputs": [
        {
          "output_type": "stream",
          "name": "stderr",
          "text": [
            "[nltk_data] Downloading package stopwords to /root/nltk_data...\n",
            "[nltk_data]   Unzipping corpora/stopwords.zip.\n",
            "[nltk_data] Downloading package wordnet to /root/nltk_data...\n",
            "[nltk_data] Downloading package punkt to /root/nltk_data...\n",
            "[nltk_data]   Unzipping tokenizers/punkt.zip.\n",
            "WARNING:root:Since the GPL-licensed package `unidecode` is not installed, using Python's `unicodedata` package which yields worse results.\n"
          ]
        }
      ],
      "source": [
        "import pandas as pd\n",
        "import numpy as np\n",
        "from nltk.corpus import stopwords\n",
        "import re\n",
        "import nltk\n",
        "nltk.download('stopwords')\n",
        "nltk.download('wordnet')\n",
        "nltk.download('punkt')\n",
        "from nltk.stem import PorterStemmer\n",
        "from nltk.stem import LancasterStemmer\n",
        "from nltk.tokenize import word_tokenize\n",
        "from Sastrawi.Stemmer.StemmerFactory import StemmerFactory\n",
        "from Sastrawi.StopWordRemover.StopWordRemoverFactory import StopWordRemoverFactory, StopWordRemover, ArrayDictionary\n",
        "from cleantext import clean\n",
        "from collections import Counter"
      ]
    },
    {
      "cell_type": "code",
      "source": [
        "import sklearn"
      ],
      "metadata": {
        "id": "fSui9eOPzRQ0"
      },
      "execution_count": 3,
      "outputs": []
    },
    {
      "cell_type": "code",
      "execution_count": null,
      "metadata": {
        "id": "cKKzjVp3T644"
      },
      "outputs": [],
      "source": [
        "# !pip freeze > requirements.txt"
      ]
    },
    {
      "cell_type": "markdown",
      "metadata": {
        "id": "tCl5GW_rd6yk"
      },
      "source": [
        "# Get Data from ES and prepare DF"
      ]
    },
    {
      "cell_type": "code",
      "source": [
        "import requests\n",
        "import json"
      ],
      "metadata": {
        "id": "xO6kQ22cOqRq"
      },
      "execution_count": 4,
      "outputs": []
    },
    {
      "cell_type": "code",
      "source": [
        "# Importing Data\n",
        "url = 'https://raw.githubusercontent.com/TaillessTanuki/Sosmed-twt_Banggai_Sent/main/vadered_text1_edited.csv'\n",
        "\n",
        "# Create a DataFrame\n",
        "df = pd.read_csv(url,encoding='utf-8')\n",
        "print(df.head())"
      ],
      "metadata": {
        "id": "j4AoD9uyU15U",
        "colab": {
          "base_uri": "https://localhost:8080/"
        },
        "outputId": "208012a3-b0ed-4d53-8989-818d320df105"
      },
      "execution_count": 5,
      "outputs": [
        {
          "output_type": "stream",
          "name": "stdout",
          "text": [
            "                                                text sentiment\n",
            "0  15 Menit sebelm tutup kantor minta ditunggu bi...   negatif\n",
            "1  Salah satu hal teraneh di dunia ini versiku ad...    netral\n",
            "2  W benci bgt kalo co cod tapi alamatnya salah h...   negatif\n",
            "3  Dear @Erdioo Radio *RADIO GALASIKA FM LUWUK (@...   negatif\n",
            "4                    Kenapa batui itu dinginnya aneh   negatif\n"
          ]
        }
      ]
    },
    {
      "cell_type": "code",
      "source": [
        "len(df)"
      ],
      "metadata": {
        "colab": {
          "base_uri": "https://localhost:8080/"
        },
        "id": "yL2c5GX7QryB",
        "outputId": "d5140b12-7053-44bd-f8b9-941f7f035fd5"
      },
      "execution_count": 11,
      "outputs": [
        {
          "output_type": "execute_result",
          "data": {
            "text/plain": [
              "562"
            ]
          },
          "metadata": {},
          "execution_count": 11
        }
      ]
    },
    {
      "cell_type": "code",
      "source": [
        "# Drop Unnamed column\n",
        "df.drop(df.columns[df.columns.str.contains(\n",
        "    'unnamed', case=False)], axis=1, inplace=True)"
      ],
      "metadata": {
        "id": "H4GhSEKLRE1b"
      },
      "execution_count": 7,
      "outputs": []
    },
    {
      "cell_type": "code",
      "source": [
        "df.head()"
      ],
      "metadata": {
        "id": "OnK_8zLtrQHE",
        "colab": {
          "base_uri": "https://localhost:8080/",
          "height": 206
        },
        "outputId": "e0263819-9880-4a91-a807-4f03cbdf58bf"
      },
      "execution_count": 10,
      "outputs": [
        {
          "output_type": "execute_result",
          "data": {
            "text/plain": [
              "                                                text sentiment\n",
              "0  15 Menit sebelm tutup kantor minta ditunggu bi...   negatif\n",
              "1  Salah satu hal teraneh di dunia ini versiku ad...    netral\n",
              "2  W benci bgt kalo co cod tapi alamatnya salah h...   negatif\n",
              "3  Dear @Erdioo Radio *RADIO GALASIKA FM LUWUK (@...   negatif\n",
              "4                    Kenapa batui itu dinginnya aneh   negatif"
            ],
            "text/html": [
              "\n",
              "  <div id=\"df-7a12a068-6d46-40b1-a6d7-64dee9dd0c98\" class=\"colab-df-container\">\n",
              "    <div>\n",
              "<style scoped>\n",
              "    .dataframe tbody tr th:only-of-type {\n",
              "        vertical-align: middle;\n",
              "    }\n",
              "\n",
              "    .dataframe tbody tr th {\n",
              "        vertical-align: top;\n",
              "    }\n",
              "\n",
              "    .dataframe thead th {\n",
              "        text-align: right;\n",
              "    }\n",
              "</style>\n",
              "<table border=\"1\" class=\"dataframe\">\n",
              "  <thead>\n",
              "    <tr style=\"text-align: right;\">\n",
              "      <th></th>\n",
              "      <th>text</th>\n",
              "      <th>sentiment</th>\n",
              "    </tr>\n",
              "  </thead>\n",
              "  <tbody>\n",
              "    <tr>\n",
              "      <th>0</th>\n",
              "      <td>15 Menit sebelm tutup kantor minta ditunggu bi...</td>\n",
              "      <td>negatif</td>\n",
              "    </tr>\n",
              "    <tr>\n",
              "      <th>1</th>\n",
              "      <td>Salah satu hal teraneh di dunia ini versiku ad...</td>\n",
              "      <td>netral</td>\n",
              "    </tr>\n",
              "    <tr>\n",
              "      <th>2</th>\n",
              "      <td>W benci bgt kalo co cod tapi alamatnya salah h...</td>\n",
              "      <td>negatif</td>\n",
              "    </tr>\n",
              "    <tr>\n",
              "      <th>3</th>\n",
              "      <td>Dear @Erdioo Radio *RADIO GALASIKA FM LUWUK (@...</td>\n",
              "      <td>negatif</td>\n",
              "    </tr>\n",
              "    <tr>\n",
              "      <th>4</th>\n",
              "      <td>Kenapa batui itu dinginnya aneh</td>\n",
              "      <td>negatif</td>\n",
              "    </tr>\n",
              "  </tbody>\n",
              "</table>\n",
              "</div>\n",
              "    <div class=\"colab-df-buttons\">\n",
              "\n",
              "  <div class=\"colab-df-container\">\n",
              "    <button class=\"colab-df-convert\" onclick=\"convertToInteractive('df-7a12a068-6d46-40b1-a6d7-64dee9dd0c98')\"\n",
              "            title=\"Convert this dataframe to an interactive table.\"\n",
              "            style=\"display:none;\">\n",
              "\n",
              "  <svg xmlns=\"http://www.w3.org/2000/svg\" height=\"24px\" viewBox=\"0 -960 960 960\">\n",
              "    <path d=\"M120-120v-720h720v720H120Zm60-500h600v-160H180v160Zm220 220h160v-160H400v160Zm0 220h160v-160H400v160ZM180-400h160v-160H180v160Zm440 0h160v-160H620v160ZM180-180h160v-160H180v160Zm440 0h160v-160H620v160Z\"/>\n",
              "  </svg>\n",
              "    </button>\n",
              "\n",
              "  <style>\n",
              "    .colab-df-container {\n",
              "      display:flex;\n",
              "      gap: 12px;\n",
              "    }\n",
              "\n",
              "    .colab-df-convert {\n",
              "      background-color: #E8F0FE;\n",
              "      border: none;\n",
              "      border-radius: 50%;\n",
              "      cursor: pointer;\n",
              "      display: none;\n",
              "      fill: #1967D2;\n",
              "      height: 32px;\n",
              "      padding: 0 0 0 0;\n",
              "      width: 32px;\n",
              "    }\n",
              "\n",
              "    .colab-df-convert:hover {\n",
              "      background-color: #E2EBFA;\n",
              "      box-shadow: 0px 1px 2px rgba(60, 64, 67, 0.3), 0px 1px 3px 1px rgba(60, 64, 67, 0.15);\n",
              "      fill: #174EA6;\n",
              "    }\n",
              "\n",
              "    .colab-df-buttons div {\n",
              "      margin-bottom: 4px;\n",
              "    }\n",
              "\n",
              "    [theme=dark] .colab-df-convert {\n",
              "      background-color: #3B4455;\n",
              "      fill: #D2E3FC;\n",
              "    }\n",
              "\n",
              "    [theme=dark] .colab-df-convert:hover {\n",
              "      background-color: #434B5C;\n",
              "      box-shadow: 0px 1px 3px 1px rgba(0, 0, 0, 0.15);\n",
              "      filter: drop-shadow(0px 1px 2px rgba(0, 0, 0, 0.3));\n",
              "      fill: #FFFFFF;\n",
              "    }\n",
              "  </style>\n",
              "\n",
              "    <script>\n",
              "      const buttonEl =\n",
              "        document.querySelector('#df-7a12a068-6d46-40b1-a6d7-64dee9dd0c98 button.colab-df-convert');\n",
              "      buttonEl.style.display =\n",
              "        google.colab.kernel.accessAllowed ? 'block' : 'none';\n",
              "\n",
              "      async function convertToInteractive(key) {\n",
              "        const element = document.querySelector('#df-7a12a068-6d46-40b1-a6d7-64dee9dd0c98');\n",
              "        const dataTable =\n",
              "          await google.colab.kernel.invokeFunction('convertToInteractive',\n",
              "                                                    [key], {});\n",
              "        if (!dataTable) return;\n",
              "\n",
              "        const docLinkHtml = 'Like what you see? Visit the ' +\n",
              "          '<a target=\"_blank\" href=https://colab.research.google.com/notebooks/data_table.ipynb>data table notebook</a>'\n",
              "          + ' to learn more about interactive tables.';\n",
              "        element.innerHTML = '';\n",
              "        dataTable['output_type'] = 'display_data';\n",
              "        await google.colab.output.renderOutput(dataTable, element);\n",
              "        const docLink = document.createElement('div');\n",
              "        docLink.innerHTML = docLinkHtml;\n",
              "        element.appendChild(docLink);\n",
              "      }\n",
              "    </script>\n",
              "  </div>\n",
              "\n",
              "\n",
              "<div id=\"df-09d545f3-70d2-4212-a53e-2849e6c2708e\">\n",
              "  <button class=\"colab-df-quickchart\" onclick=\"quickchart('df-09d545f3-70d2-4212-a53e-2849e6c2708e')\"\n",
              "            title=\"Suggest charts\"\n",
              "            style=\"display:none;\">\n",
              "\n",
              "<svg xmlns=\"http://www.w3.org/2000/svg\" height=\"24px\"viewBox=\"0 0 24 24\"\n",
              "     width=\"24px\">\n",
              "    <g>\n",
              "        <path d=\"M19 3H5c-1.1 0-2 .9-2 2v14c0 1.1.9 2 2 2h14c1.1 0 2-.9 2-2V5c0-1.1-.9-2-2-2zM9 17H7v-7h2v7zm4 0h-2V7h2v10zm4 0h-2v-4h2v4z\"/>\n",
              "    </g>\n",
              "</svg>\n",
              "  </button>\n",
              "\n",
              "<style>\n",
              "  .colab-df-quickchart {\n",
              "      --bg-color: #E8F0FE;\n",
              "      --fill-color: #1967D2;\n",
              "      --hover-bg-color: #E2EBFA;\n",
              "      --hover-fill-color: #174EA6;\n",
              "      --disabled-fill-color: #AAA;\n",
              "      --disabled-bg-color: #DDD;\n",
              "  }\n",
              "\n",
              "  [theme=dark] .colab-df-quickchart {\n",
              "      --bg-color: #3B4455;\n",
              "      --fill-color: #D2E3FC;\n",
              "      --hover-bg-color: #434B5C;\n",
              "      --hover-fill-color: #FFFFFF;\n",
              "      --disabled-bg-color: #3B4455;\n",
              "      --disabled-fill-color: #666;\n",
              "  }\n",
              "\n",
              "  .colab-df-quickchart {\n",
              "    background-color: var(--bg-color);\n",
              "    border: none;\n",
              "    border-radius: 50%;\n",
              "    cursor: pointer;\n",
              "    display: none;\n",
              "    fill: var(--fill-color);\n",
              "    height: 32px;\n",
              "    padding: 0;\n",
              "    width: 32px;\n",
              "  }\n",
              "\n",
              "  .colab-df-quickchart:hover {\n",
              "    background-color: var(--hover-bg-color);\n",
              "    box-shadow: 0 1px 2px rgba(60, 64, 67, 0.3), 0 1px 3px 1px rgba(60, 64, 67, 0.15);\n",
              "    fill: var(--button-hover-fill-color);\n",
              "  }\n",
              "\n",
              "  .colab-df-quickchart-complete:disabled,\n",
              "  .colab-df-quickchart-complete:disabled:hover {\n",
              "    background-color: var(--disabled-bg-color);\n",
              "    fill: var(--disabled-fill-color);\n",
              "    box-shadow: none;\n",
              "  }\n",
              "\n",
              "  .colab-df-spinner {\n",
              "    border: 2px solid var(--fill-color);\n",
              "    border-color: transparent;\n",
              "    border-bottom-color: var(--fill-color);\n",
              "    animation:\n",
              "      spin 1s steps(1) infinite;\n",
              "  }\n",
              "\n",
              "  @keyframes spin {\n",
              "    0% {\n",
              "      border-color: transparent;\n",
              "      border-bottom-color: var(--fill-color);\n",
              "      border-left-color: var(--fill-color);\n",
              "    }\n",
              "    20% {\n",
              "      border-color: transparent;\n",
              "      border-left-color: var(--fill-color);\n",
              "      border-top-color: var(--fill-color);\n",
              "    }\n",
              "    30% {\n",
              "      border-color: transparent;\n",
              "      border-left-color: var(--fill-color);\n",
              "      border-top-color: var(--fill-color);\n",
              "      border-right-color: var(--fill-color);\n",
              "    }\n",
              "    40% {\n",
              "      border-color: transparent;\n",
              "      border-right-color: var(--fill-color);\n",
              "      border-top-color: var(--fill-color);\n",
              "    }\n",
              "    60% {\n",
              "      border-color: transparent;\n",
              "      border-right-color: var(--fill-color);\n",
              "    }\n",
              "    80% {\n",
              "      border-color: transparent;\n",
              "      border-right-color: var(--fill-color);\n",
              "      border-bottom-color: var(--fill-color);\n",
              "    }\n",
              "    90% {\n",
              "      border-color: transparent;\n",
              "      border-bottom-color: var(--fill-color);\n",
              "    }\n",
              "  }\n",
              "</style>\n",
              "\n",
              "  <script>\n",
              "    async function quickchart(key) {\n",
              "      const quickchartButtonEl =\n",
              "        document.querySelector('#' + key + ' button');\n",
              "      quickchartButtonEl.disabled = true;  // To prevent multiple clicks.\n",
              "      quickchartButtonEl.classList.add('colab-df-spinner');\n",
              "      try {\n",
              "        const charts = await google.colab.kernel.invokeFunction(\n",
              "            'suggestCharts', [key], {});\n",
              "      } catch (error) {\n",
              "        console.error('Error during call to suggestCharts:', error);\n",
              "      }\n",
              "      quickchartButtonEl.classList.remove('colab-df-spinner');\n",
              "      quickchartButtonEl.classList.add('colab-df-quickchart-complete');\n",
              "    }\n",
              "    (() => {\n",
              "      let quickchartButtonEl =\n",
              "        document.querySelector('#df-09d545f3-70d2-4212-a53e-2849e6c2708e button');\n",
              "      quickchartButtonEl.style.display =\n",
              "        google.colab.kernel.accessAllowed ? 'block' : 'none';\n",
              "    })();\n",
              "  </script>\n",
              "</div>\n",
              "    </div>\n",
              "  </div>\n"
            ],
            "application/vnd.google.colaboratory.intrinsic+json": {
              "type": "dataframe",
              "variable_name": "df",
              "summary": "{\n  \"name\": \"df\",\n  \"rows\": 562,\n  \"fields\": [\n    {\n      \"column\": \"text\",\n      \"properties\": {\n        \"dtype\": \"string\",\n        \"num_unique_values\": 562,\n        \"samples\": [\n          \"Yg di siuna luwuk ad kh?? #siunapagimana\",\n          \"Sultan-sultan Luwuk tolong buka gerai chatime atau es teh indonesia danggg\\u200d\\ufe0f\",\n          \"harap harap pulang luwuk sehat samua. Trang syang tua tapi tuhan Lebe sayang\"\n        ],\n        \"semantic_type\": \"\",\n        \"description\": \"\"\n      }\n    },\n    {\n      \"column\": \"sentiment\",\n      \"properties\": {\n        \"dtype\": \"category\",\n        \"num_unique_values\": 3,\n        \"samples\": [\n          \"negatif\",\n          \"netral\",\n          \"positif\"\n        ],\n        \"semantic_type\": \"\",\n        \"description\": \"\"\n      }\n    }\n  ]\n}"
            }
          },
          "metadata": {},
          "execution_count": 10
        }
      ]
    },
    {
      "cell_type": "markdown",
      "metadata": {
        "id": "gUEtMZPwYsWm"
      },
      "source": [
        "# Preprocessing"
      ]
    },
    {
      "cell_type": "markdown",
      "metadata": {
        "id": "1zxQ2fH4cJsF"
      },
      "source": [
        "## Delete Duplicates"
      ]
    },
    {
      "cell_type": "code",
      "execution_count": 8,
      "metadata": {
        "colab": {
          "base_uri": "https://localhost:8080/"
        },
        "id": "QTIzTCJ-cZpF",
        "outputId": "c001212e-5926-4d7a-e150-5b676836cbc7"
      },
      "outputs": [
        {
          "output_type": "execute_result",
          "data": {
            "text/plain": [
              "0"
            ]
          },
          "metadata": {},
          "execution_count": 8
        }
      ],
      "source": [
        "df.duplicated(subset='text').sum()\n"
      ]
    },
    {
      "cell_type": "code",
      "execution_count": null,
      "metadata": {
        "id": "rDSvUPZIcMrK"
      },
      "outputs": [],
      "source": [
        "df = df.drop_duplicates(subset='title')"
      ]
    },
    {
      "cell_type": "markdown",
      "source": [
        "## Deleting Blank (Nan) Rows"
      ],
      "metadata": {
        "id": "TlS01RHyg-xi"
      }
    },
    {
      "cell_type": "code",
      "source": [
        "df = df[df['text'] != '']"
      ],
      "metadata": {
        "id": "HqXzRDTAhCaE"
      },
      "execution_count": 9,
      "outputs": []
    },
    {
      "cell_type": "code",
      "source": [
        "#row_index = 127  # Index of the row you want to print (Python indexing starts from 0)\n",
        "#columns_to_print = ['title', 'text']  # List of column names to display\n",
        "\n",
        "# Use .loc[] to select the row by its index and specify the columns to display\n",
        "#row_data = df.loc[row_index, columns_to_print]\n",
        "\n",
        "#print(row_data)"
      ],
      "metadata": {
        "id": "FJAQFjrWhGj9"
      },
      "execution_count": null,
      "outputs": []
    },
    {
      "cell_type": "markdown",
      "metadata": {
        "id": "LJL-neuHd-ab"
      },
      "source": [
        "## Case Folding"
      ]
    },
    {
      "cell_type": "code",
      "execution_count": null,
      "metadata": {
        "id": "os3Yx3F1cC3Z"
      },
      "outputs": [],
      "source": [
        "def clean_lower(lwr):\n",
        "    lwr = lwr.lower() # lowercase text\n",
        "    return lwr"
      ]
    },
    {
      "cell_type": "code",
      "execution_count": null,
      "metadata": {
        "id": "MMU-H_NhdZHO",
        "colab": {
          "base_uri": "https://localhost:8080/"
        },
        "outputId": "7abf2797-781d-4d27-a2f1-41b518d3acae"
      },
      "outputs": [
        {
          "output_type": "execute_result",
          "data": {
            "text/plain": [
              "0      kabar luwuk –  suasana pasar murah bersubsidi ...\n",
              "1      kabar luwuk  –  film horor“piara mayat”,kreati...\n",
              "2      kabar luwuk  –festival malabot tumbe 2023kemba...\n",
              "3      “kerja cepat dan terkoordinir dalam penerbitan...\n",
              "4      kabar luwuk  –bawaslu banggaiperkuat koordinas...\n",
              "                             ...                        \n",
              "574    banggai raya-satu gudang bahan aluminium di ja...\n",
              "575    laporan wartawan tribunpalu.com, asnawi zikri ...\n",
              "576    banggai raya-lebih 500 pebulutangkis dari kabu...\n",
              "577    laporan wartawan tribunpalu.com, asnawi zikri ...\n",
              "578    laporan wartawan tribunpalu.com, asnawi zikri ...\n",
              "Name: lwr, Length: 579, dtype: object"
            ]
          },
          "metadata": {},
          "execution_count": 52
        }
      ],
      "source": [
        "# Buat kolom tambahan untuk data ulasan yang telah dicasefolding\n",
        "df['lwr'] = df['text'].apply(clean_lower)\n",
        "df['lwr']"
      ]
    },
    {
      "cell_type": "code",
      "source": [
        "df.head()"
      ],
      "metadata": {
        "id": "GDN_GKCQ09vH",
        "colab": {
          "base_uri": "https://localhost:8080/",
          "height": 206
        },
        "outputId": "21bce13e-8d68-4b0e-b124-5e80c7ce0cce"
      },
      "execution_count": null,
      "outputs": [
        {
          "output_type": "execute_result",
          "data": {
            "text/plain": [
              "  final_review                                              title  \\\n",
              "0      positif  Mobil Sim Keliling Polres Banggai Meriahkan Pa...   \n",
              "1      positif  Film Horor “Piara Mayat”,  Kreativitas Anak Mu...   \n",
              "2      positif  Festival Malabot Tumbe 2023 Kembali Meriahkan ...   \n",
              "3      positif  Rakor Kampanye Damai Pemilu 2024, Polres Bangg...   \n",
              "4      positif  Bawaslu Banggai Perkuat Koordinasi dengan Panw...   \n",
              "\n",
              "                                                text  \\\n",
              "0  KABAR LUWUK –  Suasana Pasar Murah bersubsidi ...   \n",
              "1  KABAR LUWUK  –  Film Horor“Piara Mayat”,Kreati...   \n",
              "2  KABAR LUWUK  –Festival Malabot Tumbe 2023Kemba...   \n",
              "3  “Kerja Cepat dan Terkoordinir dalam Penerbitan...   \n",
              "4  KABAR LUWUK  –Bawaslu BanggaiPerkuat Koordinas...   \n",
              "\n",
              "                                                 lwr  \n",
              "0  kabar luwuk –  suasana pasar murah bersubsidi ...  \n",
              "1  kabar luwuk  –  film horor“piara mayat”,kreati...  \n",
              "2  kabar luwuk  –festival malabot tumbe 2023kemba...  \n",
              "3  “kerja cepat dan terkoordinir dalam penerbitan...  \n",
              "4  kabar luwuk  –bawaslu banggaiperkuat koordinas...  "
            ],
            "text/html": [
              "\n",
              "  <div id=\"df-71449791-e1ae-4601-9ae1-c91ba1466e18\" class=\"colab-df-container\">\n",
              "    <div>\n",
              "<style scoped>\n",
              "    .dataframe tbody tr th:only-of-type {\n",
              "        vertical-align: middle;\n",
              "    }\n",
              "\n",
              "    .dataframe tbody tr th {\n",
              "        vertical-align: top;\n",
              "    }\n",
              "\n",
              "    .dataframe thead th {\n",
              "        text-align: right;\n",
              "    }\n",
              "</style>\n",
              "<table border=\"1\" class=\"dataframe\">\n",
              "  <thead>\n",
              "    <tr style=\"text-align: right;\">\n",
              "      <th></th>\n",
              "      <th>final_review</th>\n",
              "      <th>title</th>\n",
              "      <th>text</th>\n",
              "      <th>lwr</th>\n",
              "    </tr>\n",
              "  </thead>\n",
              "  <tbody>\n",
              "    <tr>\n",
              "      <th>0</th>\n",
              "      <td>positif</td>\n",
              "      <td>Mobil Sim Keliling Polres Banggai Meriahkan Pa...</td>\n",
              "      <td>KABAR LUWUK –  Suasana Pasar Murah bersubsidi ...</td>\n",
              "      <td>kabar luwuk –  suasana pasar murah bersubsidi ...</td>\n",
              "    </tr>\n",
              "    <tr>\n",
              "      <th>1</th>\n",
              "      <td>positif</td>\n",
              "      <td>Film Horor “Piara Mayat”,  Kreativitas Anak Mu...</td>\n",
              "      <td>KABAR LUWUK  –  Film Horor“Piara Mayat”,Kreati...</td>\n",
              "      <td>kabar luwuk  –  film horor“piara mayat”,kreati...</td>\n",
              "    </tr>\n",
              "    <tr>\n",
              "      <th>2</th>\n",
              "      <td>positif</td>\n",
              "      <td>Festival Malabot Tumbe 2023 Kembali Meriahkan ...</td>\n",
              "      <td>KABAR LUWUK  –Festival Malabot Tumbe 2023Kemba...</td>\n",
              "      <td>kabar luwuk  –festival malabot tumbe 2023kemba...</td>\n",
              "    </tr>\n",
              "    <tr>\n",
              "      <th>3</th>\n",
              "      <td>positif</td>\n",
              "      <td>Rakor Kampanye Damai Pemilu 2024, Polres Bangg...</td>\n",
              "      <td>“Kerja Cepat dan Terkoordinir dalam Penerbitan...</td>\n",
              "      <td>“kerja cepat dan terkoordinir dalam penerbitan...</td>\n",
              "    </tr>\n",
              "    <tr>\n",
              "      <th>4</th>\n",
              "      <td>positif</td>\n",
              "      <td>Bawaslu Banggai Perkuat Koordinasi dengan Panw...</td>\n",
              "      <td>KABAR LUWUK  –Bawaslu BanggaiPerkuat Koordinas...</td>\n",
              "      <td>kabar luwuk  –bawaslu banggaiperkuat koordinas...</td>\n",
              "    </tr>\n",
              "  </tbody>\n",
              "</table>\n",
              "</div>\n",
              "    <div class=\"colab-df-buttons\">\n",
              "\n",
              "  <div class=\"colab-df-container\">\n",
              "    <button class=\"colab-df-convert\" onclick=\"convertToInteractive('df-71449791-e1ae-4601-9ae1-c91ba1466e18')\"\n",
              "            title=\"Convert this dataframe to an interactive table.\"\n",
              "            style=\"display:none;\">\n",
              "\n",
              "  <svg xmlns=\"http://www.w3.org/2000/svg\" height=\"24px\" viewBox=\"0 -960 960 960\">\n",
              "    <path d=\"M120-120v-720h720v720H120Zm60-500h600v-160H180v160Zm220 220h160v-160H400v160Zm0 220h160v-160H400v160ZM180-400h160v-160H180v160Zm440 0h160v-160H620v160ZM180-180h160v-160H180v160Zm440 0h160v-160H620v160Z\"/>\n",
              "  </svg>\n",
              "    </button>\n",
              "\n",
              "  <style>\n",
              "    .colab-df-container {\n",
              "      display:flex;\n",
              "      gap: 12px;\n",
              "    }\n",
              "\n",
              "    .colab-df-convert {\n",
              "      background-color: #E8F0FE;\n",
              "      border: none;\n",
              "      border-radius: 50%;\n",
              "      cursor: pointer;\n",
              "      display: none;\n",
              "      fill: #1967D2;\n",
              "      height: 32px;\n",
              "      padding: 0 0 0 0;\n",
              "      width: 32px;\n",
              "    }\n",
              "\n",
              "    .colab-df-convert:hover {\n",
              "      background-color: #E2EBFA;\n",
              "      box-shadow: 0px 1px 2px rgba(60, 64, 67, 0.3), 0px 1px 3px 1px rgba(60, 64, 67, 0.15);\n",
              "      fill: #174EA6;\n",
              "    }\n",
              "\n",
              "    .colab-df-buttons div {\n",
              "      margin-bottom: 4px;\n",
              "    }\n",
              "\n",
              "    [theme=dark] .colab-df-convert {\n",
              "      background-color: #3B4455;\n",
              "      fill: #D2E3FC;\n",
              "    }\n",
              "\n",
              "    [theme=dark] .colab-df-convert:hover {\n",
              "      background-color: #434B5C;\n",
              "      box-shadow: 0px 1px 3px 1px rgba(0, 0, 0, 0.15);\n",
              "      filter: drop-shadow(0px 1px 2px rgba(0, 0, 0, 0.3));\n",
              "      fill: #FFFFFF;\n",
              "    }\n",
              "  </style>\n",
              "\n",
              "    <script>\n",
              "      const buttonEl =\n",
              "        document.querySelector('#df-71449791-e1ae-4601-9ae1-c91ba1466e18 button.colab-df-convert');\n",
              "      buttonEl.style.display =\n",
              "        google.colab.kernel.accessAllowed ? 'block' : 'none';\n",
              "\n",
              "      async function convertToInteractive(key) {\n",
              "        const element = document.querySelector('#df-71449791-e1ae-4601-9ae1-c91ba1466e18');\n",
              "        const dataTable =\n",
              "          await google.colab.kernel.invokeFunction('convertToInteractive',\n",
              "                                                    [key], {});\n",
              "        if (!dataTable) return;\n",
              "\n",
              "        const docLinkHtml = 'Like what you see? Visit the ' +\n",
              "          '<a target=\"_blank\" href=https://colab.research.google.com/notebooks/data_table.ipynb>data table notebook</a>'\n",
              "          + ' to learn more about interactive tables.';\n",
              "        element.innerHTML = '';\n",
              "        dataTable['output_type'] = 'display_data';\n",
              "        await google.colab.output.renderOutput(dataTable, element);\n",
              "        const docLink = document.createElement('div');\n",
              "        docLink.innerHTML = docLinkHtml;\n",
              "        element.appendChild(docLink);\n",
              "      }\n",
              "    </script>\n",
              "  </div>\n",
              "\n",
              "\n",
              "<div id=\"df-42e9fdae-9765-47be-b077-96567aa920da\">\n",
              "  <button class=\"colab-df-quickchart\" onclick=\"quickchart('df-42e9fdae-9765-47be-b077-96567aa920da')\"\n",
              "            title=\"Suggest charts\"\n",
              "            style=\"display:none;\">\n",
              "\n",
              "<svg xmlns=\"http://www.w3.org/2000/svg\" height=\"24px\"viewBox=\"0 0 24 24\"\n",
              "     width=\"24px\">\n",
              "    <g>\n",
              "        <path d=\"M19 3H5c-1.1 0-2 .9-2 2v14c0 1.1.9 2 2 2h14c1.1 0 2-.9 2-2V5c0-1.1-.9-2-2-2zM9 17H7v-7h2v7zm4 0h-2V7h2v10zm4 0h-2v-4h2v4z\"/>\n",
              "    </g>\n",
              "</svg>\n",
              "  </button>\n",
              "\n",
              "<style>\n",
              "  .colab-df-quickchart {\n",
              "      --bg-color: #E8F0FE;\n",
              "      --fill-color: #1967D2;\n",
              "      --hover-bg-color: #E2EBFA;\n",
              "      --hover-fill-color: #174EA6;\n",
              "      --disabled-fill-color: #AAA;\n",
              "      --disabled-bg-color: #DDD;\n",
              "  }\n",
              "\n",
              "  [theme=dark] .colab-df-quickchart {\n",
              "      --bg-color: #3B4455;\n",
              "      --fill-color: #D2E3FC;\n",
              "      --hover-bg-color: #434B5C;\n",
              "      --hover-fill-color: #FFFFFF;\n",
              "      --disabled-bg-color: #3B4455;\n",
              "      --disabled-fill-color: #666;\n",
              "  }\n",
              "\n",
              "  .colab-df-quickchart {\n",
              "    background-color: var(--bg-color);\n",
              "    border: none;\n",
              "    border-radius: 50%;\n",
              "    cursor: pointer;\n",
              "    display: none;\n",
              "    fill: var(--fill-color);\n",
              "    height: 32px;\n",
              "    padding: 0;\n",
              "    width: 32px;\n",
              "  }\n",
              "\n",
              "  .colab-df-quickchart:hover {\n",
              "    background-color: var(--hover-bg-color);\n",
              "    box-shadow: 0 1px 2px rgba(60, 64, 67, 0.3), 0 1px 3px 1px rgba(60, 64, 67, 0.15);\n",
              "    fill: var(--button-hover-fill-color);\n",
              "  }\n",
              "\n",
              "  .colab-df-quickchart-complete:disabled,\n",
              "  .colab-df-quickchart-complete:disabled:hover {\n",
              "    background-color: var(--disabled-bg-color);\n",
              "    fill: var(--disabled-fill-color);\n",
              "    box-shadow: none;\n",
              "  }\n",
              "\n",
              "  .colab-df-spinner {\n",
              "    border: 2px solid var(--fill-color);\n",
              "    border-color: transparent;\n",
              "    border-bottom-color: var(--fill-color);\n",
              "    animation:\n",
              "      spin 1s steps(1) infinite;\n",
              "  }\n",
              "\n",
              "  @keyframes spin {\n",
              "    0% {\n",
              "      border-color: transparent;\n",
              "      border-bottom-color: var(--fill-color);\n",
              "      border-left-color: var(--fill-color);\n",
              "    }\n",
              "    20% {\n",
              "      border-color: transparent;\n",
              "      border-left-color: var(--fill-color);\n",
              "      border-top-color: var(--fill-color);\n",
              "    }\n",
              "    30% {\n",
              "      border-color: transparent;\n",
              "      border-left-color: var(--fill-color);\n",
              "      border-top-color: var(--fill-color);\n",
              "      border-right-color: var(--fill-color);\n",
              "    }\n",
              "    40% {\n",
              "      border-color: transparent;\n",
              "      border-right-color: var(--fill-color);\n",
              "      border-top-color: var(--fill-color);\n",
              "    }\n",
              "    60% {\n",
              "      border-color: transparent;\n",
              "      border-right-color: var(--fill-color);\n",
              "    }\n",
              "    80% {\n",
              "      border-color: transparent;\n",
              "      border-right-color: var(--fill-color);\n",
              "      border-bottom-color: var(--fill-color);\n",
              "    }\n",
              "    90% {\n",
              "      border-color: transparent;\n",
              "      border-bottom-color: var(--fill-color);\n",
              "    }\n",
              "  }\n",
              "</style>\n",
              "\n",
              "  <script>\n",
              "    async function quickchart(key) {\n",
              "      const quickchartButtonEl =\n",
              "        document.querySelector('#' + key + ' button');\n",
              "      quickchartButtonEl.disabled = true;  // To prevent multiple clicks.\n",
              "      quickchartButtonEl.classList.add('colab-df-spinner');\n",
              "      try {\n",
              "        const charts = await google.colab.kernel.invokeFunction(\n",
              "            'suggestCharts', [key], {});\n",
              "      } catch (error) {\n",
              "        console.error('Error during call to suggestCharts:', error);\n",
              "      }\n",
              "      quickchartButtonEl.classList.remove('colab-df-spinner');\n",
              "      quickchartButtonEl.classList.add('colab-df-quickchart-complete');\n",
              "    }\n",
              "    (() => {\n",
              "      let quickchartButtonEl =\n",
              "        document.querySelector('#df-42e9fdae-9765-47be-b077-96567aa920da button');\n",
              "      quickchartButtonEl.style.display =\n",
              "        google.colab.kernel.accessAllowed ? 'block' : 'none';\n",
              "    })();\n",
              "  </script>\n",
              "</div>\n",
              "    </div>\n",
              "  </div>\n"
            ],
            "application/vnd.google.colaboratory.intrinsic+json": {
              "type": "dataframe",
              "variable_name": "df",
              "summary": "{\n  \"name\": \"df\",\n  \"rows\": 579,\n  \"fields\": [\n    {\n      \"column\": \"final_review\",\n      \"properties\": {\n        \"dtype\": \"category\",\n        \"num_unique_values\": 2,\n        \"samples\": [\n          \"negatif\",\n          \"positif\"\n        ],\n        \"semantic_type\": \"\",\n        \"description\": \"\"\n      }\n    },\n    {\n      \"column\": \"title\",\n      \"properties\": {\n        \"dtype\": \"string\",\n        \"num_unique_values\": 579,\n        \"samples\": [\n          \"Kades Sayambongin di Banggai Sebut Tudingan Penyimpangan Mengada-ada\",\n          \"Iman Pampawa Ajak Warga Banggai Menangkan Golkar Kabupaten sampai Pusat\"\n        ],\n        \"semantic_type\": \"\",\n        \"description\": \"\"\n      }\n    },\n    {\n      \"column\": \"text\",\n      \"properties\": {\n        \"dtype\": \"string\",\n        \"num_unique_values\": 572,\n        \"samples\": [\n          \"Polresbanggai.com\\u2013kapolres banggaiAKBP Ade Nuramdani, SH, SIK, MM menerima surat dari Pengurus Persatuan Sepak Bola Seluruh Indonesia (PSSI) terkait izin salah satu anggotanya untuk jadi wasit pada kompetisi Piala Soeratin U-17 di Jawa Timur.Izin tersebut diberikan kepada Bripka Arfandi Abdullah, selaku personel yang bertugas di Bagian SDMpolres banggai.\\u201cBripka Arfandi ditunjuk jadi wasit Piala Soeratin U-17, yang di gelar di Kota Surabaya, 20 Januari hingga 3 Februari 2024,\\u201d kata Kasi Humas Polres Banggai IPTU Al Amin S. Muda dalam keterangannya, Minggu (21/1/2024).Pada pertandingan perdana kemarin Sabtu (20/1/2024) bertempat di lapangan TOR Surabaya, Ia sukses memimpin jalannya pertandingan yang mempertemukan Provinsi Jambi melawan Provinsi Sulawesi Utara.Olahraga sepakbola bukan hal baru bagi Bripka Arfandi. Ia sudah mengenal sepakbola semenjak kecil. Bagaimana tidak, dari lingkungan keluarga sampai orang-orang disekitarnya bergelut dengan olahraga ini.Diketahui Bripka Arfandi memulai karir sebagai wasit nasional PSSI berlisensi C1 pada tahun 2018 dan beberapa event penting sudah dipercayakan kepadanya.Pada tahun 2019 lalu, ia dipilih secara langsung oleh PSSI Pusat untuk bertugas sebagai wasit di Liga satu antara PSM Makassar versus Persebaya Surabaya di Biak Papua*Humas Polres Banggai \",\n          \"\\u201cPenghargaan diterima langsung oleh Wakil Bupati Banggai\\u201dKABAR LUWUK  \\u2013Pemda BanggaiRaihPenghargaan K1S Awards 2023dari Kementerian Keuangan.Gubernur Sulawesi Tengah,H. Rusdi Mastura, membuka acaraprestisius K1S Awards 2023di Gedung Pogombo Kantor Gubernur, Sulawesi Tengah.Rabu 15/11/2023.Dalam kegiatan yang dihadiri olehWakil Bupati Banggai,Drs. H. Furqanuddin, M.M, serta para pemangku kepentingan dari seluruh kabupaten/kota,Forkopimda Provinsi,dan perwakilan Kementerian Keuangan, pemerintah daerah Banggai berhasil meraih penghargaan atas kontribusinya dalam pelaksanaan anggaran.Gubernur Mastura, dalam sambutannya, menyoroti sinergi dan kolaborasi dalam peningkatan pelayanan di Sulawesi Tengah. Hasil yang signifikan terlihat melalui pertumbuhan ekonomi sebesar 13,06 Persen Year On Year pada kuartal ketiga tahun 2023.Sektor industri pengolahan tumbuh pesat sebesar 27,9 persen, sementara ekspor barang dan jasa meningkat 23,23 persen.Gubernur mengapresiasi kerja keras semua pihak yang telah berkontribusi pada pencapaian ini.Wakil Bupati Banggai, Drs. H. Furqanuddin, M.M, menerima penghargaan dari Gubernur Mastura atas kontribusi Pemerintah Kabupaten Banggai dalam pelaksanaan anggaran di daerah.Prestasi ini menjadi bukti nyata bahwa kerja sama antara pemerintah daerah dan stakeholder lainnya mampu mengoptimalkan kinerja anggaran daerah.Peningkatan ekonomi yang signifikan di Sulawesi Tengah bukan hanya prestasi pemerintah provinsi tetapi juga hasil dari sinergi antara pemerintah kabupaten/kota.Penghargaan ini menjadi tonggak penting bagi Kabupaten Banggai, memperkuat posisinya dalam mendukung pertumbuhan ekonomi dan pelayanan publik di tingkat daerah.Dengan demikian, prestasi ini semakin menegaskan komitmen pemerintah daerah untuk terus berkontribusi dalam pembangunan Sulawesi Tengah yang lebih baik.**\"\n        ],\n        \"semantic_type\": \"\",\n        \"description\": \"\"\n      }\n    },\n    {\n      \"column\": \"lwr\",\n      \"properties\": {\n        \"dtype\": \"string\",\n        \"num_unique_values\": 572,\n        \"samples\": [\n          \"polresbanggai.com\\u2013kapolres banggaiakbp ade nuramdani, sh, sik, mm menerima surat dari pengurus persatuan sepak bola seluruh indonesia (pssi) terkait izin salah satu anggotanya untuk jadi wasit pada kompetisi piala soeratin u-17 di jawa timur.izin tersebut diberikan kepada bripka arfandi abdullah, selaku personel yang bertugas di bagian sdmpolres banggai.\\u201cbripka arfandi ditunjuk jadi wasit piala soeratin u-17, yang di gelar di kota surabaya, 20 januari hingga 3 februari 2024,\\u201d kata kasi humas polres banggai iptu al amin s. muda dalam keterangannya, minggu (21/1/2024).pada pertandingan perdana kemarin sabtu (20/1/2024) bertempat di lapangan tor surabaya, ia sukses memimpin jalannya pertandingan yang mempertemukan provinsi jambi melawan provinsi sulawesi utara.olahraga sepakbola bukan hal baru bagi bripka arfandi. ia sudah mengenal sepakbola semenjak kecil. bagaimana tidak, dari lingkungan keluarga sampai orang-orang disekitarnya bergelut dengan olahraga ini.diketahui bripka arfandi memulai karir sebagai wasit nasional pssi berlisensi c1 pada tahun 2018 dan beberapa event penting sudah dipercayakan kepadanya.pada tahun 2019 lalu, ia dipilih secara langsung oleh pssi pusat untuk bertugas sebagai wasit di liga satu antara psm makassar versus persebaya surabaya di biak papua*humas polres banggai \",\n          \"\\u201cpenghargaan diterima langsung oleh wakil bupati banggai\\u201dkabar luwuk  \\u2013pemda banggairaihpenghargaan k1s awards 2023dari kementerian keuangan.gubernur sulawesi tengah,h. rusdi mastura, membuka acaraprestisius k1s awards 2023di gedung pogombo kantor gubernur, sulawesi tengah.rabu 15/11/2023.dalam kegiatan yang dihadiri olehwakil bupati banggai,drs. h. furqanuddin, m.m, serta para pemangku kepentingan dari seluruh kabupaten/kota,forkopimda provinsi,dan perwakilan kementerian keuangan, pemerintah daerah banggai berhasil meraih penghargaan atas kontribusinya dalam pelaksanaan anggaran.gubernur mastura, dalam sambutannya, menyoroti sinergi dan kolaborasi dalam peningkatan pelayanan di sulawesi tengah. hasil yang signifikan terlihat melalui pertumbuhan ekonomi sebesar 13,06 persen year on year pada kuartal ketiga tahun 2023.sektor industri pengolahan tumbuh pesat sebesar 27,9 persen, sementara ekspor barang dan jasa meningkat 23,23 persen.gubernur mengapresiasi kerja keras semua pihak yang telah berkontribusi pada pencapaian ini.wakil bupati banggai, drs. h. furqanuddin, m.m, menerima penghargaan dari gubernur mastura atas kontribusi pemerintah kabupaten banggai dalam pelaksanaan anggaran di daerah.prestasi ini menjadi bukti nyata bahwa kerja sama antara pemerintah daerah dan stakeholder lainnya mampu mengoptimalkan kinerja anggaran daerah.peningkatan ekonomi yang signifikan di sulawesi tengah bukan hanya prestasi pemerintah provinsi tetapi juga hasil dari sinergi antara pemerintah kabupaten/kota.penghargaan ini menjadi tonggak penting bagi kabupaten banggai, memperkuat posisinya dalam mendukung pertumbuhan ekonomi dan pelayanan publik di tingkat daerah.dengan demikian, prestasi ini semakin menegaskan komitmen pemerintah daerah untuk terus berkontribusi dalam pembangunan sulawesi tengah yang lebih baik.**\"\n        ],\n        \"semantic_type\": \"\",\n        \"description\": \"\"\n      }\n    }\n  ]\n}"
            }
          },
          "metadata": {},
          "execution_count": 53
        }
      ]
    },
    {
      "cell_type": "code",
      "execution_count": null,
      "metadata": {
        "colab": {
          "base_uri": "https://localhost:8080/"
        },
        "id": "LHYbHbrvomiW",
        "outputId": "754aa17f-5c94-4ee2-9b57-fb6ed78e764c"
      },
      "outputs": [
        {
          "output_type": "stream",
          "name": "stdout",
          "text": [
            "KABAR LUWUK  –Dinas Sosial BanggaiSegera Salurkan 2.42 MiliarProgram Gercep Gaskan Berdaya2023.Dinas Sosial Kabupaten Banggaimenerima bantuan sebesar 2.42 miliar rupiah dalam program Gerak Cepat Pengentasan Kemiskinan Berbasis Pemberdayaan Masyarakat (GERCEP GASKAN BERDAYA).Bantuan ini ditujukan untuk 242 keluarga penerima manfaat di lima kecamatan, memberikan harapan bagi warga di Kecamatan Luwuk (35 KPM), Luwuk Selatan (28 KPM), Pagimana (95 KPM), Bunta (47 KPM), dan Nuhon (37 KPM). Selasa 28/11/2023.Kepala Dinas Sosial Kabupaten Banggai, Irpan Poma melalui Kepala Bidang Fakir Miskis,Ronald Putje,menyampaikan kepada media bahwa dana bantuan ini merupakan sumbangan langsung dari Pemerintah Provinsi Sulawesi Tengah.Dinas Sosial Kabupaten Banggai bertanggung jawab dalam memfasilitasi distribusi bantuan dan ikut serta dalam pengawasan ketat agar dana tersebut benar-benar sampai kepada penerima manfaat yang tepat.Data yang tersedia menunjukkan bahwa 242 Keluarga Penerima Manfaat yang terdiri dari Lima kecamatan di Kabupaten Banggai memenuhi kriteria untuk menerima bantuan ini.Dinas Sosial Kabupaten Banggai berharap bahwa bantuan ini akan memberikan bantuan nyata dan meringankan beban masyarakat yang membutuhkan.Bantuan ini tidak hanya sekadar alokasi dana, tetapi juga merupakan upaya konkret dalam upaya mengentaskan kemiskinan melalui pemberdayaan masyarakat.Semoga, dengan kuncuran dana ini, masyarakat penerima manfaat dapat merasakan dampak positifnya, membuka peluang baru, dan mengurangi tingkat kemiskinan di wilayah tersebut. Aksi ini menjadi bukti komitmen bersama dalam membangun kesejahteraan dan keadilan sosial di Kabupaten Banggai.Pemberian bantuan ini menjadi langkah strategis dalam mendukung pembangunan berkelanjutan di Kabupaten Banggai. Melalui program GERCEP GASKAN BERDAYA, pemerintah berusaha meningkatkan kesejahteraan masyarakat dengan cara yang berkelanjutan dan berbasis pada pemberdayaan.Dalam penyampaiannya,  Ronald Putje menekankan pentingnya sinergi antara pemerintah pusat, provinsi, dan kabupaten untuk mencapai hasil yang optimal.“Kami berupaya agar bantuan ini tidak hanya bersifat sekali waktu, tetapi juga mampu menciptakan dampak positif jangka panjang. Oleh karena itu, perlu adanya koordinasi yang baik dalam pelaksanaan program ini,” ujarnya.Bantuan ini diharapkan tidak hanya menjadi solusi sesaat, tetapi juga menciptakan perubahan struktural yang mampu meningkatkan kapasitas masyarakat penerima manfaat.Oleh karena itu, Dinas Sosial Kabupaten Banggai akan terus melakukan pemantauan dan evaluasi secara berkala guna memastikan bahwa bantuan tersebut benar-benar memberikan dampak yang positif.Sebagai bagian dari upaya bersama mengatasi kemiskinan, bantuan ini mencerminkan komitmen pemerintah dalam menciptakan inklusivitas sosial dan kesetaraan akses terhadap sumber daya.Dengan adanya bantuan ini, diharapkan masyarakat di Kabupaten Banggai dapat membangun kehidupan yang lebih baik, mandiri, dan berdaya.**Penulis : Imam Muslik ( Jurnalis )\n",
            "_______________________________________________________________________________________________________________\n",
            "kabar luwuk  –dinas sosial banggaisegera salurkan 2.42 miliarprogram gercep gaskan berdaya2023.dinas sosial kabupaten banggaimenerima bantuan sebesar 2.42 miliar rupiah dalam program gerak cepat pengentasan kemiskinan berbasis pemberdayaan masyarakat (gercep gaskan berdaya).bantuan ini ditujukan untuk 242 keluarga penerima manfaat di lima kecamatan, memberikan harapan bagi warga di kecamatan luwuk (35 kpm), luwuk selatan (28 kpm), pagimana (95 kpm), bunta (47 kpm), dan nuhon (37 kpm). selasa 28/11/2023.kepala dinas sosial kabupaten banggai, irpan poma melalui kepala bidang fakir miskis,ronald putje,menyampaikan kepada media bahwa dana bantuan ini merupakan sumbangan langsung dari pemerintah provinsi sulawesi tengah.dinas sosial kabupaten banggai bertanggung jawab dalam memfasilitasi distribusi bantuan dan ikut serta dalam pengawasan ketat agar dana tersebut benar-benar sampai kepada penerima manfaat yang tepat.data yang tersedia menunjukkan bahwa 242 keluarga penerima manfaat yang terdiri dari lima kecamatan di kabupaten banggai memenuhi kriteria untuk menerima bantuan ini.dinas sosial kabupaten banggai berharap bahwa bantuan ini akan memberikan bantuan nyata dan meringankan beban masyarakat yang membutuhkan.bantuan ini tidak hanya sekadar alokasi dana, tetapi juga merupakan upaya konkret dalam upaya mengentaskan kemiskinan melalui pemberdayaan masyarakat.semoga, dengan kuncuran dana ini, masyarakat penerima manfaat dapat merasakan dampak positifnya, membuka peluang baru, dan mengurangi tingkat kemiskinan di wilayah tersebut. aksi ini menjadi bukti komitmen bersama dalam membangun kesejahteraan dan keadilan sosial di kabupaten banggai.pemberian bantuan ini menjadi langkah strategis dalam mendukung pembangunan berkelanjutan di kabupaten banggai. melalui program gercep gaskan berdaya, pemerintah berusaha meningkatkan kesejahteraan masyarakat dengan cara yang berkelanjutan dan berbasis pada pemberdayaan.dalam penyampaiannya,  ronald putje menekankan pentingnya sinergi antara pemerintah pusat, provinsi, dan kabupaten untuk mencapai hasil yang optimal.“kami berupaya agar bantuan ini tidak hanya bersifat sekali waktu, tetapi juga mampu menciptakan dampak positif jangka panjang. oleh karena itu, perlu adanya koordinasi yang baik dalam pelaksanaan program ini,” ujarnya.bantuan ini diharapkan tidak hanya menjadi solusi sesaat, tetapi juga menciptakan perubahan struktural yang mampu meningkatkan kapasitas masyarakat penerima manfaat.oleh karena itu, dinas sosial kabupaten banggai akan terus melakukan pemantauan dan evaluasi secara berkala guna memastikan bahwa bantuan tersebut benar-benar memberikan dampak yang positif.sebagai bagian dari upaya bersama mengatasi kemiskinan, bantuan ini mencerminkan komitmen pemerintah dalam menciptakan inklusivitas sosial dan kesetaraan akses terhadap sumber daya.dengan adanya bantuan ini, diharapkan masyarakat di kabupaten banggai dapat membangun kehidupan yang lebih baik, mandiri, dan berdaya.**penulis : imam muslik ( jurnalis )\n"
          ]
        }
      ],
      "source": [
        "print(df['text'][30])\n",
        "print(\"_______________________________________________________________________________________________________________\")\n",
        "print(df['lwr'][30])"
      ]
    },
    {
      "cell_type": "markdown",
      "metadata": {
        "id": "skf-zcc5Ksrz"
      },
      "source": [
        "## Cleansing"
      ]
    },
    {
      "cell_type": "markdown",
      "metadata": {
        "id": "uqDcm6qIhpfo"
      },
      "source": [
        "### Remove Numbers"
      ]
    },
    {
      "cell_type": "code",
      "execution_count": null,
      "metadata": {
        "id": "BqdF07FkhrBN"
      },
      "outputs": [],
      "source": [
        "def remove_numbers(text):\n",
        "  text = re.sub('[0-9]+', '', text)\n",
        "  return text"
      ]
    },
    {
      "cell_type": "code",
      "execution_count": null,
      "metadata": {
        "colab": {
          "base_uri": "https://localhost:8080/"
        },
        "id": "g4JATB7_hrEu",
        "outputId": "08d446e7-7c8d-47fc-eb88-dbdac0527665"
      },
      "outputs": [
        {
          "output_type": "execute_result",
          "data": {
            "text/plain": [
              "0      kabar luwuk –  suasana pasar murah bersubsidi ...\n",
              "1      kabar luwuk  –  film horor“piara mayat”,kreati...\n",
              "2      kabar luwuk  –festival malabot tumbe kembali m...\n",
              "3      “kerja cepat dan terkoordinir dalam penerbitan...\n",
              "4      kabar luwuk  –bawaslu banggaiperkuat koordinas...\n",
              "                             ...                        \n",
              "574    banggai raya-satu gudang bahan aluminium di ja...\n",
              "575    laporan wartawan tribunpalu.com, asnawi zikri ...\n",
              "576    banggai raya-lebih  pebulutangkis dari kabupat...\n",
              "577    laporan wartawan tribunpalu.com, asnawi zikri ...\n",
              "578    laporan wartawan tribunpalu.com, asnawi zikri ...\n",
              "Name: clean_number, Length: 579, dtype: object"
            ]
          },
          "metadata": {},
          "execution_count": 59
        }
      ],
      "source": [
        "df['clean_number'] = df['lwr'].apply(remove_numbers)\n",
        "df['clean_number']"
      ]
    },
    {
      "cell_type": "code",
      "source": [
        "df.tail()"
      ],
      "metadata": {
        "id": "P7VjjWul1IIO",
        "colab": {
          "base_uri": "https://localhost:8080/"
        },
        "outputId": "d9302126-abe7-439b-c17b-21edfc08000d"
      },
      "execution_count": null,
      "outputs": [
        {
          "output_type": "execute_result",
          "data": {
            "text/plain": [
              "    final_review                                              title  \\\n",
              "574      negatif  Gudang Alumunium Kompleks Pertokoan Luwuk Terb...   \n",
              "575      positif  583 Peserta Ramaikan Turnamen Badminton di Ban...   \n",
              "576      negatif  Lebih 500 Pebulutangkis Berlaga di Open Turnam...   \n",
              "577      negatif  Demi Penuhi Kehidupan Sehari-hari, Pria di Ban...   \n",
              "578      negatif  Gudang Aluminium di Pertokoan Luwuk Banggai Te...   \n",
              "\n",
              "                                                  text  \\\n",
              "574  BANGGAI RAYA-Satu gudang bahan aluminium di Ja...   \n",
              "575  Laporan Wartawan TribunPalu.com, Asnawi Zikri ...   \n",
              "576  BANGGAI RAYA-Lebih 500 pebulutangkis dari kabu...   \n",
              "577  Laporan Wartawan TribunPalu.com, Asnawi Zikri ...   \n",
              "578  Laporan Wartawan TribunPalu.com, Asnawi Zikri ...   \n",
              "\n",
              "                                                   lwr  \\\n",
              "574  banggai raya-satu gudang bahan aluminium di ja...   \n",
              "575  laporan wartawan tribunpalu.com, asnawi zikri ...   \n",
              "576  banggai raya-lebih 500 pebulutangkis dari kabu...   \n",
              "577  laporan wartawan tribunpalu.com, asnawi zikri ...   \n",
              "578  laporan wartawan tribunpalu.com, asnawi zikri ...   \n",
              "\n",
              "                                          clean_number  \n",
              "574  banggai raya-satu gudang bahan aluminium di ja...  \n",
              "575  laporan wartawan tribunpalu.com, asnawi zikri ...  \n",
              "576  banggai raya-lebih  pebulutangkis dari kabupat...  \n",
              "577  laporan wartawan tribunpalu.com, asnawi zikri ...  \n",
              "578  laporan wartawan tribunpalu.com, asnawi zikri ...  "
            ],
            "text/html": [
              "\n",
              "  <div id=\"df-34707f15-99f4-434f-96e8-b813e33dae3a\" class=\"colab-df-container\">\n",
              "    <div>\n",
              "<style scoped>\n",
              "    .dataframe tbody tr th:only-of-type {\n",
              "        vertical-align: middle;\n",
              "    }\n",
              "\n",
              "    .dataframe tbody tr th {\n",
              "        vertical-align: top;\n",
              "    }\n",
              "\n",
              "    .dataframe thead th {\n",
              "        text-align: right;\n",
              "    }\n",
              "</style>\n",
              "<table border=\"1\" class=\"dataframe\">\n",
              "  <thead>\n",
              "    <tr style=\"text-align: right;\">\n",
              "      <th></th>\n",
              "      <th>final_review</th>\n",
              "      <th>title</th>\n",
              "      <th>text</th>\n",
              "      <th>lwr</th>\n",
              "      <th>clean_number</th>\n",
              "    </tr>\n",
              "  </thead>\n",
              "  <tbody>\n",
              "    <tr>\n",
              "      <th>574</th>\n",
              "      <td>negatif</td>\n",
              "      <td>Gudang Alumunium Kompleks Pertokoan Luwuk Terb...</td>\n",
              "      <td>BANGGAI RAYA-Satu gudang bahan aluminium di Ja...</td>\n",
              "      <td>banggai raya-satu gudang bahan aluminium di ja...</td>\n",
              "      <td>banggai raya-satu gudang bahan aluminium di ja...</td>\n",
              "    </tr>\n",
              "    <tr>\n",
              "      <th>575</th>\n",
              "      <td>positif</td>\n",
              "      <td>583 Peserta Ramaikan Turnamen Badminton di Ban...</td>\n",
              "      <td>Laporan Wartawan TribunPalu.com, Asnawi Zikri ...</td>\n",
              "      <td>laporan wartawan tribunpalu.com, asnawi zikri ...</td>\n",
              "      <td>laporan wartawan tribunpalu.com, asnawi zikri ...</td>\n",
              "    </tr>\n",
              "    <tr>\n",
              "      <th>576</th>\n",
              "      <td>negatif</td>\n",
              "      <td>Lebih 500 Pebulutangkis Berlaga di Open Turnam...</td>\n",
              "      <td>BANGGAI RAYA-Lebih 500 pebulutangkis dari kabu...</td>\n",
              "      <td>banggai raya-lebih 500 pebulutangkis dari kabu...</td>\n",
              "      <td>banggai raya-lebih  pebulutangkis dari kabupat...</td>\n",
              "    </tr>\n",
              "    <tr>\n",
              "      <th>577</th>\n",
              "      <td>negatif</td>\n",
              "      <td>Demi Penuhi Kehidupan Sehari-hari, Pria di Ban...</td>\n",
              "      <td>Laporan Wartawan TribunPalu.com, Asnawi Zikri ...</td>\n",
              "      <td>laporan wartawan tribunpalu.com, asnawi zikri ...</td>\n",
              "      <td>laporan wartawan tribunpalu.com, asnawi zikri ...</td>\n",
              "    </tr>\n",
              "    <tr>\n",
              "      <th>578</th>\n",
              "      <td>negatif</td>\n",
              "      <td>Gudang Aluminium di Pertokoan Luwuk Banggai Te...</td>\n",
              "      <td>Laporan Wartawan TribunPalu.com, Asnawi Zikri ...</td>\n",
              "      <td>laporan wartawan tribunpalu.com, asnawi zikri ...</td>\n",
              "      <td>laporan wartawan tribunpalu.com, asnawi zikri ...</td>\n",
              "    </tr>\n",
              "  </tbody>\n",
              "</table>\n",
              "</div>\n",
              "    <div class=\"colab-df-buttons\">\n",
              "\n",
              "  <div class=\"colab-df-container\">\n",
              "    <button class=\"colab-df-convert\" onclick=\"convertToInteractive('df-34707f15-99f4-434f-96e8-b813e33dae3a')\"\n",
              "            title=\"Convert this dataframe to an interactive table.\"\n",
              "            style=\"display:none;\">\n",
              "\n",
              "  <svg xmlns=\"http://www.w3.org/2000/svg\" height=\"24px\" viewBox=\"0 -960 960 960\">\n",
              "    <path d=\"M120-120v-720h720v720H120Zm60-500h600v-160H180v160Zm220 220h160v-160H400v160Zm0 220h160v-160H400v160ZM180-400h160v-160H180v160Zm440 0h160v-160H620v160ZM180-180h160v-160H180v160Zm440 0h160v-160H620v160Z\"/>\n",
              "  </svg>\n",
              "    </button>\n",
              "\n",
              "  <style>\n",
              "    .colab-df-container {\n",
              "      display:flex;\n",
              "      gap: 12px;\n",
              "    }\n",
              "\n",
              "    .colab-df-convert {\n",
              "      background-color: #E8F0FE;\n",
              "      border: none;\n",
              "      border-radius: 50%;\n",
              "      cursor: pointer;\n",
              "      display: none;\n",
              "      fill: #1967D2;\n",
              "      height: 32px;\n",
              "      padding: 0 0 0 0;\n",
              "      width: 32px;\n",
              "    }\n",
              "\n",
              "    .colab-df-convert:hover {\n",
              "      background-color: #E2EBFA;\n",
              "      box-shadow: 0px 1px 2px rgba(60, 64, 67, 0.3), 0px 1px 3px 1px rgba(60, 64, 67, 0.15);\n",
              "      fill: #174EA6;\n",
              "    }\n",
              "\n",
              "    .colab-df-buttons div {\n",
              "      margin-bottom: 4px;\n",
              "    }\n",
              "\n",
              "    [theme=dark] .colab-df-convert {\n",
              "      background-color: #3B4455;\n",
              "      fill: #D2E3FC;\n",
              "    }\n",
              "\n",
              "    [theme=dark] .colab-df-convert:hover {\n",
              "      background-color: #434B5C;\n",
              "      box-shadow: 0px 1px 3px 1px rgba(0, 0, 0, 0.15);\n",
              "      filter: drop-shadow(0px 1px 2px rgba(0, 0, 0, 0.3));\n",
              "      fill: #FFFFFF;\n",
              "    }\n",
              "  </style>\n",
              "\n",
              "    <script>\n",
              "      const buttonEl =\n",
              "        document.querySelector('#df-34707f15-99f4-434f-96e8-b813e33dae3a button.colab-df-convert');\n",
              "      buttonEl.style.display =\n",
              "        google.colab.kernel.accessAllowed ? 'block' : 'none';\n",
              "\n",
              "      async function convertToInteractive(key) {\n",
              "        const element = document.querySelector('#df-34707f15-99f4-434f-96e8-b813e33dae3a');\n",
              "        const dataTable =\n",
              "          await google.colab.kernel.invokeFunction('convertToInteractive',\n",
              "                                                    [key], {});\n",
              "        if (!dataTable) return;\n",
              "\n",
              "        const docLinkHtml = 'Like what you see? Visit the ' +\n",
              "          '<a target=\"_blank\" href=https://colab.research.google.com/notebooks/data_table.ipynb>data table notebook</a>'\n",
              "          + ' to learn more about interactive tables.';\n",
              "        element.innerHTML = '';\n",
              "        dataTable['output_type'] = 'display_data';\n",
              "        await google.colab.output.renderOutput(dataTable, element);\n",
              "        const docLink = document.createElement('div');\n",
              "        docLink.innerHTML = docLinkHtml;\n",
              "        element.appendChild(docLink);\n",
              "      }\n",
              "    </script>\n",
              "  </div>\n",
              "\n",
              "\n",
              "<div id=\"df-04b5aa41-eb99-46ab-9221-b539bbbcb50a\">\n",
              "  <button class=\"colab-df-quickchart\" onclick=\"quickchart('df-04b5aa41-eb99-46ab-9221-b539bbbcb50a')\"\n",
              "            title=\"Suggest charts\"\n",
              "            style=\"display:none;\">\n",
              "\n",
              "<svg xmlns=\"http://www.w3.org/2000/svg\" height=\"24px\"viewBox=\"0 0 24 24\"\n",
              "     width=\"24px\">\n",
              "    <g>\n",
              "        <path d=\"M19 3H5c-1.1 0-2 .9-2 2v14c0 1.1.9 2 2 2h14c1.1 0 2-.9 2-2V5c0-1.1-.9-2-2-2zM9 17H7v-7h2v7zm4 0h-2V7h2v10zm4 0h-2v-4h2v4z\"/>\n",
              "    </g>\n",
              "</svg>\n",
              "  </button>\n",
              "\n",
              "<style>\n",
              "  .colab-df-quickchart {\n",
              "      --bg-color: #E8F0FE;\n",
              "      --fill-color: #1967D2;\n",
              "      --hover-bg-color: #E2EBFA;\n",
              "      --hover-fill-color: #174EA6;\n",
              "      --disabled-fill-color: #AAA;\n",
              "      --disabled-bg-color: #DDD;\n",
              "  }\n",
              "\n",
              "  [theme=dark] .colab-df-quickchart {\n",
              "      --bg-color: #3B4455;\n",
              "      --fill-color: #D2E3FC;\n",
              "      --hover-bg-color: #434B5C;\n",
              "      --hover-fill-color: #FFFFFF;\n",
              "      --disabled-bg-color: #3B4455;\n",
              "      --disabled-fill-color: #666;\n",
              "  }\n",
              "\n",
              "  .colab-df-quickchart {\n",
              "    background-color: var(--bg-color);\n",
              "    border: none;\n",
              "    border-radius: 50%;\n",
              "    cursor: pointer;\n",
              "    display: none;\n",
              "    fill: var(--fill-color);\n",
              "    height: 32px;\n",
              "    padding: 0;\n",
              "    width: 32px;\n",
              "  }\n",
              "\n",
              "  .colab-df-quickchart:hover {\n",
              "    background-color: var(--hover-bg-color);\n",
              "    box-shadow: 0 1px 2px rgba(60, 64, 67, 0.3), 0 1px 3px 1px rgba(60, 64, 67, 0.15);\n",
              "    fill: var(--button-hover-fill-color);\n",
              "  }\n",
              "\n",
              "  .colab-df-quickchart-complete:disabled,\n",
              "  .colab-df-quickchart-complete:disabled:hover {\n",
              "    background-color: var(--disabled-bg-color);\n",
              "    fill: var(--disabled-fill-color);\n",
              "    box-shadow: none;\n",
              "  }\n",
              "\n",
              "  .colab-df-spinner {\n",
              "    border: 2px solid var(--fill-color);\n",
              "    border-color: transparent;\n",
              "    border-bottom-color: var(--fill-color);\n",
              "    animation:\n",
              "      spin 1s steps(1) infinite;\n",
              "  }\n",
              "\n",
              "  @keyframes spin {\n",
              "    0% {\n",
              "      border-color: transparent;\n",
              "      border-bottom-color: var(--fill-color);\n",
              "      border-left-color: var(--fill-color);\n",
              "    }\n",
              "    20% {\n",
              "      border-color: transparent;\n",
              "      border-left-color: var(--fill-color);\n",
              "      border-top-color: var(--fill-color);\n",
              "    }\n",
              "    30% {\n",
              "      border-color: transparent;\n",
              "      border-left-color: var(--fill-color);\n",
              "      border-top-color: var(--fill-color);\n",
              "      border-right-color: var(--fill-color);\n",
              "    }\n",
              "    40% {\n",
              "      border-color: transparent;\n",
              "      border-right-color: var(--fill-color);\n",
              "      border-top-color: var(--fill-color);\n",
              "    }\n",
              "    60% {\n",
              "      border-color: transparent;\n",
              "      border-right-color: var(--fill-color);\n",
              "    }\n",
              "    80% {\n",
              "      border-color: transparent;\n",
              "      border-right-color: var(--fill-color);\n",
              "      border-bottom-color: var(--fill-color);\n",
              "    }\n",
              "    90% {\n",
              "      border-color: transparent;\n",
              "      border-bottom-color: var(--fill-color);\n",
              "    }\n",
              "  }\n",
              "</style>\n",
              "\n",
              "  <script>\n",
              "    async function quickchart(key) {\n",
              "      const quickchartButtonEl =\n",
              "        document.querySelector('#' + key + ' button');\n",
              "      quickchartButtonEl.disabled = true;  // To prevent multiple clicks.\n",
              "      quickchartButtonEl.classList.add('colab-df-spinner');\n",
              "      try {\n",
              "        const charts = await google.colab.kernel.invokeFunction(\n",
              "            'suggestCharts', [key], {});\n",
              "      } catch (error) {\n",
              "        console.error('Error during call to suggestCharts:', error);\n",
              "      }\n",
              "      quickchartButtonEl.classList.remove('colab-df-spinner');\n",
              "      quickchartButtonEl.classList.add('colab-df-quickchart-complete');\n",
              "    }\n",
              "    (() => {\n",
              "      let quickchartButtonEl =\n",
              "        document.querySelector('#df-04b5aa41-eb99-46ab-9221-b539bbbcb50a button');\n",
              "      quickchartButtonEl.style.display =\n",
              "        google.colab.kernel.accessAllowed ? 'block' : 'none';\n",
              "    })();\n",
              "  </script>\n",
              "</div>\n",
              "    </div>\n",
              "  </div>\n"
            ],
            "application/vnd.google.colaboratory.intrinsic+json": {
              "type": "dataframe",
              "summary": "{\n  \"name\": \"df\",\n  \"rows\": 5,\n  \"fields\": [\n    {\n      \"column\": \"final_review\",\n      \"properties\": {\n        \"dtype\": \"category\",\n        \"num_unique_values\": 2,\n        \"samples\": [\n          \"positif\",\n          \"negatif\"\n        ],\n        \"semantic_type\": \"\",\n        \"description\": \"\"\n      }\n    },\n    {\n      \"column\": \"title\",\n      \"properties\": {\n        \"dtype\": \"string\",\n        \"num_unique_values\": 5,\n        \"samples\": [\n          \"583 Peserta Ramaikan Turnamen Badminton di Banggai, Perebutkan Hadiah Rp 40 Juta\",\n          \"Gudang Aluminium di Pertokoan Luwuk Banggai Terbakar, Beruntung Cepat Dipadamkan\"\n        ],\n        \"semantic_type\": \"\",\n        \"description\": \"\"\n      }\n    },\n    {\n      \"column\": \"text\",\n      \"properties\": {\n        \"dtype\": \"string\",\n        \"num_unique_values\": 5,\n        \"samples\": [\n          \"Laporan Wartawan TribunPalu.com, Asnawi Zikri TRIBUNPALU.COM, BANGGAI - Bupati Banggai, Amirudin, membuka acara Badminton Open Tournament Bupati Cup, di GOR Kilongan, Kecamatan Luwuk Utara, KabupatenBanggai , Sulawesi Tengah, Kamis (1/2/2024). Turnamen ini menjadi ajang yang dinantikan para pecinta bulu tangkis di KabupatenBanggai , serta menjadi wadah untuk menumbuhkan semangat kompetisi dan kebersamaan dalam olahraga. \\\"Pertama saya sangat bangga dengan antusias daripada atlet pada malam hari ini luar biasa kurang lebih 500 lebih peserta,\\\" tutur Bupati Amirudin. Karena antusiasme yang cukup besar, turnamen badminton ini direncanakan akan dilaksanakan setahun dua kali. \\\"Malam hari ini adalah putaran yang pertama, dan Insya Allah putaran keduanya kita laksanakan di bulan Juli,\\\" tandas Bupati Amirudin. Bupati Amirudin mengaku turnamen sangat penting karena sebagai ajang menyiapkan atlet muda KabupatenBanggai untuk bisa mewakili Sulawesi Tengah di ajang nasional. Sebab, turnamen kali ini tk hanya melibatkan atlet Banggai, tetapi juga diikuti atlet luar daerah \\\"Ini motivasi untuk kita semua melihat para atlet-atlet berprestasi sehingga ke depan adik-adik kita bisa mengikuti jejak mereka yang sebentar akan kita saksikan bersama,\\\" jelas Bupati Amirudin. Bupati Amirudin juga menyatakan junjung tinggi sportifitas, dan menjadikan turnamen ini tidak hanya sebagai ajang kompetisi, tetapi juga sebagai sarana memperkokoh persaudaraan di antara pecinta bulu tangkis KabupatenBanggai . Pada kesempatan yang sama, Ketua Panitia Badminton Open Tournament Bupati Cup, Ridwan T. Polopa menyampaikan adapun jumlah peserta berasal dari Kabupaten/Kota se Sulawesi Tengah sebanyak 583 peserta. \\\"Waktu pelaksanaan dimulai dari tanggal 1 sampai 4 Februari 2024,\\\" kata Ridwan Polopa. Para peserta akan memperebutkan hadiah sebesar Rp 40 juta. (*) \",\n          \"Laporan Wartawan TribunPalu.com, Asnawi Zikri TRIBUNPALU.COM, BANGGAI -Gudang bahan aluminium di Jl Teuku Umar Kompleks Pertokoan Kelurahan Luwuk, KabupatenBanggai , Sulawesi Tengah mengalami kebakaran, Jumat (2/2/2024) sekitar pukul 10.30 Wita. Plt. Kapolsek Luwuk AKP Steven Lewaherillah mengungkapkan, dari keterangan seorang saksi kbu Andui melihat kemunculan titik api di bagian samping bangunan gudang milik Donal Dusia (40). \\\"Titik api muncul dari tumpukan gabus ikan tepat di samping gudang,\\\" ungkapnya. AKP Steven menyebutkan bahwa saat itu saksi lain mendengar teriakan dan keluar melihat api sudah membesar di bagian samping gudang. Sehingga langsung menghubungi pemadam kebakaran. Beruntung, api cepat dipadamkan sehingga tidak meluas. \\\"Hanya bagian samping saja yang terbakar,\\\" kata AKP Steven. Ia menambahkan, kerugian material dalam peristiwa tersebut belum dapat dipastikan dan tidak ada korban jiwa. \\\"Dugaan penyebab kebakaran belum dipastikan. Anggota masih mengumpulkan keterangan saksi,\\\" kata dia. (*) \"\n        ],\n        \"semantic_type\": \"\",\n        \"description\": \"\"\n      }\n    },\n    {\n      \"column\": \"lwr\",\n      \"properties\": {\n        \"dtype\": \"string\",\n        \"num_unique_values\": 5,\n        \"samples\": [\n          \"laporan wartawan tribunpalu.com, asnawi zikri tribunpalu.com, banggai - bupati banggai, amirudin, membuka acara badminton open tournament bupati cup, di gor kilongan, kecamatan luwuk utara, kabupatenbanggai , sulawesi tengah, kamis (1/2/2024). turnamen ini menjadi ajang yang dinantikan para pecinta bulu tangkis di kabupatenbanggai , serta menjadi wadah untuk menumbuhkan semangat kompetisi dan kebersamaan dalam olahraga. \\\"pertama saya sangat bangga dengan antusias daripada atlet pada malam hari ini luar biasa kurang lebih 500 lebih peserta,\\\" tutur bupati amirudin. karena antusiasme yang cukup besar, turnamen badminton ini direncanakan akan dilaksanakan setahun dua kali. \\\"malam hari ini adalah putaran yang pertama, dan insya allah putaran keduanya kita laksanakan di bulan juli,\\\" tandas bupati amirudin. bupati amirudin mengaku turnamen sangat penting karena sebagai ajang menyiapkan atlet muda kabupatenbanggai untuk bisa mewakili sulawesi tengah di ajang nasional. sebab, turnamen kali ini tk hanya melibatkan atlet banggai, tetapi juga diikuti atlet luar daerah \\\"ini motivasi untuk kita semua melihat para atlet-atlet berprestasi sehingga ke depan adik-adik kita bisa mengikuti jejak mereka yang sebentar akan kita saksikan bersama,\\\" jelas bupati amirudin. bupati amirudin juga menyatakan junjung tinggi sportifitas, dan menjadikan turnamen ini tidak hanya sebagai ajang kompetisi, tetapi juga sebagai sarana memperkokoh persaudaraan di antara pecinta bulu tangkis kabupatenbanggai . pada kesempatan yang sama, ketua panitia badminton open tournament bupati cup, ridwan t. polopa menyampaikan adapun jumlah peserta berasal dari kabupaten/kota se sulawesi tengah sebanyak 583 peserta. \\\"waktu pelaksanaan dimulai dari tanggal 1 sampai 4 februari 2024,\\\" kata ridwan polopa. para peserta akan memperebutkan hadiah sebesar rp 40 juta. (*) \",\n          \"laporan wartawan tribunpalu.com, asnawi zikri tribunpalu.com, banggai -gudang bahan aluminium di jl teuku umar kompleks pertokoan kelurahan luwuk, kabupatenbanggai , sulawesi tengah mengalami kebakaran, jumat (2/2/2024) sekitar pukul 10.30 wita. plt. kapolsek luwuk akp steven lewaherillah mengungkapkan, dari keterangan seorang saksi kbu andui melihat kemunculan titik api di bagian samping bangunan gudang milik donal dusia (40). \\\"titik api muncul dari tumpukan gabus ikan tepat di samping gudang,\\\" ungkapnya. akp steven menyebutkan bahwa saat itu saksi lain mendengar teriakan dan keluar melihat api sudah membesar di bagian samping gudang. sehingga langsung menghubungi pemadam kebakaran. beruntung, api cepat dipadamkan sehingga tidak meluas. \\\"hanya bagian samping saja yang terbakar,\\\" kata akp steven. ia menambahkan, kerugian material dalam peristiwa tersebut belum dapat dipastikan dan tidak ada korban jiwa. \\\"dugaan penyebab kebakaran belum dipastikan. anggota masih mengumpulkan keterangan saksi,\\\" kata dia. (*) \"\n        ],\n        \"semantic_type\": \"\",\n        \"description\": \"\"\n      }\n    },\n    {\n      \"column\": \"clean_number\",\n      \"properties\": {\n        \"dtype\": \"string\",\n        \"num_unique_values\": 5,\n        \"samples\": [\n          \"laporan wartawan tribunpalu.com, asnawi zikri tribunpalu.com, banggai - bupati banggai, amirudin, membuka acara badminton open tournament bupati cup, di gor kilongan, kecamatan luwuk utara, kabupatenbanggai , sulawesi tengah, kamis (//). turnamen ini menjadi ajang yang dinantikan para pecinta bulu tangkis di kabupatenbanggai , serta menjadi wadah untuk menumbuhkan semangat kompetisi dan kebersamaan dalam olahraga. \\\"pertama saya sangat bangga dengan antusias daripada atlet pada malam hari ini luar biasa kurang lebih  lebih peserta,\\\" tutur bupati amirudin. karena antusiasme yang cukup besar, turnamen badminton ini direncanakan akan dilaksanakan setahun dua kali. \\\"malam hari ini adalah putaran yang pertama, dan insya allah putaran keduanya kita laksanakan di bulan juli,\\\" tandas bupati amirudin. bupati amirudin mengaku turnamen sangat penting karena sebagai ajang menyiapkan atlet muda kabupatenbanggai untuk bisa mewakili sulawesi tengah di ajang nasional. sebab, turnamen kali ini tk hanya melibatkan atlet banggai, tetapi juga diikuti atlet luar daerah \\\"ini motivasi untuk kita semua melihat para atlet-atlet berprestasi sehingga ke depan adik-adik kita bisa mengikuti jejak mereka yang sebentar akan kita saksikan bersama,\\\" jelas bupati amirudin. bupati amirudin juga menyatakan junjung tinggi sportifitas, dan menjadikan turnamen ini tidak hanya sebagai ajang kompetisi, tetapi juga sebagai sarana memperkokoh persaudaraan di antara pecinta bulu tangkis kabupatenbanggai . pada kesempatan yang sama, ketua panitia badminton open tournament bupati cup, ridwan t. polopa menyampaikan adapun jumlah peserta berasal dari kabupaten/kota se sulawesi tengah sebanyak  peserta. \\\"waktu pelaksanaan dimulai dari tanggal  sampai  februari ,\\\" kata ridwan polopa. para peserta akan memperebutkan hadiah sebesar rp  juta. (*) \",\n          \"laporan wartawan tribunpalu.com, asnawi zikri tribunpalu.com, banggai -gudang bahan aluminium di jl teuku umar kompleks pertokoan kelurahan luwuk, kabupatenbanggai , sulawesi tengah mengalami kebakaran, jumat (//) sekitar pukul . wita. plt. kapolsek luwuk akp steven lewaherillah mengungkapkan, dari keterangan seorang saksi kbu andui melihat kemunculan titik api di bagian samping bangunan gudang milik donal dusia (). \\\"titik api muncul dari tumpukan gabus ikan tepat di samping gudang,\\\" ungkapnya. akp steven menyebutkan bahwa saat itu saksi lain mendengar teriakan dan keluar melihat api sudah membesar di bagian samping gudang. sehingga langsung menghubungi pemadam kebakaran. beruntung, api cepat dipadamkan sehingga tidak meluas. \\\"hanya bagian samping saja yang terbakar,\\\" kata akp steven. ia menambahkan, kerugian material dalam peristiwa tersebut belum dapat dipastikan dan tidak ada korban jiwa. \\\"dugaan penyebab kebakaran belum dipastikan. anggota masih mengumpulkan keterangan saksi,\\\" kata dia. (*) \"\n        ],\n        \"semantic_type\": \"\",\n        \"description\": \"\"\n      }\n    }\n  ]\n}"
            }
          },
          "metadata": {},
          "execution_count": 60
        }
      ]
    },
    {
      "cell_type": "markdown",
      "metadata": {
        "id": "BgnmFGgbeM4o"
      },
      "source": [
        "### Remove Punctuation"
      ]
    },
    {
      "cell_type": "code",
      "execution_count": null,
      "metadata": {
        "id": "E17l7Edmdaf3"
      },
      "outputs": [],
      "source": [
        "#Remove Puncutuation\n",
        "clean_spcl = re.compile('[/(){}\\[\\]\\|@,;]')\n",
        "clean_symbol = re.compile('[^0-9a-z]')\n",
        "def clean_punct(text):\n",
        "    text = clean_spcl.sub('', text)\n",
        "    text = clean_symbol.sub(' ', text)\n",
        "    return text"
      ]
    },
    {
      "cell_type": "code",
      "execution_count": null,
      "metadata": {
        "colab": {
          "base_uri": "https://localhost:8080/"
        },
        "id": "8f1YgOnOeHJs",
        "outputId": "1d50b906-214b-4086-f298-8e2694edc5e5"
      },
      "outputs": [
        {
          "output_type": "execute_result",
          "data": {
            "text/plain": [
              "0      kabar luwuk    suasana pasar murah bersubsidi ...\n",
              "1      kabar luwuk     film horor piara mayat kreativ...\n",
              "2      kabar luwuk   festival malabot tumbe kembali m...\n",
              "3       kerja cepat dan terkoordinir dalam penerbitan...\n",
              "4      kabar luwuk   bawaslu banggaiperkuat koordinas...\n",
              "                             ...                        \n",
              "574    banggai raya satu gudang bahan aluminium di ja...\n",
              "575    laporan wartawan tribunpalu com asnawi zikri t...\n",
              "576    banggai raya lebih  pebulutangkis dari kabupat...\n",
              "577    laporan wartawan tribunpalu com asnawi zikri t...\n",
              "578    laporan wartawan tribunpalu com asnawi zikri t...\n",
              "Name: clean_punct, Length: 579, dtype: object"
            ]
          },
          "metadata": {},
          "execution_count": 62
        }
      ],
      "source": [
        "# Buat kolom tambahan untuk data description yang telah diremovepunctuation\n",
        "df['clean_punct'] = df['clean_number'].apply(clean_punct)\n",
        "df['clean_punct']"
      ]
    },
    {
      "cell_type": "code",
      "source": [
        "df.head()\n"
      ],
      "metadata": {
        "id": "vMKcQy2K_Jbc",
        "colab": {
          "base_uri": "https://localhost:8080/"
        },
        "outputId": "f87131cd-c20b-4f70-f885-cc355e72367e"
      },
      "execution_count": null,
      "outputs": [
        {
          "output_type": "execute_result",
          "data": {
            "text/plain": [
              "  final_review                                              title  \\\n",
              "0      positif  Mobil Sim Keliling Polres Banggai Meriahkan Pa...   \n",
              "1      positif  Film Horor “Piara Mayat”,  Kreativitas Anak Mu...   \n",
              "2      positif  Festival Malabot Tumbe 2023 Kembali Meriahkan ...   \n",
              "3      positif  Rakor Kampanye Damai Pemilu 2024, Polres Bangg...   \n",
              "4      positif  Bawaslu Banggai Perkuat Koordinasi dengan Panw...   \n",
              "\n",
              "                                                text  \\\n",
              "0  KABAR LUWUK –  Suasana Pasar Murah bersubsidi ...   \n",
              "1  KABAR LUWUK  –  Film Horor“Piara Mayat”,Kreati...   \n",
              "2  KABAR LUWUK  –Festival Malabot Tumbe 2023Kemba...   \n",
              "3  “Kerja Cepat dan Terkoordinir dalam Penerbitan...   \n",
              "4  KABAR LUWUK  –Bawaslu BanggaiPerkuat Koordinas...   \n",
              "\n",
              "                                                 lwr  \\\n",
              "0  kabar luwuk –  suasana pasar murah bersubsidi ...   \n",
              "1  kabar luwuk  –  film horor“piara mayat”,kreati...   \n",
              "2  kabar luwuk  –festival malabot tumbe 2023kemba...   \n",
              "3  “kerja cepat dan terkoordinir dalam penerbitan...   \n",
              "4  kabar luwuk  –bawaslu banggaiperkuat koordinas...   \n",
              "\n",
              "                                        clean_number  \\\n",
              "0  kabar luwuk –  suasana pasar murah bersubsidi ...   \n",
              "1  kabar luwuk  –  film horor“piara mayat”,kreati...   \n",
              "2  kabar luwuk  –festival malabot tumbe kembali m...   \n",
              "3  “kerja cepat dan terkoordinir dalam penerbitan...   \n",
              "4  kabar luwuk  –bawaslu banggaiperkuat koordinas...   \n",
              "\n",
              "                                         clean_punct  \n",
              "0  kabar luwuk    suasana pasar murah bersubsidi ...  \n",
              "1  kabar luwuk     film horor piara mayat kreativ...  \n",
              "2  kabar luwuk   festival malabot tumbe kembali m...  \n",
              "3   kerja cepat dan terkoordinir dalam penerbitan...  \n",
              "4  kabar luwuk   bawaslu banggaiperkuat koordinas...  "
            ],
            "text/html": [
              "\n",
              "  <div id=\"df-3385d97a-0442-45b3-8396-4d463ad6d3b3\" class=\"colab-df-container\">\n",
              "    <div>\n",
              "<style scoped>\n",
              "    .dataframe tbody tr th:only-of-type {\n",
              "        vertical-align: middle;\n",
              "    }\n",
              "\n",
              "    .dataframe tbody tr th {\n",
              "        vertical-align: top;\n",
              "    }\n",
              "\n",
              "    .dataframe thead th {\n",
              "        text-align: right;\n",
              "    }\n",
              "</style>\n",
              "<table border=\"1\" class=\"dataframe\">\n",
              "  <thead>\n",
              "    <tr style=\"text-align: right;\">\n",
              "      <th></th>\n",
              "      <th>final_review</th>\n",
              "      <th>title</th>\n",
              "      <th>text</th>\n",
              "      <th>lwr</th>\n",
              "      <th>clean_number</th>\n",
              "      <th>clean_punct</th>\n",
              "    </tr>\n",
              "  </thead>\n",
              "  <tbody>\n",
              "    <tr>\n",
              "      <th>0</th>\n",
              "      <td>positif</td>\n",
              "      <td>Mobil Sim Keliling Polres Banggai Meriahkan Pa...</td>\n",
              "      <td>KABAR LUWUK –  Suasana Pasar Murah bersubsidi ...</td>\n",
              "      <td>kabar luwuk –  suasana pasar murah bersubsidi ...</td>\n",
              "      <td>kabar luwuk –  suasana pasar murah bersubsidi ...</td>\n",
              "      <td>kabar luwuk    suasana pasar murah bersubsidi ...</td>\n",
              "    </tr>\n",
              "    <tr>\n",
              "      <th>1</th>\n",
              "      <td>positif</td>\n",
              "      <td>Film Horor “Piara Mayat”,  Kreativitas Anak Mu...</td>\n",
              "      <td>KABAR LUWUK  –  Film Horor“Piara Mayat”,Kreati...</td>\n",
              "      <td>kabar luwuk  –  film horor“piara mayat”,kreati...</td>\n",
              "      <td>kabar luwuk  –  film horor“piara mayat”,kreati...</td>\n",
              "      <td>kabar luwuk     film horor piara mayat kreativ...</td>\n",
              "    </tr>\n",
              "    <tr>\n",
              "      <th>2</th>\n",
              "      <td>positif</td>\n",
              "      <td>Festival Malabot Tumbe 2023 Kembali Meriahkan ...</td>\n",
              "      <td>KABAR LUWUK  –Festival Malabot Tumbe 2023Kemba...</td>\n",
              "      <td>kabar luwuk  –festival malabot tumbe 2023kemba...</td>\n",
              "      <td>kabar luwuk  –festival malabot tumbe kembali m...</td>\n",
              "      <td>kabar luwuk   festival malabot tumbe kembali m...</td>\n",
              "    </tr>\n",
              "    <tr>\n",
              "      <th>3</th>\n",
              "      <td>positif</td>\n",
              "      <td>Rakor Kampanye Damai Pemilu 2024, Polres Bangg...</td>\n",
              "      <td>“Kerja Cepat dan Terkoordinir dalam Penerbitan...</td>\n",
              "      <td>“kerja cepat dan terkoordinir dalam penerbitan...</td>\n",
              "      <td>“kerja cepat dan terkoordinir dalam penerbitan...</td>\n",
              "      <td>kerja cepat dan terkoordinir dalam penerbitan...</td>\n",
              "    </tr>\n",
              "    <tr>\n",
              "      <th>4</th>\n",
              "      <td>positif</td>\n",
              "      <td>Bawaslu Banggai Perkuat Koordinasi dengan Panw...</td>\n",
              "      <td>KABAR LUWUK  –Bawaslu BanggaiPerkuat Koordinas...</td>\n",
              "      <td>kabar luwuk  –bawaslu banggaiperkuat koordinas...</td>\n",
              "      <td>kabar luwuk  –bawaslu banggaiperkuat koordinas...</td>\n",
              "      <td>kabar luwuk   bawaslu banggaiperkuat koordinas...</td>\n",
              "    </tr>\n",
              "  </tbody>\n",
              "</table>\n",
              "</div>\n",
              "    <div class=\"colab-df-buttons\">\n",
              "\n",
              "  <div class=\"colab-df-container\">\n",
              "    <button class=\"colab-df-convert\" onclick=\"convertToInteractive('df-3385d97a-0442-45b3-8396-4d463ad6d3b3')\"\n",
              "            title=\"Convert this dataframe to an interactive table.\"\n",
              "            style=\"display:none;\">\n",
              "\n",
              "  <svg xmlns=\"http://www.w3.org/2000/svg\" height=\"24px\" viewBox=\"0 -960 960 960\">\n",
              "    <path d=\"M120-120v-720h720v720H120Zm60-500h600v-160H180v160Zm220 220h160v-160H400v160Zm0 220h160v-160H400v160ZM180-400h160v-160H180v160Zm440 0h160v-160H620v160ZM180-180h160v-160H180v160Zm440 0h160v-160H620v160Z\"/>\n",
              "  </svg>\n",
              "    </button>\n",
              "\n",
              "  <style>\n",
              "    .colab-df-container {\n",
              "      display:flex;\n",
              "      gap: 12px;\n",
              "    }\n",
              "\n",
              "    .colab-df-convert {\n",
              "      background-color: #E8F0FE;\n",
              "      border: none;\n",
              "      border-radius: 50%;\n",
              "      cursor: pointer;\n",
              "      display: none;\n",
              "      fill: #1967D2;\n",
              "      height: 32px;\n",
              "      padding: 0 0 0 0;\n",
              "      width: 32px;\n",
              "    }\n",
              "\n",
              "    .colab-df-convert:hover {\n",
              "      background-color: #E2EBFA;\n",
              "      box-shadow: 0px 1px 2px rgba(60, 64, 67, 0.3), 0px 1px 3px 1px rgba(60, 64, 67, 0.15);\n",
              "      fill: #174EA6;\n",
              "    }\n",
              "\n",
              "    .colab-df-buttons div {\n",
              "      margin-bottom: 4px;\n",
              "    }\n",
              "\n",
              "    [theme=dark] .colab-df-convert {\n",
              "      background-color: #3B4455;\n",
              "      fill: #D2E3FC;\n",
              "    }\n",
              "\n",
              "    [theme=dark] .colab-df-convert:hover {\n",
              "      background-color: #434B5C;\n",
              "      box-shadow: 0px 1px 3px 1px rgba(0, 0, 0, 0.15);\n",
              "      filter: drop-shadow(0px 1px 2px rgba(0, 0, 0, 0.3));\n",
              "      fill: #FFFFFF;\n",
              "    }\n",
              "  </style>\n",
              "\n",
              "    <script>\n",
              "      const buttonEl =\n",
              "        document.querySelector('#df-3385d97a-0442-45b3-8396-4d463ad6d3b3 button.colab-df-convert');\n",
              "      buttonEl.style.display =\n",
              "        google.colab.kernel.accessAllowed ? 'block' : 'none';\n",
              "\n",
              "      async function convertToInteractive(key) {\n",
              "        const element = document.querySelector('#df-3385d97a-0442-45b3-8396-4d463ad6d3b3');\n",
              "        const dataTable =\n",
              "          await google.colab.kernel.invokeFunction('convertToInteractive',\n",
              "                                                    [key], {});\n",
              "        if (!dataTable) return;\n",
              "\n",
              "        const docLinkHtml = 'Like what you see? Visit the ' +\n",
              "          '<a target=\"_blank\" href=https://colab.research.google.com/notebooks/data_table.ipynb>data table notebook</a>'\n",
              "          + ' to learn more about interactive tables.';\n",
              "        element.innerHTML = '';\n",
              "        dataTable['output_type'] = 'display_data';\n",
              "        await google.colab.output.renderOutput(dataTable, element);\n",
              "        const docLink = document.createElement('div');\n",
              "        docLink.innerHTML = docLinkHtml;\n",
              "        element.appendChild(docLink);\n",
              "      }\n",
              "    </script>\n",
              "  </div>\n",
              "\n",
              "\n",
              "<div id=\"df-c8de58e4-6ad4-4091-adcf-9e555a692ac9\">\n",
              "  <button class=\"colab-df-quickchart\" onclick=\"quickchart('df-c8de58e4-6ad4-4091-adcf-9e555a692ac9')\"\n",
              "            title=\"Suggest charts\"\n",
              "            style=\"display:none;\">\n",
              "\n",
              "<svg xmlns=\"http://www.w3.org/2000/svg\" height=\"24px\"viewBox=\"0 0 24 24\"\n",
              "     width=\"24px\">\n",
              "    <g>\n",
              "        <path d=\"M19 3H5c-1.1 0-2 .9-2 2v14c0 1.1.9 2 2 2h14c1.1 0 2-.9 2-2V5c0-1.1-.9-2-2-2zM9 17H7v-7h2v7zm4 0h-2V7h2v10zm4 0h-2v-4h2v4z\"/>\n",
              "    </g>\n",
              "</svg>\n",
              "  </button>\n",
              "\n",
              "<style>\n",
              "  .colab-df-quickchart {\n",
              "      --bg-color: #E8F0FE;\n",
              "      --fill-color: #1967D2;\n",
              "      --hover-bg-color: #E2EBFA;\n",
              "      --hover-fill-color: #174EA6;\n",
              "      --disabled-fill-color: #AAA;\n",
              "      --disabled-bg-color: #DDD;\n",
              "  }\n",
              "\n",
              "  [theme=dark] .colab-df-quickchart {\n",
              "      --bg-color: #3B4455;\n",
              "      --fill-color: #D2E3FC;\n",
              "      --hover-bg-color: #434B5C;\n",
              "      --hover-fill-color: #FFFFFF;\n",
              "      --disabled-bg-color: #3B4455;\n",
              "      --disabled-fill-color: #666;\n",
              "  }\n",
              "\n",
              "  .colab-df-quickchart {\n",
              "    background-color: var(--bg-color);\n",
              "    border: none;\n",
              "    border-radius: 50%;\n",
              "    cursor: pointer;\n",
              "    display: none;\n",
              "    fill: var(--fill-color);\n",
              "    height: 32px;\n",
              "    padding: 0;\n",
              "    width: 32px;\n",
              "  }\n",
              "\n",
              "  .colab-df-quickchart:hover {\n",
              "    background-color: var(--hover-bg-color);\n",
              "    box-shadow: 0 1px 2px rgba(60, 64, 67, 0.3), 0 1px 3px 1px rgba(60, 64, 67, 0.15);\n",
              "    fill: var(--button-hover-fill-color);\n",
              "  }\n",
              "\n",
              "  .colab-df-quickchart-complete:disabled,\n",
              "  .colab-df-quickchart-complete:disabled:hover {\n",
              "    background-color: var(--disabled-bg-color);\n",
              "    fill: var(--disabled-fill-color);\n",
              "    box-shadow: none;\n",
              "  }\n",
              "\n",
              "  .colab-df-spinner {\n",
              "    border: 2px solid var(--fill-color);\n",
              "    border-color: transparent;\n",
              "    border-bottom-color: var(--fill-color);\n",
              "    animation:\n",
              "      spin 1s steps(1) infinite;\n",
              "  }\n",
              "\n",
              "  @keyframes spin {\n",
              "    0% {\n",
              "      border-color: transparent;\n",
              "      border-bottom-color: var(--fill-color);\n",
              "      border-left-color: var(--fill-color);\n",
              "    }\n",
              "    20% {\n",
              "      border-color: transparent;\n",
              "      border-left-color: var(--fill-color);\n",
              "      border-top-color: var(--fill-color);\n",
              "    }\n",
              "    30% {\n",
              "      border-color: transparent;\n",
              "      border-left-color: var(--fill-color);\n",
              "      border-top-color: var(--fill-color);\n",
              "      border-right-color: var(--fill-color);\n",
              "    }\n",
              "    40% {\n",
              "      border-color: transparent;\n",
              "      border-right-color: var(--fill-color);\n",
              "      border-top-color: var(--fill-color);\n",
              "    }\n",
              "    60% {\n",
              "      border-color: transparent;\n",
              "      border-right-color: var(--fill-color);\n",
              "    }\n",
              "    80% {\n",
              "      border-color: transparent;\n",
              "      border-right-color: var(--fill-color);\n",
              "      border-bottom-color: var(--fill-color);\n",
              "    }\n",
              "    90% {\n",
              "      border-color: transparent;\n",
              "      border-bottom-color: var(--fill-color);\n",
              "    }\n",
              "  }\n",
              "</style>\n",
              "\n",
              "  <script>\n",
              "    async function quickchart(key) {\n",
              "      const quickchartButtonEl =\n",
              "        document.querySelector('#' + key + ' button');\n",
              "      quickchartButtonEl.disabled = true;  // To prevent multiple clicks.\n",
              "      quickchartButtonEl.classList.add('colab-df-spinner');\n",
              "      try {\n",
              "        const charts = await google.colab.kernel.invokeFunction(\n",
              "            'suggestCharts', [key], {});\n",
              "      } catch (error) {\n",
              "        console.error('Error during call to suggestCharts:', error);\n",
              "      }\n",
              "      quickchartButtonEl.classList.remove('colab-df-spinner');\n",
              "      quickchartButtonEl.classList.add('colab-df-quickchart-complete');\n",
              "    }\n",
              "    (() => {\n",
              "      let quickchartButtonEl =\n",
              "        document.querySelector('#df-c8de58e4-6ad4-4091-adcf-9e555a692ac9 button');\n",
              "      quickchartButtonEl.style.display =\n",
              "        google.colab.kernel.accessAllowed ? 'block' : 'none';\n",
              "    })();\n",
              "  </script>\n",
              "</div>\n",
              "    </div>\n",
              "  </div>\n"
            ],
            "application/vnd.google.colaboratory.intrinsic+json": {
              "type": "dataframe",
              "variable_name": "df",
              "summary": "{\n  \"name\": \"df\",\n  \"rows\": 579,\n  \"fields\": [\n    {\n      \"column\": \"final_review\",\n      \"properties\": {\n        \"dtype\": \"category\",\n        \"num_unique_values\": 2,\n        \"samples\": [\n          \"negatif\",\n          \"positif\"\n        ],\n        \"semantic_type\": \"\",\n        \"description\": \"\"\n      }\n    },\n    {\n      \"column\": \"title\",\n      \"properties\": {\n        \"dtype\": \"string\",\n        \"num_unique_values\": 579,\n        \"samples\": [\n          \"Kades Sayambongin di Banggai Sebut Tudingan Penyimpangan Mengada-ada\",\n          \"Iman Pampawa Ajak Warga Banggai Menangkan Golkar Kabupaten sampai Pusat\"\n        ],\n        \"semantic_type\": \"\",\n        \"description\": \"\"\n      }\n    },\n    {\n      \"column\": \"text\",\n      \"properties\": {\n        \"dtype\": \"string\",\n        \"num_unique_values\": 572,\n        \"samples\": [\n          \"Polresbanggai.com\\u2013kapolres banggaiAKBP Ade Nuramdani, SH, SIK, MM menerima surat dari Pengurus Persatuan Sepak Bola Seluruh Indonesia (PSSI) terkait izin salah satu anggotanya untuk jadi wasit pada kompetisi Piala Soeratin U-17 di Jawa Timur.Izin tersebut diberikan kepada Bripka Arfandi Abdullah, selaku personel yang bertugas di Bagian SDMpolres banggai.\\u201cBripka Arfandi ditunjuk jadi wasit Piala Soeratin U-17, yang di gelar di Kota Surabaya, 20 Januari hingga 3 Februari 2024,\\u201d kata Kasi Humas Polres Banggai IPTU Al Amin S. Muda dalam keterangannya, Minggu (21/1/2024).Pada pertandingan perdana kemarin Sabtu (20/1/2024) bertempat di lapangan TOR Surabaya, Ia sukses memimpin jalannya pertandingan yang mempertemukan Provinsi Jambi melawan Provinsi Sulawesi Utara.Olahraga sepakbola bukan hal baru bagi Bripka Arfandi. Ia sudah mengenal sepakbola semenjak kecil. Bagaimana tidak, dari lingkungan keluarga sampai orang-orang disekitarnya bergelut dengan olahraga ini.Diketahui Bripka Arfandi memulai karir sebagai wasit nasional PSSI berlisensi C1 pada tahun 2018 dan beberapa event penting sudah dipercayakan kepadanya.Pada tahun 2019 lalu, ia dipilih secara langsung oleh PSSI Pusat untuk bertugas sebagai wasit di Liga satu antara PSM Makassar versus Persebaya Surabaya di Biak Papua*Humas Polres Banggai \",\n          \"\\u201cPenghargaan diterima langsung oleh Wakil Bupati Banggai\\u201dKABAR LUWUK  \\u2013Pemda BanggaiRaihPenghargaan K1S Awards 2023dari Kementerian Keuangan.Gubernur Sulawesi Tengah,H. Rusdi Mastura, membuka acaraprestisius K1S Awards 2023di Gedung Pogombo Kantor Gubernur, Sulawesi Tengah.Rabu 15/11/2023.Dalam kegiatan yang dihadiri olehWakil Bupati Banggai,Drs. H. Furqanuddin, M.M, serta para pemangku kepentingan dari seluruh kabupaten/kota,Forkopimda Provinsi,dan perwakilan Kementerian Keuangan, pemerintah daerah Banggai berhasil meraih penghargaan atas kontribusinya dalam pelaksanaan anggaran.Gubernur Mastura, dalam sambutannya, menyoroti sinergi dan kolaborasi dalam peningkatan pelayanan di Sulawesi Tengah. Hasil yang signifikan terlihat melalui pertumbuhan ekonomi sebesar 13,06 Persen Year On Year pada kuartal ketiga tahun 2023.Sektor industri pengolahan tumbuh pesat sebesar 27,9 persen, sementara ekspor barang dan jasa meningkat 23,23 persen.Gubernur mengapresiasi kerja keras semua pihak yang telah berkontribusi pada pencapaian ini.Wakil Bupati Banggai, Drs. H. Furqanuddin, M.M, menerima penghargaan dari Gubernur Mastura atas kontribusi Pemerintah Kabupaten Banggai dalam pelaksanaan anggaran di daerah.Prestasi ini menjadi bukti nyata bahwa kerja sama antara pemerintah daerah dan stakeholder lainnya mampu mengoptimalkan kinerja anggaran daerah.Peningkatan ekonomi yang signifikan di Sulawesi Tengah bukan hanya prestasi pemerintah provinsi tetapi juga hasil dari sinergi antara pemerintah kabupaten/kota.Penghargaan ini menjadi tonggak penting bagi Kabupaten Banggai, memperkuat posisinya dalam mendukung pertumbuhan ekonomi dan pelayanan publik di tingkat daerah.Dengan demikian, prestasi ini semakin menegaskan komitmen pemerintah daerah untuk terus berkontribusi dalam pembangunan Sulawesi Tengah yang lebih baik.**\"\n        ],\n        \"semantic_type\": \"\",\n        \"description\": \"\"\n      }\n    },\n    {\n      \"column\": \"lwr\",\n      \"properties\": {\n        \"dtype\": \"string\",\n        \"num_unique_values\": 572,\n        \"samples\": [\n          \"polresbanggai.com\\u2013kapolres banggaiakbp ade nuramdani, sh, sik, mm menerima surat dari pengurus persatuan sepak bola seluruh indonesia (pssi) terkait izin salah satu anggotanya untuk jadi wasit pada kompetisi piala soeratin u-17 di jawa timur.izin tersebut diberikan kepada bripka arfandi abdullah, selaku personel yang bertugas di bagian sdmpolres banggai.\\u201cbripka arfandi ditunjuk jadi wasit piala soeratin u-17, yang di gelar di kota surabaya, 20 januari hingga 3 februari 2024,\\u201d kata kasi humas polres banggai iptu al amin s. muda dalam keterangannya, minggu (21/1/2024).pada pertandingan perdana kemarin sabtu (20/1/2024) bertempat di lapangan tor surabaya, ia sukses memimpin jalannya pertandingan yang mempertemukan provinsi jambi melawan provinsi sulawesi utara.olahraga sepakbola bukan hal baru bagi bripka arfandi. ia sudah mengenal sepakbola semenjak kecil. bagaimana tidak, dari lingkungan keluarga sampai orang-orang disekitarnya bergelut dengan olahraga ini.diketahui bripka arfandi memulai karir sebagai wasit nasional pssi berlisensi c1 pada tahun 2018 dan beberapa event penting sudah dipercayakan kepadanya.pada tahun 2019 lalu, ia dipilih secara langsung oleh pssi pusat untuk bertugas sebagai wasit di liga satu antara psm makassar versus persebaya surabaya di biak papua*humas polres banggai \",\n          \"\\u201cpenghargaan diterima langsung oleh wakil bupati banggai\\u201dkabar luwuk  \\u2013pemda banggairaihpenghargaan k1s awards 2023dari kementerian keuangan.gubernur sulawesi tengah,h. rusdi mastura, membuka acaraprestisius k1s awards 2023di gedung pogombo kantor gubernur, sulawesi tengah.rabu 15/11/2023.dalam kegiatan yang dihadiri olehwakil bupati banggai,drs. h. furqanuddin, m.m, serta para pemangku kepentingan dari seluruh kabupaten/kota,forkopimda provinsi,dan perwakilan kementerian keuangan, pemerintah daerah banggai berhasil meraih penghargaan atas kontribusinya dalam pelaksanaan anggaran.gubernur mastura, dalam sambutannya, menyoroti sinergi dan kolaborasi dalam peningkatan pelayanan di sulawesi tengah. hasil yang signifikan terlihat melalui pertumbuhan ekonomi sebesar 13,06 persen year on year pada kuartal ketiga tahun 2023.sektor industri pengolahan tumbuh pesat sebesar 27,9 persen, sementara ekspor barang dan jasa meningkat 23,23 persen.gubernur mengapresiasi kerja keras semua pihak yang telah berkontribusi pada pencapaian ini.wakil bupati banggai, drs. h. furqanuddin, m.m, menerima penghargaan dari gubernur mastura atas kontribusi pemerintah kabupaten banggai dalam pelaksanaan anggaran di daerah.prestasi ini menjadi bukti nyata bahwa kerja sama antara pemerintah daerah dan stakeholder lainnya mampu mengoptimalkan kinerja anggaran daerah.peningkatan ekonomi yang signifikan di sulawesi tengah bukan hanya prestasi pemerintah provinsi tetapi juga hasil dari sinergi antara pemerintah kabupaten/kota.penghargaan ini menjadi tonggak penting bagi kabupaten banggai, memperkuat posisinya dalam mendukung pertumbuhan ekonomi dan pelayanan publik di tingkat daerah.dengan demikian, prestasi ini semakin menegaskan komitmen pemerintah daerah untuk terus berkontribusi dalam pembangunan sulawesi tengah yang lebih baik.**\"\n        ],\n        \"semantic_type\": \"\",\n        \"description\": \"\"\n      }\n    },\n    {\n      \"column\": \"clean_number\",\n      \"properties\": {\n        \"dtype\": \"string\",\n        \"num_unique_values\": 572,\n        \"samples\": [\n          \"polresbanggai.com\\u2013kapolres banggaiakbp ade nuramdani, sh, sik, mm menerima surat dari pengurus persatuan sepak bola seluruh indonesia (pssi) terkait izin salah satu anggotanya untuk jadi wasit pada kompetisi piala soeratin u- di jawa timur.izin tersebut diberikan kepada bripka arfandi abdullah, selaku personel yang bertugas di bagian sdmpolres banggai.\\u201cbripka arfandi ditunjuk jadi wasit piala soeratin u-, yang di gelar di kota surabaya,  januari hingga  februari ,\\u201d kata kasi humas polres banggai iptu al amin s. muda dalam keterangannya, minggu (//).pada pertandingan perdana kemarin sabtu (//) bertempat di lapangan tor surabaya, ia sukses memimpin jalannya pertandingan yang mempertemukan provinsi jambi melawan provinsi sulawesi utara.olahraga sepakbola bukan hal baru bagi bripka arfandi. ia sudah mengenal sepakbola semenjak kecil. bagaimana tidak, dari lingkungan keluarga sampai orang-orang disekitarnya bergelut dengan olahraga ini.diketahui bripka arfandi memulai karir sebagai wasit nasional pssi berlisensi c pada tahun  dan beberapa event penting sudah dipercayakan kepadanya.pada tahun  lalu, ia dipilih secara langsung oleh pssi pusat untuk bertugas sebagai wasit di liga satu antara psm makassar versus persebaya surabaya di biak papua*humas polres banggai \",\n          \"\\u201cpenghargaan diterima langsung oleh wakil bupati banggai\\u201dkabar luwuk  \\u2013pemda banggairaihpenghargaan ks awards dari kementerian keuangan.gubernur sulawesi tengah,h. rusdi mastura, membuka acaraprestisius ks awards di gedung pogombo kantor gubernur, sulawesi tengah.rabu //.dalam kegiatan yang dihadiri olehwakil bupati banggai,drs. h. furqanuddin, m.m, serta para pemangku kepentingan dari seluruh kabupaten/kota,forkopimda provinsi,dan perwakilan kementerian keuangan, pemerintah daerah banggai berhasil meraih penghargaan atas kontribusinya dalam pelaksanaan anggaran.gubernur mastura, dalam sambutannya, menyoroti sinergi dan kolaborasi dalam peningkatan pelayanan di sulawesi tengah. hasil yang signifikan terlihat melalui pertumbuhan ekonomi sebesar , persen year on year pada kuartal ketiga tahun .sektor industri pengolahan tumbuh pesat sebesar , persen, sementara ekspor barang dan jasa meningkat , persen.gubernur mengapresiasi kerja keras semua pihak yang telah berkontribusi pada pencapaian ini.wakil bupati banggai, drs. h. furqanuddin, m.m, menerima penghargaan dari gubernur mastura atas kontribusi pemerintah kabupaten banggai dalam pelaksanaan anggaran di daerah.prestasi ini menjadi bukti nyata bahwa kerja sama antara pemerintah daerah dan stakeholder lainnya mampu mengoptimalkan kinerja anggaran daerah.peningkatan ekonomi yang signifikan di sulawesi tengah bukan hanya prestasi pemerintah provinsi tetapi juga hasil dari sinergi antara pemerintah kabupaten/kota.penghargaan ini menjadi tonggak penting bagi kabupaten banggai, memperkuat posisinya dalam mendukung pertumbuhan ekonomi dan pelayanan publik di tingkat daerah.dengan demikian, prestasi ini semakin menegaskan komitmen pemerintah daerah untuk terus berkontribusi dalam pembangunan sulawesi tengah yang lebih baik.**\"\n        ],\n        \"semantic_type\": \"\",\n        \"description\": \"\"\n      }\n    },\n    {\n      \"column\": \"clean_punct\",\n      \"properties\": {\n        \"dtype\": \"string\",\n        \"num_unique_values\": 572,\n        \"samples\": [\n          \"polresbanggai com kapolres banggaiakbp ade nuramdani sh sik mm menerima surat dari pengurus persatuan sepak bola seluruh indonesia pssi terkait izin salah satu anggotanya untuk jadi wasit pada kompetisi piala soeratin u  di jawa timur izin tersebut diberikan kepada bripka arfandi abdullah selaku personel yang bertugas di bagian sdmpolres banggai  bripka arfandi ditunjuk jadi wasit piala soeratin u  yang di gelar di kota surabaya  januari hingga  februari   kata kasi humas polres banggai iptu al amin s  muda dalam keterangannya minggu  pada pertandingan perdana kemarin sabtu  bertempat di lapangan tor surabaya ia sukses memimpin jalannya pertandingan yang mempertemukan provinsi jambi melawan provinsi sulawesi utara olahraga sepakbola bukan hal baru bagi bripka arfandi  ia sudah mengenal sepakbola semenjak kecil  bagaimana tidak dari lingkungan keluarga sampai orang orang disekitarnya bergelut dengan olahraga ini diketahui bripka arfandi memulai karir sebagai wasit nasional pssi berlisensi c pada tahun  dan beberapa event penting sudah dipercayakan kepadanya pada tahun  lalu ia dipilih secara langsung oleh pssi pusat untuk bertugas sebagai wasit di liga satu antara psm makassar versus persebaya surabaya di biak papua humas polres banggai \",\n          \" penghargaan diterima langsung oleh wakil bupati banggai kabar luwuk   pemda banggairaihpenghargaan ks awards dari kementerian keuangan gubernur sulawesi tengahh  rusdi mastura membuka acaraprestisius ks awards di gedung pogombo kantor gubernur sulawesi tengah rabu  dalam kegiatan yang dihadiri olehwakil bupati banggaidrs  h  furqanuddin m m serta para pemangku kepentingan dari seluruh kabupatenkotaforkopimda provinsidan perwakilan kementerian keuangan pemerintah daerah banggai berhasil meraih penghargaan atas kontribusinya dalam pelaksanaan anggaran gubernur mastura dalam sambutannya menyoroti sinergi dan kolaborasi dalam peningkatan pelayanan di sulawesi tengah  hasil yang signifikan terlihat melalui pertumbuhan ekonomi sebesar  persen year on year pada kuartal ketiga tahun  sektor industri pengolahan tumbuh pesat sebesar  persen sementara ekspor barang dan jasa meningkat  persen gubernur mengapresiasi kerja keras semua pihak yang telah berkontribusi pada pencapaian ini wakil bupati banggai drs  h  furqanuddin m m menerima penghargaan dari gubernur mastura atas kontribusi pemerintah kabupaten banggai dalam pelaksanaan anggaran di daerah prestasi ini menjadi bukti nyata bahwa kerja sama antara pemerintah daerah dan stakeholder lainnya mampu mengoptimalkan kinerja anggaran daerah peningkatan ekonomi yang signifikan di sulawesi tengah bukan hanya prestasi pemerintah provinsi tetapi juga hasil dari sinergi antara pemerintah kabupatenkota penghargaan ini menjadi tonggak penting bagi kabupaten banggai memperkuat posisinya dalam mendukung pertumbuhan ekonomi dan pelayanan publik di tingkat daerah dengan demikian prestasi ini semakin menegaskan komitmen pemerintah daerah untuk terus berkontribusi dalam pembangunan sulawesi tengah yang lebih baik   \"\n        ],\n        \"semantic_type\": \"\",\n        \"description\": \"\"\n      }\n    }\n  ]\n}"
            }
          },
          "metadata": {},
          "execution_count": 63
        }
      ]
    },
    {
      "cell_type": "markdown",
      "metadata": {
        "id": "P1RGdnrreR9V"
      },
      "source": [
        "### Delete whitespaces"
      ]
    },
    {
      "cell_type": "code",
      "execution_count": null,
      "metadata": {
        "id": "t9ZjE6MleJmC"
      },
      "outputs": [],
      "source": [
        "def normalize_whitespace(text):\n",
        "    corrected = str(text)\n",
        "    corrected = re.sub(r\"//t\",r\"\\t\", corrected)\n",
        "    corrected = re.sub(r\"( )\\1+\",r\"\\1\", corrected)\n",
        "    corrected = re.sub(r\"(\\n)\\1+\",r\"\\1\", corrected)\n",
        "    corrected = re.sub(r\"(\\r)\\1+\",r\"\\1\", corrected)\n",
        "    corrected = re.sub(r\"(\\t)\\1+\",r\"\\1\", corrected)\n",
        "    return corrected.strip(\" \")"
      ]
    },
    {
      "cell_type": "code",
      "execution_count": null,
      "metadata": {
        "colab": {
          "base_uri": "https://localhost:8080/"
        },
        "id": "1T8BVqeTeZGX",
        "outputId": "f39bd189-4788-4001-acf8-6aeddc064f7b"
      },
      "outputs": [
        {
          "output_type": "execute_result",
          "data": {
            "text/plain": [
              "0      kabar luwuk suasana pasar murah bersubsidi di ...\n",
              "1      kabar luwuk film horor piara mayat kreativitas...\n",
              "2      kabar luwuk festival malabot tumbe kembali mer...\n",
              "3      kerja cepat dan terkoordinir dalam penerbitan ...\n",
              "4      kabar luwuk bawaslu banggaiperkuat koordinasi ...\n",
              "                             ...                        \n",
              "574    banggai raya satu gudang bahan aluminium di ja...\n",
              "575    laporan wartawan tribunpalu com asnawi zikri t...\n",
              "576    banggai raya lebih pebulutangkis dari kabupate...\n",
              "577    laporan wartawan tribunpalu com asnawi zikri t...\n",
              "578    laporan wartawan tribunpalu com asnawi zikri t...\n",
              "Name: clean_double_ws, Length: 579, dtype: object"
            ]
          },
          "metadata": {},
          "execution_count": 65
        }
      ],
      "source": [
        "df['clean_double_ws'] = df['clean_punct'].apply(normalize_whitespace)\n",
        "df['clean_double_ws']"
      ]
    },
    {
      "cell_type": "code",
      "source": [
        "df.tail()"
      ],
      "metadata": {
        "id": "WS12mtvVBUnS",
        "colab": {
          "base_uri": "https://localhost:8080/"
        },
        "outputId": "0616b15d-0ef1-402e-ea83-ec20e340b9ea"
      },
      "execution_count": null,
      "outputs": [
        {
          "output_type": "execute_result",
          "data": {
            "text/plain": [
              "    final_review                                              title  \\\n",
              "574      negatif  Gudang Alumunium Kompleks Pertokoan Luwuk Terb...   \n",
              "575      positif  583 Peserta Ramaikan Turnamen Badminton di Ban...   \n",
              "576      negatif  Lebih 500 Pebulutangkis Berlaga di Open Turnam...   \n",
              "577      negatif  Demi Penuhi Kehidupan Sehari-hari, Pria di Ban...   \n",
              "578      negatif  Gudang Aluminium di Pertokoan Luwuk Banggai Te...   \n",
              "\n",
              "                                                  text  \\\n",
              "574  BANGGAI RAYA-Satu gudang bahan aluminium di Ja...   \n",
              "575  Laporan Wartawan TribunPalu.com, Asnawi Zikri ...   \n",
              "576  BANGGAI RAYA-Lebih 500 pebulutangkis dari kabu...   \n",
              "577  Laporan Wartawan TribunPalu.com, Asnawi Zikri ...   \n",
              "578  Laporan Wartawan TribunPalu.com, Asnawi Zikri ...   \n",
              "\n",
              "                                                   lwr  \\\n",
              "574  banggai raya-satu gudang bahan aluminium di ja...   \n",
              "575  laporan wartawan tribunpalu.com, asnawi zikri ...   \n",
              "576  banggai raya-lebih 500 pebulutangkis dari kabu...   \n",
              "577  laporan wartawan tribunpalu.com, asnawi zikri ...   \n",
              "578  laporan wartawan tribunpalu.com, asnawi zikri ...   \n",
              "\n",
              "                                          clean_number  \\\n",
              "574  banggai raya-satu gudang bahan aluminium di ja...   \n",
              "575  laporan wartawan tribunpalu.com, asnawi zikri ...   \n",
              "576  banggai raya-lebih  pebulutangkis dari kabupat...   \n",
              "577  laporan wartawan tribunpalu.com, asnawi zikri ...   \n",
              "578  laporan wartawan tribunpalu.com, asnawi zikri ...   \n",
              "\n",
              "                                           clean_punct  \\\n",
              "574  banggai raya satu gudang bahan aluminium di ja...   \n",
              "575  laporan wartawan tribunpalu com asnawi zikri t...   \n",
              "576  banggai raya lebih  pebulutangkis dari kabupat...   \n",
              "577  laporan wartawan tribunpalu com asnawi zikri t...   \n",
              "578  laporan wartawan tribunpalu com asnawi zikri t...   \n",
              "\n",
              "                                       clean_double_ws  \n",
              "574  banggai raya satu gudang bahan aluminium di ja...  \n",
              "575  laporan wartawan tribunpalu com asnawi zikri t...  \n",
              "576  banggai raya lebih pebulutangkis dari kabupate...  \n",
              "577  laporan wartawan tribunpalu com asnawi zikri t...  \n",
              "578  laporan wartawan tribunpalu com asnawi zikri t...  "
            ],
            "text/html": [
              "\n",
              "  <div id=\"df-a83fd100-a769-40c5-80ad-93914f20d2fc\" class=\"colab-df-container\">\n",
              "    <div>\n",
              "<style scoped>\n",
              "    .dataframe tbody tr th:only-of-type {\n",
              "        vertical-align: middle;\n",
              "    }\n",
              "\n",
              "    .dataframe tbody tr th {\n",
              "        vertical-align: top;\n",
              "    }\n",
              "\n",
              "    .dataframe thead th {\n",
              "        text-align: right;\n",
              "    }\n",
              "</style>\n",
              "<table border=\"1\" class=\"dataframe\">\n",
              "  <thead>\n",
              "    <tr style=\"text-align: right;\">\n",
              "      <th></th>\n",
              "      <th>final_review</th>\n",
              "      <th>title</th>\n",
              "      <th>text</th>\n",
              "      <th>lwr</th>\n",
              "      <th>clean_number</th>\n",
              "      <th>clean_punct</th>\n",
              "      <th>clean_double_ws</th>\n",
              "    </tr>\n",
              "  </thead>\n",
              "  <tbody>\n",
              "    <tr>\n",
              "      <th>574</th>\n",
              "      <td>negatif</td>\n",
              "      <td>Gudang Alumunium Kompleks Pertokoan Luwuk Terb...</td>\n",
              "      <td>BANGGAI RAYA-Satu gudang bahan aluminium di Ja...</td>\n",
              "      <td>banggai raya-satu gudang bahan aluminium di ja...</td>\n",
              "      <td>banggai raya-satu gudang bahan aluminium di ja...</td>\n",
              "      <td>banggai raya satu gudang bahan aluminium di ja...</td>\n",
              "      <td>banggai raya satu gudang bahan aluminium di ja...</td>\n",
              "    </tr>\n",
              "    <tr>\n",
              "      <th>575</th>\n",
              "      <td>positif</td>\n",
              "      <td>583 Peserta Ramaikan Turnamen Badminton di Ban...</td>\n",
              "      <td>Laporan Wartawan TribunPalu.com, Asnawi Zikri ...</td>\n",
              "      <td>laporan wartawan tribunpalu.com, asnawi zikri ...</td>\n",
              "      <td>laporan wartawan tribunpalu.com, asnawi zikri ...</td>\n",
              "      <td>laporan wartawan tribunpalu com asnawi zikri t...</td>\n",
              "      <td>laporan wartawan tribunpalu com asnawi zikri t...</td>\n",
              "    </tr>\n",
              "    <tr>\n",
              "      <th>576</th>\n",
              "      <td>negatif</td>\n",
              "      <td>Lebih 500 Pebulutangkis Berlaga di Open Turnam...</td>\n",
              "      <td>BANGGAI RAYA-Lebih 500 pebulutangkis dari kabu...</td>\n",
              "      <td>banggai raya-lebih 500 pebulutangkis dari kabu...</td>\n",
              "      <td>banggai raya-lebih  pebulutangkis dari kabupat...</td>\n",
              "      <td>banggai raya lebih  pebulutangkis dari kabupat...</td>\n",
              "      <td>banggai raya lebih pebulutangkis dari kabupate...</td>\n",
              "    </tr>\n",
              "    <tr>\n",
              "      <th>577</th>\n",
              "      <td>negatif</td>\n",
              "      <td>Demi Penuhi Kehidupan Sehari-hari, Pria di Ban...</td>\n",
              "      <td>Laporan Wartawan TribunPalu.com, Asnawi Zikri ...</td>\n",
              "      <td>laporan wartawan tribunpalu.com, asnawi zikri ...</td>\n",
              "      <td>laporan wartawan tribunpalu.com, asnawi zikri ...</td>\n",
              "      <td>laporan wartawan tribunpalu com asnawi zikri t...</td>\n",
              "      <td>laporan wartawan tribunpalu com asnawi zikri t...</td>\n",
              "    </tr>\n",
              "    <tr>\n",
              "      <th>578</th>\n",
              "      <td>negatif</td>\n",
              "      <td>Gudang Aluminium di Pertokoan Luwuk Banggai Te...</td>\n",
              "      <td>Laporan Wartawan TribunPalu.com, Asnawi Zikri ...</td>\n",
              "      <td>laporan wartawan tribunpalu.com, asnawi zikri ...</td>\n",
              "      <td>laporan wartawan tribunpalu.com, asnawi zikri ...</td>\n",
              "      <td>laporan wartawan tribunpalu com asnawi zikri t...</td>\n",
              "      <td>laporan wartawan tribunpalu com asnawi zikri t...</td>\n",
              "    </tr>\n",
              "  </tbody>\n",
              "</table>\n",
              "</div>\n",
              "    <div class=\"colab-df-buttons\">\n",
              "\n",
              "  <div class=\"colab-df-container\">\n",
              "    <button class=\"colab-df-convert\" onclick=\"convertToInteractive('df-a83fd100-a769-40c5-80ad-93914f20d2fc')\"\n",
              "            title=\"Convert this dataframe to an interactive table.\"\n",
              "            style=\"display:none;\">\n",
              "\n",
              "  <svg xmlns=\"http://www.w3.org/2000/svg\" height=\"24px\" viewBox=\"0 -960 960 960\">\n",
              "    <path d=\"M120-120v-720h720v720H120Zm60-500h600v-160H180v160Zm220 220h160v-160H400v160Zm0 220h160v-160H400v160ZM180-400h160v-160H180v160Zm440 0h160v-160H620v160ZM180-180h160v-160H180v160Zm440 0h160v-160H620v160Z\"/>\n",
              "  </svg>\n",
              "    </button>\n",
              "\n",
              "  <style>\n",
              "    .colab-df-container {\n",
              "      display:flex;\n",
              "      gap: 12px;\n",
              "    }\n",
              "\n",
              "    .colab-df-convert {\n",
              "      background-color: #E8F0FE;\n",
              "      border: none;\n",
              "      border-radius: 50%;\n",
              "      cursor: pointer;\n",
              "      display: none;\n",
              "      fill: #1967D2;\n",
              "      height: 32px;\n",
              "      padding: 0 0 0 0;\n",
              "      width: 32px;\n",
              "    }\n",
              "\n",
              "    .colab-df-convert:hover {\n",
              "      background-color: #E2EBFA;\n",
              "      box-shadow: 0px 1px 2px rgba(60, 64, 67, 0.3), 0px 1px 3px 1px rgba(60, 64, 67, 0.15);\n",
              "      fill: #174EA6;\n",
              "    }\n",
              "\n",
              "    .colab-df-buttons div {\n",
              "      margin-bottom: 4px;\n",
              "    }\n",
              "\n",
              "    [theme=dark] .colab-df-convert {\n",
              "      background-color: #3B4455;\n",
              "      fill: #D2E3FC;\n",
              "    }\n",
              "\n",
              "    [theme=dark] .colab-df-convert:hover {\n",
              "      background-color: #434B5C;\n",
              "      box-shadow: 0px 1px 3px 1px rgba(0, 0, 0, 0.15);\n",
              "      filter: drop-shadow(0px 1px 2px rgba(0, 0, 0, 0.3));\n",
              "      fill: #FFFFFF;\n",
              "    }\n",
              "  </style>\n",
              "\n",
              "    <script>\n",
              "      const buttonEl =\n",
              "        document.querySelector('#df-a83fd100-a769-40c5-80ad-93914f20d2fc button.colab-df-convert');\n",
              "      buttonEl.style.display =\n",
              "        google.colab.kernel.accessAllowed ? 'block' : 'none';\n",
              "\n",
              "      async function convertToInteractive(key) {\n",
              "        const element = document.querySelector('#df-a83fd100-a769-40c5-80ad-93914f20d2fc');\n",
              "        const dataTable =\n",
              "          await google.colab.kernel.invokeFunction('convertToInteractive',\n",
              "                                                    [key], {});\n",
              "        if (!dataTable) return;\n",
              "\n",
              "        const docLinkHtml = 'Like what you see? Visit the ' +\n",
              "          '<a target=\"_blank\" href=https://colab.research.google.com/notebooks/data_table.ipynb>data table notebook</a>'\n",
              "          + ' to learn more about interactive tables.';\n",
              "        element.innerHTML = '';\n",
              "        dataTable['output_type'] = 'display_data';\n",
              "        await google.colab.output.renderOutput(dataTable, element);\n",
              "        const docLink = document.createElement('div');\n",
              "        docLink.innerHTML = docLinkHtml;\n",
              "        element.appendChild(docLink);\n",
              "      }\n",
              "    </script>\n",
              "  </div>\n",
              "\n",
              "\n",
              "<div id=\"df-724ceae0-cfc6-4527-b17c-2d147e836a72\">\n",
              "  <button class=\"colab-df-quickchart\" onclick=\"quickchart('df-724ceae0-cfc6-4527-b17c-2d147e836a72')\"\n",
              "            title=\"Suggest charts\"\n",
              "            style=\"display:none;\">\n",
              "\n",
              "<svg xmlns=\"http://www.w3.org/2000/svg\" height=\"24px\"viewBox=\"0 0 24 24\"\n",
              "     width=\"24px\">\n",
              "    <g>\n",
              "        <path d=\"M19 3H5c-1.1 0-2 .9-2 2v14c0 1.1.9 2 2 2h14c1.1 0 2-.9 2-2V5c0-1.1-.9-2-2-2zM9 17H7v-7h2v7zm4 0h-2V7h2v10zm4 0h-2v-4h2v4z\"/>\n",
              "    </g>\n",
              "</svg>\n",
              "  </button>\n",
              "\n",
              "<style>\n",
              "  .colab-df-quickchart {\n",
              "      --bg-color: #E8F0FE;\n",
              "      --fill-color: #1967D2;\n",
              "      --hover-bg-color: #E2EBFA;\n",
              "      --hover-fill-color: #174EA6;\n",
              "      --disabled-fill-color: #AAA;\n",
              "      --disabled-bg-color: #DDD;\n",
              "  }\n",
              "\n",
              "  [theme=dark] .colab-df-quickchart {\n",
              "      --bg-color: #3B4455;\n",
              "      --fill-color: #D2E3FC;\n",
              "      --hover-bg-color: #434B5C;\n",
              "      --hover-fill-color: #FFFFFF;\n",
              "      --disabled-bg-color: #3B4455;\n",
              "      --disabled-fill-color: #666;\n",
              "  }\n",
              "\n",
              "  .colab-df-quickchart {\n",
              "    background-color: var(--bg-color);\n",
              "    border: none;\n",
              "    border-radius: 50%;\n",
              "    cursor: pointer;\n",
              "    display: none;\n",
              "    fill: var(--fill-color);\n",
              "    height: 32px;\n",
              "    padding: 0;\n",
              "    width: 32px;\n",
              "  }\n",
              "\n",
              "  .colab-df-quickchart:hover {\n",
              "    background-color: var(--hover-bg-color);\n",
              "    box-shadow: 0 1px 2px rgba(60, 64, 67, 0.3), 0 1px 3px 1px rgba(60, 64, 67, 0.15);\n",
              "    fill: var(--button-hover-fill-color);\n",
              "  }\n",
              "\n",
              "  .colab-df-quickchart-complete:disabled,\n",
              "  .colab-df-quickchart-complete:disabled:hover {\n",
              "    background-color: var(--disabled-bg-color);\n",
              "    fill: var(--disabled-fill-color);\n",
              "    box-shadow: none;\n",
              "  }\n",
              "\n",
              "  .colab-df-spinner {\n",
              "    border: 2px solid var(--fill-color);\n",
              "    border-color: transparent;\n",
              "    border-bottom-color: var(--fill-color);\n",
              "    animation:\n",
              "      spin 1s steps(1) infinite;\n",
              "  }\n",
              "\n",
              "  @keyframes spin {\n",
              "    0% {\n",
              "      border-color: transparent;\n",
              "      border-bottom-color: var(--fill-color);\n",
              "      border-left-color: var(--fill-color);\n",
              "    }\n",
              "    20% {\n",
              "      border-color: transparent;\n",
              "      border-left-color: var(--fill-color);\n",
              "      border-top-color: var(--fill-color);\n",
              "    }\n",
              "    30% {\n",
              "      border-color: transparent;\n",
              "      border-left-color: var(--fill-color);\n",
              "      border-top-color: var(--fill-color);\n",
              "      border-right-color: var(--fill-color);\n",
              "    }\n",
              "    40% {\n",
              "      border-color: transparent;\n",
              "      border-right-color: var(--fill-color);\n",
              "      border-top-color: var(--fill-color);\n",
              "    }\n",
              "    60% {\n",
              "      border-color: transparent;\n",
              "      border-right-color: var(--fill-color);\n",
              "    }\n",
              "    80% {\n",
              "      border-color: transparent;\n",
              "      border-right-color: var(--fill-color);\n",
              "      border-bottom-color: var(--fill-color);\n",
              "    }\n",
              "    90% {\n",
              "      border-color: transparent;\n",
              "      border-bottom-color: var(--fill-color);\n",
              "    }\n",
              "  }\n",
              "</style>\n",
              "\n",
              "  <script>\n",
              "    async function quickchart(key) {\n",
              "      const quickchartButtonEl =\n",
              "        document.querySelector('#' + key + ' button');\n",
              "      quickchartButtonEl.disabled = true;  // To prevent multiple clicks.\n",
              "      quickchartButtonEl.classList.add('colab-df-spinner');\n",
              "      try {\n",
              "        const charts = await google.colab.kernel.invokeFunction(\n",
              "            'suggestCharts', [key], {});\n",
              "      } catch (error) {\n",
              "        console.error('Error during call to suggestCharts:', error);\n",
              "      }\n",
              "      quickchartButtonEl.classList.remove('colab-df-spinner');\n",
              "      quickchartButtonEl.classList.add('colab-df-quickchart-complete');\n",
              "    }\n",
              "    (() => {\n",
              "      let quickchartButtonEl =\n",
              "        document.querySelector('#df-724ceae0-cfc6-4527-b17c-2d147e836a72 button');\n",
              "      quickchartButtonEl.style.display =\n",
              "        google.colab.kernel.accessAllowed ? 'block' : 'none';\n",
              "    })();\n",
              "  </script>\n",
              "</div>\n",
              "    </div>\n",
              "  </div>\n"
            ],
            "application/vnd.google.colaboratory.intrinsic+json": {
              "type": "dataframe",
              "summary": "{\n  \"name\": \"df\",\n  \"rows\": 5,\n  \"fields\": [\n    {\n      \"column\": \"final_review\",\n      \"properties\": {\n        \"dtype\": \"category\",\n        \"num_unique_values\": 2,\n        \"samples\": [\n          \"positif\",\n          \"negatif\"\n        ],\n        \"semantic_type\": \"\",\n        \"description\": \"\"\n      }\n    },\n    {\n      \"column\": \"title\",\n      \"properties\": {\n        \"dtype\": \"string\",\n        \"num_unique_values\": 5,\n        \"samples\": [\n          \"583 Peserta Ramaikan Turnamen Badminton di Banggai, Perebutkan Hadiah Rp 40 Juta\",\n          \"Gudang Aluminium di Pertokoan Luwuk Banggai Terbakar, Beruntung Cepat Dipadamkan\"\n        ],\n        \"semantic_type\": \"\",\n        \"description\": \"\"\n      }\n    },\n    {\n      \"column\": \"text\",\n      \"properties\": {\n        \"dtype\": \"string\",\n        \"num_unique_values\": 5,\n        \"samples\": [\n          \"Laporan Wartawan TribunPalu.com, Asnawi Zikri TRIBUNPALU.COM, BANGGAI - Bupati Banggai, Amirudin, membuka acara Badminton Open Tournament Bupati Cup, di GOR Kilongan, Kecamatan Luwuk Utara, KabupatenBanggai , Sulawesi Tengah, Kamis (1/2/2024). Turnamen ini menjadi ajang yang dinantikan para pecinta bulu tangkis di KabupatenBanggai , serta menjadi wadah untuk menumbuhkan semangat kompetisi dan kebersamaan dalam olahraga. \\\"Pertama saya sangat bangga dengan antusias daripada atlet pada malam hari ini luar biasa kurang lebih 500 lebih peserta,\\\" tutur Bupati Amirudin. Karena antusiasme yang cukup besar, turnamen badminton ini direncanakan akan dilaksanakan setahun dua kali. \\\"Malam hari ini adalah putaran yang pertama, dan Insya Allah putaran keduanya kita laksanakan di bulan Juli,\\\" tandas Bupati Amirudin. Bupati Amirudin mengaku turnamen sangat penting karena sebagai ajang menyiapkan atlet muda KabupatenBanggai untuk bisa mewakili Sulawesi Tengah di ajang nasional. Sebab, turnamen kali ini tk hanya melibatkan atlet Banggai, tetapi juga diikuti atlet luar daerah \\\"Ini motivasi untuk kita semua melihat para atlet-atlet berprestasi sehingga ke depan adik-adik kita bisa mengikuti jejak mereka yang sebentar akan kita saksikan bersama,\\\" jelas Bupati Amirudin. Bupati Amirudin juga menyatakan junjung tinggi sportifitas, dan menjadikan turnamen ini tidak hanya sebagai ajang kompetisi, tetapi juga sebagai sarana memperkokoh persaudaraan di antara pecinta bulu tangkis KabupatenBanggai . Pada kesempatan yang sama, Ketua Panitia Badminton Open Tournament Bupati Cup, Ridwan T. Polopa menyampaikan adapun jumlah peserta berasal dari Kabupaten/Kota se Sulawesi Tengah sebanyak 583 peserta. \\\"Waktu pelaksanaan dimulai dari tanggal 1 sampai 4 Februari 2024,\\\" kata Ridwan Polopa. Para peserta akan memperebutkan hadiah sebesar Rp 40 juta. (*) \",\n          \"Laporan Wartawan TribunPalu.com, Asnawi Zikri TRIBUNPALU.COM, BANGGAI -Gudang bahan aluminium di Jl Teuku Umar Kompleks Pertokoan Kelurahan Luwuk, KabupatenBanggai , Sulawesi Tengah mengalami kebakaran, Jumat (2/2/2024) sekitar pukul 10.30 Wita. Plt. Kapolsek Luwuk AKP Steven Lewaherillah mengungkapkan, dari keterangan seorang saksi kbu Andui melihat kemunculan titik api di bagian samping bangunan gudang milik Donal Dusia (40). \\\"Titik api muncul dari tumpukan gabus ikan tepat di samping gudang,\\\" ungkapnya. AKP Steven menyebutkan bahwa saat itu saksi lain mendengar teriakan dan keluar melihat api sudah membesar di bagian samping gudang. Sehingga langsung menghubungi pemadam kebakaran. Beruntung, api cepat dipadamkan sehingga tidak meluas. \\\"Hanya bagian samping saja yang terbakar,\\\" kata AKP Steven. Ia menambahkan, kerugian material dalam peristiwa tersebut belum dapat dipastikan dan tidak ada korban jiwa. \\\"Dugaan penyebab kebakaran belum dipastikan. Anggota masih mengumpulkan keterangan saksi,\\\" kata dia. (*) \"\n        ],\n        \"semantic_type\": \"\",\n        \"description\": \"\"\n      }\n    },\n    {\n      \"column\": \"lwr\",\n      \"properties\": {\n        \"dtype\": \"string\",\n        \"num_unique_values\": 5,\n        \"samples\": [\n          \"laporan wartawan tribunpalu.com, asnawi zikri tribunpalu.com, banggai - bupati banggai, amirudin, membuka acara badminton open tournament bupati cup, di gor kilongan, kecamatan luwuk utara, kabupatenbanggai , sulawesi tengah, kamis (1/2/2024). turnamen ini menjadi ajang yang dinantikan para pecinta bulu tangkis di kabupatenbanggai , serta menjadi wadah untuk menumbuhkan semangat kompetisi dan kebersamaan dalam olahraga. \\\"pertama saya sangat bangga dengan antusias daripada atlet pada malam hari ini luar biasa kurang lebih 500 lebih peserta,\\\" tutur bupati amirudin. karena antusiasme yang cukup besar, turnamen badminton ini direncanakan akan dilaksanakan setahun dua kali. \\\"malam hari ini adalah putaran yang pertama, dan insya allah putaran keduanya kita laksanakan di bulan juli,\\\" tandas bupati amirudin. bupati amirudin mengaku turnamen sangat penting karena sebagai ajang menyiapkan atlet muda kabupatenbanggai untuk bisa mewakili sulawesi tengah di ajang nasional. sebab, turnamen kali ini tk hanya melibatkan atlet banggai, tetapi juga diikuti atlet luar daerah \\\"ini motivasi untuk kita semua melihat para atlet-atlet berprestasi sehingga ke depan adik-adik kita bisa mengikuti jejak mereka yang sebentar akan kita saksikan bersama,\\\" jelas bupati amirudin. bupati amirudin juga menyatakan junjung tinggi sportifitas, dan menjadikan turnamen ini tidak hanya sebagai ajang kompetisi, tetapi juga sebagai sarana memperkokoh persaudaraan di antara pecinta bulu tangkis kabupatenbanggai . pada kesempatan yang sama, ketua panitia badminton open tournament bupati cup, ridwan t. polopa menyampaikan adapun jumlah peserta berasal dari kabupaten/kota se sulawesi tengah sebanyak 583 peserta. \\\"waktu pelaksanaan dimulai dari tanggal 1 sampai 4 februari 2024,\\\" kata ridwan polopa. para peserta akan memperebutkan hadiah sebesar rp 40 juta. (*) \",\n          \"laporan wartawan tribunpalu.com, asnawi zikri tribunpalu.com, banggai -gudang bahan aluminium di jl teuku umar kompleks pertokoan kelurahan luwuk, kabupatenbanggai , sulawesi tengah mengalami kebakaran, jumat (2/2/2024) sekitar pukul 10.30 wita. plt. kapolsek luwuk akp steven lewaherillah mengungkapkan, dari keterangan seorang saksi kbu andui melihat kemunculan titik api di bagian samping bangunan gudang milik donal dusia (40). \\\"titik api muncul dari tumpukan gabus ikan tepat di samping gudang,\\\" ungkapnya. akp steven menyebutkan bahwa saat itu saksi lain mendengar teriakan dan keluar melihat api sudah membesar di bagian samping gudang. sehingga langsung menghubungi pemadam kebakaran. beruntung, api cepat dipadamkan sehingga tidak meluas. \\\"hanya bagian samping saja yang terbakar,\\\" kata akp steven. ia menambahkan, kerugian material dalam peristiwa tersebut belum dapat dipastikan dan tidak ada korban jiwa. \\\"dugaan penyebab kebakaran belum dipastikan. anggota masih mengumpulkan keterangan saksi,\\\" kata dia. (*) \"\n        ],\n        \"semantic_type\": \"\",\n        \"description\": \"\"\n      }\n    },\n    {\n      \"column\": \"clean_number\",\n      \"properties\": {\n        \"dtype\": \"string\",\n        \"num_unique_values\": 5,\n        \"samples\": [\n          \"laporan wartawan tribunpalu.com, asnawi zikri tribunpalu.com, banggai - bupati banggai, amirudin, membuka acara badminton open tournament bupati cup, di gor kilongan, kecamatan luwuk utara, kabupatenbanggai , sulawesi tengah, kamis (//). turnamen ini menjadi ajang yang dinantikan para pecinta bulu tangkis di kabupatenbanggai , serta menjadi wadah untuk menumbuhkan semangat kompetisi dan kebersamaan dalam olahraga. \\\"pertama saya sangat bangga dengan antusias daripada atlet pada malam hari ini luar biasa kurang lebih  lebih peserta,\\\" tutur bupati amirudin. karena antusiasme yang cukup besar, turnamen badminton ini direncanakan akan dilaksanakan setahun dua kali. \\\"malam hari ini adalah putaran yang pertama, dan insya allah putaran keduanya kita laksanakan di bulan juli,\\\" tandas bupati amirudin. bupati amirudin mengaku turnamen sangat penting karena sebagai ajang menyiapkan atlet muda kabupatenbanggai untuk bisa mewakili sulawesi tengah di ajang nasional. sebab, turnamen kali ini tk hanya melibatkan atlet banggai, tetapi juga diikuti atlet luar daerah \\\"ini motivasi untuk kita semua melihat para atlet-atlet berprestasi sehingga ke depan adik-adik kita bisa mengikuti jejak mereka yang sebentar akan kita saksikan bersama,\\\" jelas bupati amirudin. bupati amirudin juga menyatakan junjung tinggi sportifitas, dan menjadikan turnamen ini tidak hanya sebagai ajang kompetisi, tetapi juga sebagai sarana memperkokoh persaudaraan di antara pecinta bulu tangkis kabupatenbanggai . pada kesempatan yang sama, ketua panitia badminton open tournament bupati cup, ridwan t. polopa menyampaikan adapun jumlah peserta berasal dari kabupaten/kota se sulawesi tengah sebanyak  peserta. \\\"waktu pelaksanaan dimulai dari tanggal  sampai  februari ,\\\" kata ridwan polopa. para peserta akan memperebutkan hadiah sebesar rp  juta. (*) \",\n          \"laporan wartawan tribunpalu.com, asnawi zikri tribunpalu.com, banggai -gudang bahan aluminium di jl teuku umar kompleks pertokoan kelurahan luwuk, kabupatenbanggai , sulawesi tengah mengalami kebakaran, jumat (//) sekitar pukul . wita. plt. kapolsek luwuk akp steven lewaherillah mengungkapkan, dari keterangan seorang saksi kbu andui melihat kemunculan titik api di bagian samping bangunan gudang milik donal dusia (). \\\"titik api muncul dari tumpukan gabus ikan tepat di samping gudang,\\\" ungkapnya. akp steven menyebutkan bahwa saat itu saksi lain mendengar teriakan dan keluar melihat api sudah membesar di bagian samping gudang. sehingga langsung menghubungi pemadam kebakaran. beruntung, api cepat dipadamkan sehingga tidak meluas. \\\"hanya bagian samping saja yang terbakar,\\\" kata akp steven. ia menambahkan, kerugian material dalam peristiwa tersebut belum dapat dipastikan dan tidak ada korban jiwa. \\\"dugaan penyebab kebakaran belum dipastikan. anggota masih mengumpulkan keterangan saksi,\\\" kata dia. (*) \"\n        ],\n        \"semantic_type\": \"\",\n        \"description\": \"\"\n      }\n    },\n    {\n      \"column\": \"clean_punct\",\n      \"properties\": {\n        \"dtype\": \"string\",\n        \"num_unique_values\": 5,\n        \"samples\": [\n          \"laporan wartawan tribunpalu com asnawi zikri tribunpalu com banggai   bupati banggai amirudin membuka acara badminton open tournament bupati cup di gor kilongan kecamatan luwuk utara kabupatenbanggai  sulawesi tengah kamis   turnamen ini menjadi ajang yang dinantikan para pecinta bulu tangkis di kabupatenbanggai  serta menjadi wadah untuk menumbuhkan semangat kompetisi dan kebersamaan dalam olahraga   pertama saya sangat bangga dengan antusias daripada atlet pada malam hari ini luar biasa kurang lebih  lebih peserta  tutur bupati amirudin  karena antusiasme yang cukup besar turnamen badminton ini direncanakan akan dilaksanakan setahun dua kali   malam hari ini adalah putaran yang pertama dan insya allah putaran keduanya kita laksanakan di bulan juli  tandas bupati amirudin  bupati amirudin mengaku turnamen sangat penting karena sebagai ajang menyiapkan atlet muda kabupatenbanggai untuk bisa mewakili sulawesi tengah di ajang nasional  sebab turnamen kali ini tk hanya melibatkan atlet banggai tetapi juga diikuti atlet luar daerah  ini motivasi untuk kita semua melihat para atlet atlet berprestasi sehingga ke depan adik adik kita bisa mengikuti jejak mereka yang sebentar akan kita saksikan bersama  jelas bupati amirudin  bupati amirudin juga menyatakan junjung tinggi sportifitas dan menjadikan turnamen ini tidak hanya sebagai ajang kompetisi tetapi juga sebagai sarana memperkokoh persaudaraan di antara pecinta bulu tangkis kabupatenbanggai   pada kesempatan yang sama ketua panitia badminton open tournament bupati cup ridwan t  polopa menyampaikan adapun jumlah peserta berasal dari kabupatenkota se sulawesi tengah sebanyak  peserta   waktu pelaksanaan dimulai dari tanggal  sampai  februari   kata ridwan polopa  para peserta akan memperebutkan hadiah sebesar rp  juta    \",\n          \"laporan wartawan tribunpalu com asnawi zikri tribunpalu com banggai  gudang bahan aluminium di jl teuku umar kompleks pertokoan kelurahan luwuk kabupatenbanggai  sulawesi tengah mengalami kebakaran jumat  sekitar pukul   wita  plt  kapolsek luwuk akp steven lewaherillah mengungkapkan dari keterangan seorang saksi kbu andui melihat kemunculan titik api di bagian samping bangunan gudang milik donal dusia    titik api muncul dari tumpukan gabus ikan tepat di samping gudang  ungkapnya  akp steven menyebutkan bahwa saat itu saksi lain mendengar teriakan dan keluar melihat api sudah membesar di bagian samping gudang  sehingga langsung menghubungi pemadam kebakaran  beruntung api cepat dipadamkan sehingga tidak meluas   hanya bagian samping saja yang terbakar  kata akp steven  ia menambahkan kerugian material dalam peristiwa tersebut belum dapat dipastikan dan tidak ada korban jiwa   dugaan penyebab kebakaran belum dipastikan  anggota masih mengumpulkan keterangan saksi  kata dia    \"\n        ],\n        \"semantic_type\": \"\",\n        \"description\": \"\"\n      }\n    },\n    {\n      \"column\": \"clean_double_ws\",\n      \"properties\": {\n        \"dtype\": \"string\",\n        \"num_unique_values\": 5,\n        \"samples\": [\n          \"laporan wartawan tribunpalu com asnawi zikri tribunpalu com banggai bupati banggai amirudin membuka acara badminton open tournament bupati cup di gor kilongan kecamatan luwuk utara kabupatenbanggai sulawesi tengah kamis turnamen ini menjadi ajang yang dinantikan para pecinta bulu tangkis di kabupatenbanggai serta menjadi wadah untuk menumbuhkan semangat kompetisi dan kebersamaan dalam olahraga pertama saya sangat bangga dengan antusias daripada atlet pada malam hari ini luar biasa kurang lebih lebih peserta tutur bupati amirudin karena antusiasme yang cukup besar turnamen badminton ini direncanakan akan dilaksanakan setahun dua kali malam hari ini adalah putaran yang pertama dan insya allah putaran keduanya kita laksanakan di bulan juli tandas bupati amirudin bupati amirudin mengaku turnamen sangat penting karena sebagai ajang menyiapkan atlet muda kabupatenbanggai untuk bisa mewakili sulawesi tengah di ajang nasional sebab turnamen kali ini tk hanya melibatkan atlet banggai tetapi juga diikuti atlet luar daerah ini motivasi untuk kita semua melihat para atlet atlet berprestasi sehingga ke depan adik adik kita bisa mengikuti jejak mereka yang sebentar akan kita saksikan bersama jelas bupati amirudin bupati amirudin juga menyatakan junjung tinggi sportifitas dan menjadikan turnamen ini tidak hanya sebagai ajang kompetisi tetapi juga sebagai sarana memperkokoh persaudaraan di antara pecinta bulu tangkis kabupatenbanggai pada kesempatan yang sama ketua panitia badminton open tournament bupati cup ridwan t polopa menyampaikan adapun jumlah peserta berasal dari kabupatenkota se sulawesi tengah sebanyak peserta waktu pelaksanaan dimulai dari tanggal sampai februari kata ridwan polopa para peserta akan memperebutkan hadiah sebesar rp juta\",\n          \"laporan wartawan tribunpalu com asnawi zikri tribunpalu com banggai gudang bahan aluminium di jl teuku umar kompleks pertokoan kelurahan luwuk kabupatenbanggai sulawesi tengah mengalami kebakaran jumat sekitar pukul wita plt kapolsek luwuk akp steven lewaherillah mengungkapkan dari keterangan seorang saksi kbu andui melihat kemunculan titik api di bagian samping bangunan gudang milik donal dusia titik api muncul dari tumpukan gabus ikan tepat di samping gudang ungkapnya akp steven menyebutkan bahwa saat itu saksi lain mendengar teriakan dan keluar melihat api sudah membesar di bagian samping gudang sehingga langsung menghubungi pemadam kebakaran beruntung api cepat dipadamkan sehingga tidak meluas hanya bagian samping saja yang terbakar kata akp steven ia menambahkan kerugian material dalam peristiwa tersebut belum dapat dipastikan dan tidak ada korban jiwa dugaan penyebab kebakaran belum dipastikan anggota masih mengumpulkan keterangan saksi kata dia\"\n        ],\n        \"semantic_type\": \"\",\n        \"description\": \"\"\n      }\n    }\n  ]\n}"
            }
          },
          "metadata": {},
          "execution_count": 66
        }
      ]
    },
    {
      "cell_type": "markdown",
      "metadata": {
        "id": "akyZhgQzeZ8I"
      },
      "source": [
        "## Stopword Removal"
      ]
    },
    {
      "cell_type": "markdown",
      "metadata": {
        "id": "K4wdQI-SitWH"
      },
      "source": [
        "### Get custom stopwords"
      ]
    },
    {
      "cell_type": "code",
      "source": [
        "url1 = 'https://raw.githubusercontent.com/TaillessTanuki/Berita_Banggai/main/ID-stopwords_banggai_addedwords.csv'\n",
        "df_stopword1 = pd.read_csv(url1, delimiter = \";\",encoding='cp1252')"
      ],
      "metadata": {
        "id": "s67SS5SuKOxZ"
      },
      "execution_count": null,
      "outputs": []
    },
    {
      "cell_type": "code",
      "source": [
        "url2 = 'https://raw.githubusercontent.com/TaillessTanuki/Berita_Banggai/main/ID-Stopwords(MasDevid).csv'\n",
        "df_stopword2 = pd.read_csv(url2, delimiter = \";\",encoding='cp1252')"
      ],
      "metadata": {
        "id": "hAUiXJwX3wK6"
      },
      "execution_count": null,
      "outputs": []
    },
    {
      "cell_type": "code",
      "execution_count": null,
      "metadata": {
        "id": "2K7pfU2Hh9_A"
      },
      "outputs": [],
      "source": [
        "# df_stopword.info()"
      ]
    },
    {
      "cell_type": "code",
      "source": [
        "# df_stopword"
      ],
      "metadata": {
        "id": "-Z9dEyx8IMV9"
      },
      "execution_count": null,
      "outputs": []
    },
    {
      "cell_type": "code",
      "source": [
        "df.head()"
      ],
      "metadata": {
        "id": "l4WBm9IpPvA7"
      },
      "execution_count": null,
      "outputs": []
    },
    {
      "cell_type": "code",
      "execution_count": null,
      "metadata": {
        "id": "Ubey61YNimwt"
      },
      "outputs": [],
      "source": [
        "custom_stopword1 = list(df_stopword1['stopword'])\n",
        "custom_stopword2 = list(df_stopword2['Stopwords'])"
      ]
    },
    {
      "cell_type": "markdown",
      "metadata": {
        "id": "qjt7FLMViwiU"
      },
      "source": [
        "### Removal"
      ]
    },
    {
      "cell_type": "code",
      "execution_count": null,
      "metadata": {
        "id": "OMhxvMrpef4X"
      },
      "outputs": [],
      "source": [
        "# Prepare stopword remover\n",
        "#factory = StopWordRemoverFactory()\n",
        "#stopwords = factory.get_stop_words() + custom_stopword\n",
        "#print(stopwords)"
      ]
    },
    {
      "cell_type": "code",
      "source": [
        "# using only sastrawy\n",
        "from Sastrawi.StopWordRemover.StopWordRemoverFactory import StopWordRemoverFactory\n",
        "\n",
        "factory = StopWordRemoverFactory()\n",
        "stopwords = factory.get_stop_words() + custom_stopword1 + custom_stopword2"
      ],
      "metadata": {
        "id": "GNEVmdBq8bDz"
      },
      "execution_count": null,
      "outputs": []
    },
    {
      "cell_type": "code",
      "source": [
        "len(stopwords)"
      ],
      "metadata": {
        "colab": {
          "base_uri": "https://localhost:8080/"
        },
        "id": "j6qNtOJbuN05",
        "outputId": "91ffffbe-3666-449c-e4b6-6bfd4251ca9e"
      },
      "execution_count": null,
      "outputs": [
        {
          "output_type": "execute_result",
          "data": {
            "text/plain": [
              "946"
            ]
          },
          "metadata": {},
          "execution_count": 44
        }
      ]
    },
    {
      "cell_type": "code",
      "execution_count": null,
      "metadata": {
        "id": "ClUNuzeyjDEt"
      },
      "outputs": [],
      "source": [
        "dictionary = ArrayDictionary(stopwords)\n",
        "stopword = StopWordRemover(dictionary)\n"
      ]
    },
    {
      "cell_type": "code",
      "source": [
        "# stopwords"
      ],
      "metadata": {
        "id": "FsxBlFiyPWye"
      },
      "execution_count": null,
      "outputs": []
    },
    {
      "cell_type": "code",
      "execution_count": null,
      "metadata": {
        "id": "OCny9HuTc2UR"
      },
      "outputs": [],
      "source": [
        "def filtering(text):\n",
        "  stop = stopword.remove(text)\n",
        "  return stop"
      ]
    },
    {
      "cell_type": "code",
      "source": [
        "df.head()"
      ],
      "metadata": {
        "id": "obxTS5DcMNWz",
        "colab": {
          "base_uri": "https://localhost:8080/",
          "height": 293
        },
        "outputId": "c7a59813-eba8-4f72-ba09-e0ddedddfff2"
      },
      "execution_count": null,
      "outputs": [
        {
          "output_type": "execute_result",
          "data": {
            "text/plain": [
              "  final_review                                              title  \\\n",
              "0      positif  Mobil Sim Keliling Polres Banggai Meriahkan Pa...   \n",
              "1      positif  Film Horor “Piara Mayat”,  Kreativitas Anak Mu...   \n",
              "2      positif  Festival Malabot Tumbe 2023 Kembali Meriahkan ...   \n",
              "3      positif  Rakor Kampanye Damai Pemilu 2024, Polres Bangg...   \n",
              "4      positif  Bawaslu Banggai Perkuat Koordinasi dengan Panw...   \n",
              "\n",
              "                                                text  \\\n",
              "0  KABAR LUWUK –  Suasana Pasar Murah bersubsidi ...   \n",
              "1  KABAR LUWUK  –  Film Horor“Piara Mayat”,Kreati...   \n",
              "2  KABAR LUWUK  –Festival Malabot Tumbe 2023Kemba...   \n",
              "3  “Kerja Cepat dan Terkoordinir dalam Penerbitan...   \n",
              "4  KABAR LUWUK  –Bawaslu BanggaiPerkuat Koordinas...   \n",
              "\n",
              "                                                 lwr  \\\n",
              "0  kabar luwuk –  suasana pasar murah bersubsidi ...   \n",
              "1  kabar luwuk  –  film horor“piara mayat”,kreati...   \n",
              "2  kabar luwuk  –festival malabot tumbe 2023kemba...   \n",
              "3  “kerja cepat dan terkoordinir dalam penerbitan...   \n",
              "4  kabar luwuk  –bawaslu banggaiperkuat koordinas...   \n",
              "\n",
              "                                        clean_number  \\\n",
              "0  kabar luwuk –  suasana pasar murah bersubsidi ...   \n",
              "1  kabar luwuk  –  film horor“piara mayat”,kreati...   \n",
              "2  kabar luwuk  –festival malabot tumbe kembali m...   \n",
              "3  “kerja cepat dan terkoordinir dalam penerbitan...   \n",
              "4  kabar luwuk  –bawaslu banggaiperkuat koordinas...   \n",
              "\n",
              "                                         clean_punct  \\\n",
              "0  kabar luwuk    suasana pasar murah bersubsidi ...   \n",
              "1  kabar luwuk     film horor piara mayat kreativ...   \n",
              "2  kabar luwuk   festival malabot tumbe kembali m...   \n",
              "3   kerja cepat dan terkoordinir dalam penerbitan...   \n",
              "4  kabar luwuk   bawaslu banggaiperkuat koordinas...   \n",
              "\n",
              "                                     clean_double_ws  \n",
              "0  kabar luwuk suasana pasar murah bersubsidi di ...  \n",
              "1  kabar luwuk film horor piara mayat kreativitas...  \n",
              "2  kabar luwuk festival malabot tumbe kembali mer...  \n",
              "3  kerja cepat dan terkoordinir dalam penerbitan ...  \n",
              "4  kabar luwuk bawaslu banggaiperkuat koordinasi ...  "
            ],
            "text/html": [
              "\n",
              "  <div id=\"df-45107572-ac00-46ed-8b6a-1c3980953d62\" class=\"colab-df-container\">\n",
              "    <div>\n",
              "<style scoped>\n",
              "    .dataframe tbody tr th:only-of-type {\n",
              "        vertical-align: middle;\n",
              "    }\n",
              "\n",
              "    .dataframe tbody tr th {\n",
              "        vertical-align: top;\n",
              "    }\n",
              "\n",
              "    .dataframe thead th {\n",
              "        text-align: right;\n",
              "    }\n",
              "</style>\n",
              "<table border=\"1\" class=\"dataframe\">\n",
              "  <thead>\n",
              "    <tr style=\"text-align: right;\">\n",
              "      <th></th>\n",
              "      <th>final_review</th>\n",
              "      <th>title</th>\n",
              "      <th>text</th>\n",
              "      <th>lwr</th>\n",
              "      <th>clean_number</th>\n",
              "      <th>clean_punct</th>\n",
              "      <th>clean_double_ws</th>\n",
              "    </tr>\n",
              "  </thead>\n",
              "  <tbody>\n",
              "    <tr>\n",
              "      <th>0</th>\n",
              "      <td>positif</td>\n",
              "      <td>Mobil Sim Keliling Polres Banggai Meriahkan Pa...</td>\n",
              "      <td>KABAR LUWUK –  Suasana Pasar Murah bersubsidi ...</td>\n",
              "      <td>kabar luwuk –  suasana pasar murah bersubsidi ...</td>\n",
              "      <td>kabar luwuk –  suasana pasar murah bersubsidi ...</td>\n",
              "      <td>kabar luwuk    suasana pasar murah bersubsidi ...</td>\n",
              "      <td>kabar luwuk suasana pasar murah bersubsidi di ...</td>\n",
              "    </tr>\n",
              "    <tr>\n",
              "      <th>1</th>\n",
              "      <td>positif</td>\n",
              "      <td>Film Horor “Piara Mayat”,  Kreativitas Anak Mu...</td>\n",
              "      <td>KABAR LUWUK  –  Film Horor“Piara Mayat”,Kreati...</td>\n",
              "      <td>kabar luwuk  –  film horor“piara mayat”,kreati...</td>\n",
              "      <td>kabar luwuk  –  film horor“piara mayat”,kreati...</td>\n",
              "      <td>kabar luwuk     film horor piara mayat kreativ...</td>\n",
              "      <td>kabar luwuk film horor piara mayat kreativitas...</td>\n",
              "    </tr>\n",
              "    <tr>\n",
              "      <th>2</th>\n",
              "      <td>positif</td>\n",
              "      <td>Festival Malabot Tumbe 2023 Kembali Meriahkan ...</td>\n",
              "      <td>KABAR LUWUK  –Festival Malabot Tumbe 2023Kemba...</td>\n",
              "      <td>kabar luwuk  –festival malabot tumbe 2023kemba...</td>\n",
              "      <td>kabar luwuk  –festival malabot tumbe kembali m...</td>\n",
              "      <td>kabar luwuk   festival malabot tumbe kembali m...</td>\n",
              "      <td>kabar luwuk festival malabot tumbe kembali mer...</td>\n",
              "    </tr>\n",
              "    <tr>\n",
              "      <th>3</th>\n",
              "      <td>positif</td>\n",
              "      <td>Rakor Kampanye Damai Pemilu 2024, Polres Bangg...</td>\n",
              "      <td>“Kerja Cepat dan Terkoordinir dalam Penerbitan...</td>\n",
              "      <td>“kerja cepat dan terkoordinir dalam penerbitan...</td>\n",
              "      <td>“kerja cepat dan terkoordinir dalam penerbitan...</td>\n",
              "      <td>kerja cepat dan terkoordinir dalam penerbitan...</td>\n",
              "      <td>kerja cepat dan terkoordinir dalam penerbitan ...</td>\n",
              "    </tr>\n",
              "    <tr>\n",
              "      <th>4</th>\n",
              "      <td>positif</td>\n",
              "      <td>Bawaslu Banggai Perkuat Koordinasi dengan Panw...</td>\n",
              "      <td>KABAR LUWUK  –Bawaslu BanggaiPerkuat Koordinas...</td>\n",
              "      <td>kabar luwuk  –bawaslu banggaiperkuat koordinas...</td>\n",
              "      <td>kabar luwuk  –bawaslu banggaiperkuat koordinas...</td>\n",
              "      <td>kabar luwuk   bawaslu banggaiperkuat koordinas...</td>\n",
              "      <td>kabar luwuk bawaslu banggaiperkuat koordinasi ...</td>\n",
              "    </tr>\n",
              "  </tbody>\n",
              "</table>\n",
              "</div>\n",
              "    <div class=\"colab-df-buttons\">\n",
              "\n",
              "  <div class=\"colab-df-container\">\n",
              "    <button class=\"colab-df-convert\" onclick=\"convertToInteractive('df-45107572-ac00-46ed-8b6a-1c3980953d62')\"\n",
              "            title=\"Convert this dataframe to an interactive table.\"\n",
              "            style=\"display:none;\">\n",
              "\n",
              "  <svg xmlns=\"http://www.w3.org/2000/svg\" height=\"24px\" viewBox=\"0 -960 960 960\">\n",
              "    <path d=\"M120-120v-720h720v720H120Zm60-500h600v-160H180v160Zm220 220h160v-160H400v160Zm0 220h160v-160H400v160ZM180-400h160v-160H180v160Zm440 0h160v-160H620v160ZM180-180h160v-160H180v160Zm440 0h160v-160H620v160Z\"/>\n",
              "  </svg>\n",
              "    </button>\n",
              "\n",
              "  <style>\n",
              "    .colab-df-container {\n",
              "      display:flex;\n",
              "      gap: 12px;\n",
              "    }\n",
              "\n",
              "    .colab-df-convert {\n",
              "      background-color: #E8F0FE;\n",
              "      border: none;\n",
              "      border-radius: 50%;\n",
              "      cursor: pointer;\n",
              "      display: none;\n",
              "      fill: #1967D2;\n",
              "      height: 32px;\n",
              "      padding: 0 0 0 0;\n",
              "      width: 32px;\n",
              "    }\n",
              "\n",
              "    .colab-df-convert:hover {\n",
              "      background-color: #E2EBFA;\n",
              "      box-shadow: 0px 1px 2px rgba(60, 64, 67, 0.3), 0px 1px 3px 1px rgba(60, 64, 67, 0.15);\n",
              "      fill: #174EA6;\n",
              "    }\n",
              "\n",
              "    .colab-df-buttons div {\n",
              "      margin-bottom: 4px;\n",
              "    }\n",
              "\n",
              "    [theme=dark] .colab-df-convert {\n",
              "      background-color: #3B4455;\n",
              "      fill: #D2E3FC;\n",
              "    }\n",
              "\n",
              "    [theme=dark] .colab-df-convert:hover {\n",
              "      background-color: #434B5C;\n",
              "      box-shadow: 0px 1px 3px 1px rgba(0, 0, 0, 0.15);\n",
              "      filter: drop-shadow(0px 1px 2px rgba(0, 0, 0, 0.3));\n",
              "      fill: #FFFFFF;\n",
              "    }\n",
              "  </style>\n",
              "\n",
              "    <script>\n",
              "      const buttonEl =\n",
              "        document.querySelector('#df-45107572-ac00-46ed-8b6a-1c3980953d62 button.colab-df-convert');\n",
              "      buttonEl.style.display =\n",
              "        google.colab.kernel.accessAllowed ? 'block' : 'none';\n",
              "\n",
              "      async function convertToInteractive(key) {\n",
              "        const element = document.querySelector('#df-45107572-ac00-46ed-8b6a-1c3980953d62');\n",
              "        const dataTable =\n",
              "          await google.colab.kernel.invokeFunction('convertToInteractive',\n",
              "                                                    [key], {});\n",
              "        if (!dataTable) return;\n",
              "\n",
              "        const docLinkHtml = 'Like what you see? Visit the ' +\n",
              "          '<a target=\"_blank\" href=https://colab.research.google.com/notebooks/data_table.ipynb>data table notebook</a>'\n",
              "          + ' to learn more about interactive tables.';\n",
              "        element.innerHTML = '';\n",
              "        dataTable['output_type'] = 'display_data';\n",
              "        await google.colab.output.renderOutput(dataTable, element);\n",
              "        const docLink = document.createElement('div');\n",
              "        docLink.innerHTML = docLinkHtml;\n",
              "        element.appendChild(docLink);\n",
              "      }\n",
              "    </script>\n",
              "  </div>\n",
              "\n",
              "\n",
              "<div id=\"df-f2e9f8cd-bdb5-4f28-824e-03f9b2e4c56f\">\n",
              "  <button class=\"colab-df-quickchart\" onclick=\"quickchart('df-f2e9f8cd-bdb5-4f28-824e-03f9b2e4c56f')\"\n",
              "            title=\"Suggest charts\"\n",
              "            style=\"display:none;\">\n",
              "\n",
              "<svg xmlns=\"http://www.w3.org/2000/svg\" height=\"24px\"viewBox=\"0 0 24 24\"\n",
              "     width=\"24px\">\n",
              "    <g>\n",
              "        <path d=\"M19 3H5c-1.1 0-2 .9-2 2v14c0 1.1.9 2 2 2h14c1.1 0 2-.9 2-2V5c0-1.1-.9-2-2-2zM9 17H7v-7h2v7zm4 0h-2V7h2v10zm4 0h-2v-4h2v4z\"/>\n",
              "    </g>\n",
              "</svg>\n",
              "  </button>\n",
              "\n",
              "<style>\n",
              "  .colab-df-quickchart {\n",
              "      --bg-color: #E8F0FE;\n",
              "      --fill-color: #1967D2;\n",
              "      --hover-bg-color: #E2EBFA;\n",
              "      --hover-fill-color: #174EA6;\n",
              "      --disabled-fill-color: #AAA;\n",
              "      --disabled-bg-color: #DDD;\n",
              "  }\n",
              "\n",
              "  [theme=dark] .colab-df-quickchart {\n",
              "      --bg-color: #3B4455;\n",
              "      --fill-color: #D2E3FC;\n",
              "      --hover-bg-color: #434B5C;\n",
              "      --hover-fill-color: #FFFFFF;\n",
              "      --disabled-bg-color: #3B4455;\n",
              "      --disabled-fill-color: #666;\n",
              "  }\n",
              "\n",
              "  .colab-df-quickchart {\n",
              "    background-color: var(--bg-color);\n",
              "    border: none;\n",
              "    border-radius: 50%;\n",
              "    cursor: pointer;\n",
              "    display: none;\n",
              "    fill: var(--fill-color);\n",
              "    height: 32px;\n",
              "    padding: 0;\n",
              "    width: 32px;\n",
              "  }\n",
              "\n",
              "  .colab-df-quickchart:hover {\n",
              "    background-color: var(--hover-bg-color);\n",
              "    box-shadow: 0 1px 2px rgba(60, 64, 67, 0.3), 0 1px 3px 1px rgba(60, 64, 67, 0.15);\n",
              "    fill: var(--button-hover-fill-color);\n",
              "  }\n",
              "\n",
              "  .colab-df-quickchart-complete:disabled,\n",
              "  .colab-df-quickchart-complete:disabled:hover {\n",
              "    background-color: var(--disabled-bg-color);\n",
              "    fill: var(--disabled-fill-color);\n",
              "    box-shadow: none;\n",
              "  }\n",
              "\n",
              "  .colab-df-spinner {\n",
              "    border: 2px solid var(--fill-color);\n",
              "    border-color: transparent;\n",
              "    border-bottom-color: var(--fill-color);\n",
              "    animation:\n",
              "      spin 1s steps(1) infinite;\n",
              "  }\n",
              "\n",
              "  @keyframes spin {\n",
              "    0% {\n",
              "      border-color: transparent;\n",
              "      border-bottom-color: var(--fill-color);\n",
              "      border-left-color: var(--fill-color);\n",
              "    }\n",
              "    20% {\n",
              "      border-color: transparent;\n",
              "      border-left-color: var(--fill-color);\n",
              "      border-top-color: var(--fill-color);\n",
              "    }\n",
              "    30% {\n",
              "      border-color: transparent;\n",
              "      border-left-color: var(--fill-color);\n",
              "      border-top-color: var(--fill-color);\n",
              "      border-right-color: var(--fill-color);\n",
              "    }\n",
              "    40% {\n",
              "      border-color: transparent;\n",
              "      border-right-color: var(--fill-color);\n",
              "      border-top-color: var(--fill-color);\n",
              "    }\n",
              "    60% {\n",
              "      border-color: transparent;\n",
              "      border-right-color: var(--fill-color);\n",
              "    }\n",
              "    80% {\n",
              "      border-color: transparent;\n",
              "      border-right-color: var(--fill-color);\n",
              "      border-bottom-color: var(--fill-color);\n",
              "    }\n",
              "    90% {\n",
              "      border-color: transparent;\n",
              "      border-bottom-color: var(--fill-color);\n",
              "    }\n",
              "  }\n",
              "</style>\n",
              "\n",
              "  <script>\n",
              "    async function quickchart(key) {\n",
              "      const quickchartButtonEl =\n",
              "        document.querySelector('#' + key + ' button');\n",
              "      quickchartButtonEl.disabled = true;  // To prevent multiple clicks.\n",
              "      quickchartButtonEl.classList.add('colab-df-spinner');\n",
              "      try {\n",
              "        const charts = await google.colab.kernel.invokeFunction(\n",
              "            'suggestCharts', [key], {});\n",
              "      } catch (error) {\n",
              "        console.error('Error during call to suggestCharts:', error);\n",
              "      }\n",
              "      quickchartButtonEl.classList.remove('colab-df-spinner');\n",
              "      quickchartButtonEl.classList.add('colab-df-quickchart-complete');\n",
              "    }\n",
              "    (() => {\n",
              "      let quickchartButtonEl =\n",
              "        document.querySelector('#df-f2e9f8cd-bdb5-4f28-824e-03f9b2e4c56f button');\n",
              "      quickchartButtonEl.style.display =\n",
              "        google.colab.kernel.accessAllowed ? 'block' : 'none';\n",
              "    })();\n",
              "  </script>\n",
              "</div>\n",
              "    </div>\n",
              "  </div>\n"
            ],
            "application/vnd.google.colaboratory.intrinsic+json": {
              "type": "dataframe",
              "variable_name": "df",
              "summary": "{\n  \"name\": \"df\",\n  \"rows\": 579,\n  \"fields\": [\n    {\n      \"column\": \"final_review\",\n      \"properties\": {\n        \"dtype\": \"category\",\n        \"num_unique_values\": 2,\n        \"samples\": [\n          \"negatif\",\n          \"positif\"\n        ],\n        \"semantic_type\": \"\",\n        \"description\": \"\"\n      }\n    },\n    {\n      \"column\": \"title\",\n      \"properties\": {\n        \"dtype\": \"string\",\n        \"num_unique_values\": 579,\n        \"samples\": [\n          \"Kades Sayambongin di Banggai Sebut Tudingan Penyimpangan Mengada-ada\",\n          \"Iman Pampawa Ajak Warga Banggai Menangkan Golkar Kabupaten sampai Pusat\"\n        ],\n        \"semantic_type\": \"\",\n        \"description\": \"\"\n      }\n    },\n    {\n      \"column\": \"text\",\n      \"properties\": {\n        \"dtype\": \"string\",\n        \"num_unique_values\": 572,\n        \"samples\": [\n          \"Polresbanggai.com\\u2013kapolres banggaiAKBP Ade Nuramdani, SH, SIK, MM menerima surat dari Pengurus Persatuan Sepak Bola Seluruh Indonesia (PSSI) terkait izin salah satu anggotanya untuk jadi wasit pada kompetisi Piala Soeratin U-17 di Jawa Timur.Izin tersebut diberikan kepada Bripka Arfandi Abdullah, selaku personel yang bertugas di Bagian SDMpolres banggai.\\u201cBripka Arfandi ditunjuk jadi wasit Piala Soeratin U-17, yang di gelar di Kota Surabaya, 20 Januari hingga 3 Februari 2024,\\u201d kata Kasi Humas Polres Banggai IPTU Al Amin S. Muda dalam keterangannya, Minggu (21/1/2024).Pada pertandingan perdana kemarin Sabtu (20/1/2024) bertempat di lapangan TOR Surabaya, Ia sukses memimpin jalannya pertandingan yang mempertemukan Provinsi Jambi melawan Provinsi Sulawesi Utara.Olahraga sepakbola bukan hal baru bagi Bripka Arfandi. Ia sudah mengenal sepakbola semenjak kecil. Bagaimana tidak, dari lingkungan keluarga sampai orang-orang disekitarnya bergelut dengan olahraga ini.Diketahui Bripka Arfandi memulai karir sebagai wasit nasional PSSI berlisensi C1 pada tahun 2018 dan beberapa event penting sudah dipercayakan kepadanya.Pada tahun 2019 lalu, ia dipilih secara langsung oleh PSSI Pusat untuk bertugas sebagai wasit di Liga satu antara PSM Makassar versus Persebaya Surabaya di Biak Papua*Humas Polres Banggai \",\n          \"\\u201cPenghargaan diterima langsung oleh Wakil Bupati Banggai\\u201dKABAR LUWUK  \\u2013Pemda BanggaiRaihPenghargaan K1S Awards 2023dari Kementerian Keuangan.Gubernur Sulawesi Tengah,H. Rusdi Mastura, membuka acaraprestisius K1S Awards 2023di Gedung Pogombo Kantor Gubernur, Sulawesi Tengah.Rabu 15/11/2023.Dalam kegiatan yang dihadiri olehWakil Bupati Banggai,Drs. H. Furqanuddin, M.M, serta para pemangku kepentingan dari seluruh kabupaten/kota,Forkopimda Provinsi,dan perwakilan Kementerian Keuangan, pemerintah daerah Banggai berhasil meraih penghargaan atas kontribusinya dalam pelaksanaan anggaran.Gubernur Mastura, dalam sambutannya, menyoroti sinergi dan kolaborasi dalam peningkatan pelayanan di Sulawesi Tengah. Hasil yang signifikan terlihat melalui pertumbuhan ekonomi sebesar 13,06 Persen Year On Year pada kuartal ketiga tahun 2023.Sektor industri pengolahan tumbuh pesat sebesar 27,9 persen, sementara ekspor barang dan jasa meningkat 23,23 persen.Gubernur mengapresiasi kerja keras semua pihak yang telah berkontribusi pada pencapaian ini.Wakil Bupati Banggai, Drs. H. Furqanuddin, M.M, menerima penghargaan dari Gubernur Mastura atas kontribusi Pemerintah Kabupaten Banggai dalam pelaksanaan anggaran di daerah.Prestasi ini menjadi bukti nyata bahwa kerja sama antara pemerintah daerah dan stakeholder lainnya mampu mengoptimalkan kinerja anggaran daerah.Peningkatan ekonomi yang signifikan di Sulawesi Tengah bukan hanya prestasi pemerintah provinsi tetapi juga hasil dari sinergi antara pemerintah kabupaten/kota.Penghargaan ini menjadi tonggak penting bagi Kabupaten Banggai, memperkuat posisinya dalam mendukung pertumbuhan ekonomi dan pelayanan publik di tingkat daerah.Dengan demikian, prestasi ini semakin menegaskan komitmen pemerintah daerah untuk terus berkontribusi dalam pembangunan Sulawesi Tengah yang lebih baik.**\"\n        ],\n        \"semantic_type\": \"\",\n        \"description\": \"\"\n      }\n    },\n    {\n      \"column\": \"lwr\",\n      \"properties\": {\n        \"dtype\": \"string\",\n        \"num_unique_values\": 572,\n        \"samples\": [\n          \"polresbanggai.com\\u2013kapolres banggaiakbp ade nuramdani, sh, sik, mm menerima surat dari pengurus persatuan sepak bola seluruh indonesia (pssi) terkait izin salah satu anggotanya untuk jadi wasit pada kompetisi piala soeratin u-17 di jawa timur.izin tersebut diberikan kepada bripka arfandi abdullah, selaku personel yang bertugas di bagian sdmpolres banggai.\\u201cbripka arfandi ditunjuk jadi wasit piala soeratin u-17, yang di gelar di kota surabaya, 20 januari hingga 3 februari 2024,\\u201d kata kasi humas polres banggai iptu al amin s. muda dalam keterangannya, minggu (21/1/2024).pada pertandingan perdana kemarin sabtu (20/1/2024) bertempat di lapangan tor surabaya, ia sukses memimpin jalannya pertandingan yang mempertemukan provinsi jambi melawan provinsi sulawesi utara.olahraga sepakbola bukan hal baru bagi bripka arfandi. ia sudah mengenal sepakbola semenjak kecil. bagaimana tidak, dari lingkungan keluarga sampai orang-orang disekitarnya bergelut dengan olahraga ini.diketahui bripka arfandi memulai karir sebagai wasit nasional pssi berlisensi c1 pada tahun 2018 dan beberapa event penting sudah dipercayakan kepadanya.pada tahun 2019 lalu, ia dipilih secara langsung oleh pssi pusat untuk bertugas sebagai wasit di liga satu antara psm makassar versus persebaya surabaya di biak papua*humas polres banggai \",\n          \"\\u201cpenghargaan diterima langsung oleh wakil bupati banggai\\u201dkabar luwuk  \\u2013pemda banggairaihpenghargaan k1s awards 2023dari kementerian keuangan.gubernur sulawesi tengah,h. rusdi mastura, membuka acaraprestisius k1s awards 2023di gedung pogombo kantor gubernur, sulawesi tengah.rabu 15/11/2023.dalam kegiatan yang dihadiri olehwakil bupati banggai,drs. h. furqanuddin, m.m, serta para pemangku kepentingan dari seluruh kabupaten/kota,forkopimda provinsi,dan perwakilan kementerian keuangan, pemerintah daerah banggai berhasil meraih penghargaan atas kontribusinya dalam pelaksanaan anggaran.gubernur mastura, dalam sambutannya, menyoroti sinergi dan kolaborasi dalam peningkatan pelayanan di sulawesi tengah. hasil yang signifikan terlihat melalui pertumbuhan ekonomi sebesar 13,06 persen year on year pada kuartal ketiga tahun 2023.sektor industri pengolahan tumbuh pesat sebesar 27,9 persen, sementara ekspor barang dan jasa meningkat 23,23 persen.gubernur mengapresiasi kerja keras semua pihak yang telah berkontribusi pada pencapaian ini.wakil bupati banggai, drs. h. furqanuddin, m.m, menerima penghargaan dari gubernur mastura atas kontribusi pemerintah kabupaten banggai dalam pelaksanaan anggaran di daerah.prestasi ini menjadi bukti nyata bahwa kerja sama antara pemerintah daerah dan stakeholder lainnya mampu mengoptimalkan kinerja anggaran daerah.peningkatan ekonomi yang signifikan di sulawesi tengah bukan hanya prestasi pemerintah provinsi tetapi juga hasil dari sinergi antara pemerintah kabupaten/kota.penghargaan ini menjadi tonggak penting bagi kabupaten banggai, memperkuat posisinya dalam mendukung pertumbuhan ekonomi dan pelayanan publik di tingkat daerah.dengan demikian, prestasi ini semakin menegaskan komitmen pemerintah daerah untuk terus berkontribusi dalam pembangunan sulawesi tengah yang lebih baik.**\"\n        ],\n        \"semantic_type\": \"\",\n        \"description\": \"\"\n      }\n    },\n    {\n      \"column\": \"clean_number\",\n      \"properties\": {\n        \"dtype\": \"string\",\n        \"num_unique_values\": 572,\n        \"samples\": [\n          \"polresbanggai.com\\u2013kapolres banggaiakbp ade nuramdani, sh, sik, mm menerima surat dari pengurus persatuan sepak bola seluruh indonesia (pssi) terkait izin salah satu anggotanya untuk jadi wasit pada kompetisi piala soeratin u- di jawa timur.izin tersebut diberikan kepada bripka arfandi abdullah, selaku personel yang bertugas di bagian sdmpolres banggai.\\u201cbripka arfandi ditunjuk jadi wasit piala soeratin u-, yang di gelar di kota surabaya,  januari hingga  februari ,\\u201d kata kasi humas polres banggai iptu al amin s. muda dalam keterangannya, minggu (//).pada pertandingan perdana kemarin sabtu (//) bertempat di lapangan tor surabaya, ia sukses memimpin jalannya pertandingan yang mempertemukan provinsi jambi melawan provinsi sulawesi utara.olahraga sepakbola bukan hal baru bagi bripka arfandi. ia sudah mengenal sepakbola semenjak kecil. bagaimana tidak, dari lingkungan keluarga sampai orang-orang disekitarnya bergelut dengan olahraga ini.diketahui bripka arfandi memulai karir sebagai wasit nasional pssi berlisensi c pada tahun  dan beberapa event penting sudah dipercayakan kepadanya.pada tahun  lalu, ia dipilih secara langsung oleh pssi pusat untuk bertugas sebagai wasit di liga satu antara psm makassar versus persebaya surabaya di biak papua*humas polres banggai \",\n          \"\\u201cpenghargaan diterima langsung oleh wakil bupati banggai\\u201dkabar luwuk  \\u2013pemda banggairaihpenghargaan ks awards dari kementerian keuangan.gubernur sulawesi tengah,h. rusdi mastura, membuka acaraprestisius ks awards di gedung pogombo kantor gubernur, sulawesi tengah.rabu //.dalam kegiatan yang dihadiri olehwakil bupati banggai,drs. h. furqanuddin, m.m, serta para pemangku kepentingan dari seluruh kabupaten/kota,forkopimda provinsi,dan perwakilan kementerian keuangan, pemerintah daerah banggai berhasil meraih penghargaan atas kontribusinya dalam pelaksanaan anggaran.gubernur mastura, dalam sambutannya, menyoroti sinergi dan kolaborasi dalam peningkatan pelayanan di sulawesi tengah. hasil yang signifikan terlihat melalui pertumbuhan ekonomi sebesar , persen year on year pada kuartal ketiga tahun .sektor industri pengolahan tumbuh pesat sebesar , persen, sementara ekspor barang dan jasa meningkat , persen.gubernur mengapresiasi kerja keras semua pihak yang telah berkontribusi pada pencapaian ini.wakil bupati banggai, drs. h. furqanuddin, m.m, menerima penghargaan dari gubernur mastura atas kontribusi pemerintah kabupaten banggai dalam pelaksanaan anggaran di daerah.prestasi ini menjadi bukti nyata bahwa kerja sama antara pemerintah daerah dan stakeholder lainnya mampu mengoptimalkan kinerja anggaran daerah.peningkatan ekonomi yang signifikan di sulawesi tengah bukan hanya prestasi pemerintah provinsi tetapi juga hasil dari sinergi antara pemerintah kabupaten/kota.penghargaan ini menjadi tonggak penting bagi kabupaten banggai, memperkuat posisinya dalam mendukung pertumbuhan ekonomi dan pelayanan publik di tingkat daerah.dengan demikian, prestasi ini semakin menegaskan komitmen pemerintah daerah untuk terus berkontribusi dalam pembangunan sulawesi tengah yang lebih baik.**\"\n        ],\n        \"semantic_type\": \"\",\n        \"description\": \"\"\n      }\n    },\n    {\n      \"column\": \"clean_punct\",\n      \"properties\": {\n        \"dtype\": \"string\",\n        \"num_unique_values\": 572,\n        \"samples\": [\n          \"polresbanggai com kapolres banggaiakbp ade nuramdani sh sik mm menerima surat dari pengurus persatuan sepak bola seluruh indonesia pssi terkait izin salah satu anggotanya untuk jadi wasit pada kompetisi piala soeratin u  di jawa timur izin tersebut diberikan kepada bripka arfandi abdullah selaku personel yang bertugas di bagian sdmpolres banggai  bripka arfandi ditunjuk jadi wasit piala soeratin u  yang di gelar di kota surabaya  januari hingga  februari   kata kasi humas polres banggai iptu al amin s  muda dalam keterangannya minggu  pada pertandingan perdana kemarin sabtu  bertempat di lapangan tor surabaya ia sukses memimpin jalannya pertandingan yang mempertemukan provinsi jambi melawan provinsi sulawesi utara olahraga sepakbola bukan hal baru bagi bripka arfandi  ia sudah mengenal sepakbola semenjak kecil  bagaimana tidak dari lingkungan keluarga sampai orang orang disekitarnya bergelut dengan olahraga ini diketahui bripka arfandi memulai karir sebagai wasit nasional pssi berlisensi c pada tahun  dan beberapa event penting sudah dipercayakan kepadanya pada tahun  lalu ia dipilih secara langsung oleh pssi pusat untuk bertugas sebagai wasit di liga satu antara psm makassar versus persebaya surabaya di biak papua humas polres banggai \",\n          \" penghargaan diterima langsung oleh wakil bupati banggai kabar luwuk   pemda banggairaihpenghargaan ks awards dari kementerian keuangan gubernur sulawesi tengahh  rusdi mastura membuka acaraprestisius ks awards di gedung pogombo kantor gubernur sulawesi tengah rabu  dalam kegiatan yang dihadiri olehwakil bupati banggaidrs  h  furqanuddin m m serta para pemangku kepentingan dari seluruh kabupatenkotaforkopimda provinsidan perwakilan kementerian keuangan pemerintah daerah banggai berhasil meraih penghargaan atas kontribusinya dalam pelaksanaan anggaran gubernur mastura dalam sambutannya menyoroti sinergi dan kolaborasi dalam peningkatan pelayanan di sulawesi tengah  hasil yang signifikan terlihat melalui pertumbuhan ekonomi sebesar  persen year on year pada kuartal ketiga tahun  sektor industri pengolahan tumbuh pesat sebesar  persen sementara ekspor barang dan jasa meningkat  persen gubernur mengapresiasi kerja keras semua pihak yang telah berkontribusi pada pencapaian ini wakil bupati banggai drs  h  furqanuddin m m menerima penghargaan dari gubernur mastura atas kontribusi pemerintah kabupaten banggai dalam pelaksanaan anggaran di daerah prestasi ini menjadi bukti nyata bahwa kerja sama antara pemerintah daerah dan stakeholder lainnya mampu mengoptimalkan kinerja anggaran daerah peningkatan ekonomi yang signifikan di sulawesi tengah bukan hanya prestasi pemerintah provinsi tetapi juga hasil dari sinergi antara pemerintah kabupatenkota penghargaan ini menjadi tonggak penting bagi kabupaten banggai memperkuat posisinya dalam mendukung pertumbuhan ekonomi dan pelayanan publik di tingkat daerah dengan demikian prestasi ini semakin menegaskan komitmen pemerintah daerah untuk terus berkontribusi dalam pembangunan sulawesi tengah yang lebih baik   \"\n        ],\n        \"semantic_type\": \"\",\n        \"description\": \"\"\n      }\n    },\n    {\n      \"column\": \"clean_double_ws\",\n      \"properties\": {\n        \"dtype\": \"string\",\n        \"num_unique_values\": 571,\n        \"samples\": [\n          \"banggai raya kampanye terbuka hari pertama pada minggu di kabupaten banggai khususnya di dapil langsung dimanfaatkan partai golkar dengan menggelar roadshow dan pertemuan terbuka di lapangan kilongan kecamatan luwuk utara pada kampanye yang dihadiri ratusan warga luwuk utara itu ketua dpd partai golkar banggai beniyanto tamoreka memperkenalkan seluruh caleg dapil banggai ia juga menjanjikan bahwa bila golkar menang rakyat akan sejahtera beniyanto yang mengaku sebagai anak daerah berharap dukungan warga kabupaten banggai agar memilihnya ke dpr ri tanggal februari nanti pilih partai golkar agar menang dan rakyat sejahtera kata beniyanto pada kesempatan itu sejumlah caleg seperti agus damalante dan roswati masi serta lely tiara juga berkampanye dan mengajak rakyat memilih mereka dar\",\n          \"penghargaan diterima langsung oleh wakil bupati banggai kabar luwuk pemda banggairaihpenghargaan ks awards dari kementerian keuangan gubernur sulawesi tengahh rusdi mastura membuka acaraprestisius ks awards di gedung pogombo kantor gubernur sulawesi tengah rabu dalam kegiatan yang dihadiri olehwakil bupati banggaidrs h furqanuddin m m serta para pemangku kepentingan dari seluruh kabupatenkotaforkopimda provinsidan perwakilan kementerian keuangan pemerintah daerah banggai berhasil meraih penghargaan atas kontribusinya dalam pelaksanaan anggaran gubernur mastura dalam sambutannya menyoroti sinergi dan kolaborasi dalam peningkatan pelayanan di sulawesi tengah hasil yang signifikan terlihat melalui pertumbuhan ekonomi sebesar persen year on year pada kuartal ketiga tahun sektor industri pengolahan tumbuh pesat sebesar persen sementara ekspor barang dan jasa meningkat persen gubernur mengapresiasi kerja keras semua pihak yang telah berkontribusi pada pencapaian ini wakil bupati banggai drs h furqanuddin m m menerima penghargaan dari gubernur mastura atas kontribusi pemerintah kabupaten banggai dalam pelaksanaan anggaran di daerah prestasi ini menjadi bukti nyata bahwa kerja sama antara pemerintah daerah dan stakeholder lainnya mampu mengoptimalkan kinerja anggaran daerah peningkatan ekonomi yang signifikan di sulawesi tengah bukan hanya prestasi pemerintah provinsi tetapi juga hasil dari sinergi antara pemerintah kabupatenkota penghargaan ini menjadi tonggak penting bagi kabupaten banggai memperkuat posisinya dalam mendukung pertumbuhan ekonomi dan pelayanan publik di tingkat daerah dengan demikian prestasi ini semakin menegaskan komitmen pemerintah daerah untuk terus berkontribusi dalam pembangunan sulawesi tengah yang lebih baik\"\n        ],\n        \"semantic_type\": \"\",\n        \"description\": \"\"\n      }\n    }\n  ]\n}"
            }
          },
          "metadata": {},
          "execution_count": 73
        }
      ]
    },
    {
      "cell_type": "code",
      "source": [
        "#df.drop(['filtered'], axis=1, inplace=True)"
      ],
      "metadata": {
        "id": "V5pOuXg_ShOl"
      },
      "execution_count": null,
      "outputs": []
    },
    {
      "cell_type": "code",
      "execution_count": null,
      "metadata": {
        "colab": {
          "base_uri": "https://localhost:8080/"
        },
        "id": "mvjR5IBOjjq6",
        "outputId": "41c0c6fa-28f9-45d7-88c8-3f54749e3a49"
      },
      "outputs": [
        {
          "output_type": "execute_result",
          "data": {
            "text/plain": [
              "0      luwuk suasana pasar murah bersubsidi semarak k...\n",
              "1      luwuk film horor piara mayat kreativitasanak m...\n",
              "2      luwuk festival malabot tumbe meriahkankabupate...\n",
              "3      kerja cepat terkoordinir penerbitan sttp luwuk...\n",
              "4      luwuk bawaslu banggaiperkuat koordinasi dengan...\n",
              "                             ...                        \n",
              "574    raya gudang bahan aluminium jalan teuku umar k...\n",
              "575    wartawan asnawi tribunpalu com banggai membuka...\n",
              "576    raya pebulutangkis kabupatenkota sulawesi berl...\n",
              "577    wartawan asnawi tribunpalu com banggai pria ne...\n",
              "578    wartawan asnawi tribunpalu com banggai gudang ...\n",
              "Name: filtered, Length: 579, dtype: object"
            ]
          },
          "metadata": {},
          "execution_count": 74
        }
      ],
      "source": [
        "df['filtered'] = df['clean_double_ws'].apply(filtering)\n",
        "df['filtered']"
      ]
    },
    {
      "cell_type": "code",
      "source": [
        "len(df)"
      ],
      "metadata": {
        "colab": {
          "base_uri": "https://localhost:8080/"
        },
        "id": "eTJ50j30NVy_",
        "outputId": "69de616b-60e3-41fc-dca2-598b15051494"
      },
      "execution_count": null,
      "outputs": [
        {
          "output_type": "execute_result",
          "data": {
            "text/plain": [
              "579"
            ]
          },
          "metadata": {},
          "execution_count": 75
        }
      ]
    },
    {
      "cell_type": "code",
      "execution_count": null,
      "metadata": {
        "id": "oGkf3aEF1P0G"
      },
      "outputs": [],
      "source": [
        "print(df['clean_double_ws'][55])\n",
        "print(df['filtered'][55])"
      ]
    },
    {
      "cell_type": "markdown",
      "metadata": {
        "id": "csdn5fHWjv2W"
      },
      "source": [
        "## Stemming"
      ]
    },
    {
      "cell_type": "code",
      "source": [
        "from Sastrawi.Stemmer.StemmerFactory import StemmerFactory\n",
        "stem_factory = StemmerFactory()\n",
        "stemmer = stem_factory.create_stemmer()"
      ],
      "metadata": {
        "id": "SWezdKP7CWwi"
      },
      "execution_count": null,
      "outputs": []
    },
    {
      "cell_type": "code",
      "execution_count": null,
      "metadata": {
        "id": "xFrbJG4hj6Ug"
      },
      "outputs": [],
      "source": [
        "#factory = StemmerFactory()\n",
        "#stemmer = factory.create_stemmer()"
      ]
    },
    {
      "cell_type": "code",
      "execution_count": null,
      "metadata": {
        "id": "K6yEDY8TkBDG"
      },
      "outputs": [],
      "source": [
        "def stem(text):\n",
        "  return stemmer.stem(text)"
      ]
    },
    {
      "cell_type": "code",
      "source": [
        "df.head()"
      ],
      "metadata": {
        "id": "YbGrSQ2PtpCY"
      },
      "execution_count": null,
      "outputs": []
    },
    {
      "cell_type": "code",
      "execution_count": null,
      "metadata": {
        "colab": {
          "base_uri": "https://localhost:8080/"
        },
        "id": "6dY5qzIEkGZ5",
        "outputId": "f2b9862e-d828-4074-fc52-c516d2192980"
      },
      "outputs": [
        {
          "output_type": "execute_result",
          "data": {
            "text/plain": [
              "0      luwuk suasana pasar murah subsidi semarak hadi...\n",
              "1      luwuk film horor piara mayat kreativitasanak m...\n",
              "2      luwuk festival malabot tumbe meriahkankabupate...\n",
              "3      kerja cepat terkoordinir terbit sttp luwuk rak...\n",
              "4      luwuk bawaslu banggaiperkuat koordinasi dengan...\n",
              "                             ...                        \n",
              "574    raya gudang bahan aluminium jalan teuku umar k...\n",
              "575    wartawan asnawi tribunpalu com bangga buka aca...\n",
              "576    raya pebulutangkis kabupatenkota sulawesi laga...\n",
              "577    wartawan asnawi tribunpalu com bangga pria nek...\n",
              "578    wartawan asnawi tribunpalu com bangga gudang b...\n",
              "Name: stemmed, Length: 579, dtype: object"
            ]
          },
          "metadata": {},
          "execution_count": 79
        }
      ],
      "source": [
        "df['stemmed'] = df['filtered'].apply(stem)\n",
        "df['stemmed']"
      ]
    },
    {
      "cell_type": "code",
      "source": [
        "df.head()"
      ],
      "metadata": {
        "id": "8ZrWk5PI6PPH"
      },
      "execution_count": null,
      "outputs": []
    },
    {
      "cell_type": "markdown",
      "source": [
        "## Export df to csv (to cutting time if we want to stepback process)"
      ],
      "metadata": {
        "id": "LnldCt2zkih_"
      }
    },
    {
      "cell_type": "code",
      "execution_count": null,
      "metadata": {
        "id": "pk7M4kT2B-tx"
      },
      "outputs": [],
      "source": [
        "df.to_csv(\"stemmed_words_vader_sentiment1.csv\", index=False)"
      ]
    },
    {
      "cell_type": "markdown",
      "source": [
        "## Importing df rom csv (cutting time if we want to stepback process)"
      ],
      "metadata": {
        "id": "vZVKauuAkyDI"
      }
    },
    {
      "cell_type": "code",
      "source": [
        "# to skip stemming process\n",
        "stemmed_url= 'https://raw.githubusercontent.com/TaillessTanuki/Berita_Banggai/main/stemmed_words2_tanpa_token_stopwordk2.csv'\n",
        "\n",
        "df = pd.read_csv(stemmed_url,encoding='utf-8')\n",
        "\n",
        "df = df.astype(str)"
      ],
      "metadata": {
        "id": "fD_AgotLLULN"
      },
      "execution_count": null,
      "outputs": []
    },
    {
      "cell_type": "code",
      "source": [
        "df.head()\n"
      ],
      "metadata": {
        "id": "rnJ5jbNFL27n"
      },
      "execution_count": null,
      "outputs": []
    },
    {
      "cell_type": "code",
      "source": [
        "len(df)"
      ],
      "metadata": {
        "colab": {
          "base_uri": "https://localhost:8080/"
        },
        "id": "l-8H5udHaw3C",
        "outputId": "66bff75a-1767-4ef0-ce88-10cc25b533a3"
      },
      "execution_count": null,
      "outputs": [
        {
          "output_type": "execute_result",
          "data": {
            "text/plain": [
              "149"
            ]
          },
          "metadata": {},
          "execution_count": 40
        }
      ]
    },
    {
      "cell_type": "code",
      "execution_count": null,
      "metadata": {
        "colab": {
          "base_uri": "https://localhost:8080/"
        },
        "id": "EqJ4dCX42R0u",
        "outputId": "bea85e44-ac77-4067-8c04-f8e78f47c145"
      },
      "outputs": [
        {
          "output_type": "stream",
          "name": "stdout",
          "text": [
            "tim inafis polres banggaiselidiki pencurian desa bubung kerugian rp juta tim indonesianautomatic fingerprints identification system inafissatreskrimpolres banggaitengah intensif penyelidikan terkait pencurian terjadi didesa bubungkecamatan luwuk selatan kejadian diketahui kamis wita dilaporkan nomor polisi lpbxiispktres banggaipolda sulteng kamis desember keterangankasat reskrim polres akp tondytim inafis olah kejadian perkara tkp mengumpulkan bukti petunjuk terkait kejadian korban nama arifin morintoh melaporkan kejadian pada pukul wita menemukan rumahnya telah dirusak pencuri saksi saksi terlibat kejadian seperti indah permata sari morintoh keterangan saat rumahnya di desa bubung menemukan rumah berantakan ditemukannya jendela rumah samping dirusak cara dicungkil akp anjas suyono penjaga rumah menjelaskan pada rabu pukul wita meninggalkan rumah dalam keadaan terkunci ia terkejut indah memberitahu rumah telah sasaran pencurian akibat kejadian hilang unit keyboard merk yamaha kg kemiri total kerugian lebih rp juta kasat pihak kepolisian terus melakukan penyelidikan mengidentifikasi pelaku memulihkan barang barang hilang masyarakat informasi apapun dapat membantu penyelesaian pihak berwajib pencurian ini menjadi perhatian serius tim inafis untuk mengungkap keberadaan pelaku memanfaatkan teknologi canggih analisis forensik\n",
            "tim inafis polres banggaiselidiki curi desa bubung rugi rp juta tim indonesianautomatic fingerprints identification system inafissatreskrimpolres banggaitengah intensif lidi kait curi jadi desa bubungkecamatan luwuk selatan jadi tahu kamis wita lapor nomor polisi lpbxiispktres banggaipolda sulteng kamis desember keterangankasat reskrim polres akp tondytim inafis olah jadi perkara tkp kumpul bukti tunjuk kait jadi korban nama arifin morintoh lapor jadi pada pukul wita temu rumah telah rusak curi saksi saksi libat jadi seperti indah permata sari morintoh terang saat rumah di desa bubung temu rumah beranta temu jendela rumah samping rusak cara cungkil akp anjas suyono jaga rumah jelas pada rabu pukul wita tinggal rumah dalam ada kunci ia kejut indah memberitahu rumah telah sasar curi akibat jadi hilang unit keyboard merk yamaha kg kemiri total rugi lebih rp juta kasat pihak polisi terus laku lidi identifikasi laku pulih barang barang hilang masyarakat informasi apa dapat bantu selesai pihak wajib curi ini jadi perhati serius tim inafis untuk ungkap ada laku manfaat teknologi canggih analisis forensik\n"
          ]
        }
      ],
      "source": [
        "print(df['filtered'][55])\n",
        "print(df['stemmed'][55])"
      ]
    },
    {
      "cell_type": "code",
      "source": [
        "print(len(df['filtered'][796]))\n",
        "print(len(df['stemmed'][796]))"
      ],
      "metadata": {
        "colab": {
          "base_uri": "https://localhost:8080/"
        },
        "id": "rKFwM57jdMCK",
        "outputId": "38065d9b-2a7f-46ce-ea57-786c3ce22e95"
      },
      "execution_count": null,
      "outputs": [
        {
          "output_type": "stream",
          "name": "stdout",
          "text": [
            "1167\n",
            "990\n"
          ]
        }
      ]
    },
    {
      "cell_type": "markdown",
      "metadata": {
        "id": "KyujIEiSK3YT"
      },
      "source": [
        "## Tokenizing"
      ]
    },
    {
      "cell_type": "code",
      "execution_count": null,
      "metadata": {
        "id": "7tvlHHYOzWga"
      },
      "outputs": [],
      "source": [
        "def tokenize(text):\n",
        "  tokens = nltk.tokenize.word_tokenize(text)\n",
        "  return tokens"
      ]
    },
    {
      "cell_type": "code",
      "source": [
        "df.head()"
      ],
      "metadata": {
        "id": "edy1ud6vStPy"
      },
      "execution_count": null,
      "outputs": []
    },
    {
      "cell_type": "code",
      "execution_count": null,
      "metadata": {
        "colab": {
          "base_uri": "https://localhost:8080/"
        },
        "id": "HoQt8hoIz_v7",
        "outputId": "a351f5ca-853a-4c74-a389-cddba0cf94f2"
      },
      "outputs": [
        {
          "output_type": "execute_result",
          "data": {
            "text/plain": [
              "0      [luwuk, suasana, pasar, murah, subsidi, semara...\n",
              "1      [luwuk, film, horor, piara, mayat, kreativitas...\n",
              "2      [luwuk, festival, malabot, tumbe, meriahkankab...\n",
              "3      [kerja, cepat, terkoordinir, terbit, sttp, luw...\n",
              "4      [luwuk, bawaslu, banggaiperkuat, koordinasi, d...\n",
              "                             ...                        \n",
              "574    [raya, gudang, bahan, aluminium, jalan, teuku,...\n",
              "575    [wartawan, asnawi, tribunpalu, com, bangga, bu...\n",
              "576    [raya, pebulutangkis, kabupatenkota, sulawesi,...\n",
              "577    [wartawan, asnawi, tribunpalu, com, bangga, pr...\n",
              "578    [wartawan, asnawi, tribunpalu, com, bangga, gu...\n",
              "Name: tokenized, Length: 579, dtype: object"
            ]
          },
          "metadata": {},
          "execution_count": 83
        }
      ],
      "source": [
        "df['tokenized'] = df['stemmed'].apply(tokenize)\n",
        "df['tokenized']"
      ]
    },
    {
      "cell_type": "code",
      "execution_count": null,
      "metadata": {
        "colab": {
          "base_uri": "https://localhost:8080/"
        },
        "id": "CBMRdRdiK8vz",
        "outputId": "70961e8c-23df-4d32-e801-55978524e96b"
      },
      "outputs": [
        {
          "output_type": "stream",
          "name": "stdout",
          "text": [
            "warga penjaringan utara bernama josua yakin pembangunan infrastruktur berjalan status kota negara dilihat infrastruktur berjalan pembangunannya berubah pembangunan tiba berhenti dia dihubungi kompas com jumat josua pembangunan infrastruktur berhenti lantaran pusat bisnis perekonomian baca status kota dicabut warga konser ikn semoga tiket pesawatnya murah kata pemerintah serta merta memfokuskan perhatian kota nusantara ikn menuturkan progres pembangunan infrastruktur bakal dibuat lambat cenderung cepat sih saya enggak akan fokus ikn doang pembangunan infrastruktur bakal tetap berjalan cukup pesat josua serupa dituturkan warga pademangan utara bernama anggita nantinya pembangunan infrastruktur lambat berarti fokus pemerintah ikn terkendala sisi kayak cuaca dan ekonomi anggita dihubungi jumat jika faktor ekonomi berkaitan pembangunan ikn anggita menyayangkannya baca pendapat warga soal hilangnya status daerah khusus kota ada sedih dan cuek jika faktor ekonomi proyek infrastruktur yang sedang berjalan menjadi mangkrak yang sudah dibangun mangkrak akan merugikan tampilan kurang menarik tutur dia pembangunan tidak masif rafida warga grogol petamburan barat ada pembangunan infrastruktur tidak semasif saat berstatus kota pembangunan enggak semasif pas kota pusat pemerintahan pindah ikn dia jumat itu respons keluhan warga saja menjadi lambat nantinya sudah lagi berstatus kota ada masalah enggak ditanggapi secepat pas kota karena lebih mengutamakan ikn intinya kayak sudah dinomor duakan gitu pungkas rafida baca stafsus presiden ikn efektif kota negara ada keppres diketahui status daerah khusus kota dki yang disematkan pada habis februari status kota seiring implementasi undang undang uu nomor tentang perubahan uu nomor tentang kota negara ikn ketua badan legislasi dewan perwakilan rakyat baleg dpr supratman andi agtas status dki tertuang uu nomor tentang pemerintah provinsi dki jakarta sebagai kota nkri adanya uu ikn pun segera membahas rancangan undang undang daerah khusus jakarta ruu dkj mengatasi hilangnya status namun staf khusus presiden bidang hukum purwono mengatakan dki jakarta tetap berstatus sebagai ibu kota negara ri presiden joko widodo jokowi menerbitkan keputusan presiden keppres pemindahan ibu kota negara nusantara itu dia sesuai ketentuan peralihan pasal undang undang uu ikn kata jakarta tetap menjadi ibu kota keppres pemindahan pemindahan ibu kota terbit baca fraksi pdi p usul pilgub jakarta hanya digelar putaran tak lagi jadi ibu kota kendati belum bisa dipastikan keppres terbit tersebut sepenuhnya kewenangan presiden\n",
            "['warga', 'jaring', 'utara', 'nama', 'josua', 'yakin', 'bangun', 'infrastruktur', 'jalan', 'status', 'kota', 'negara', 'lihat', 'infrastruktur', 'jalan', 'bangun', 'ubah', 'bangun', 'tiba', 'henti', 'dia', 'hubung', 'kompas', 'com', 'jumat', 'josua', 'bangun', 'infrastruktur', 'henti', 'lantar', 'pusat', 'bisnis', 'ekonomi', 'baca', 'status', 'kota', 'cabut', 'warga', 'konser', 'ikn', 'moga', 'tiket', 'pesawat', 'murah', 'kata', 'perintah', 'serta', 'merta', 'fokus', 'perhati', 'kota', 'nusantara', 'ikn', 'tutur', 'progres', 'bangun', 'infrastruktur', 'bakal', 'buat', 'lambat', 'cenderung', 'cepat', 'sih', 'saya', 'enggak', 'akan', 'fokus', 'ikn', 'doang', 'bangun', 'infrastruktur', 'bakal', 'tetap', 'jalan', 'cukup', 'pesat', 'josua', 'rupa', 'tutur', 'warga', 'pademangan', 'utara', 'nama', 'anggita', 'nanti', 'bangun', 'infrastruktur', 'lambat', 'arti', 'fokus', 'perintah', 'ikn', 'kendala', 'sisi', 'kayak', 'cuaca', 'dan', 'ekonomi', 'anggita', 'hubung', 'jumat', 'jika', 'faktor', 'ekonomi', 'kait', 'bangun', 'ikn', 'anggita', 'sayang', 'baca', 'dapat', 'warga', 'soal', 'hilang', 'status', 'daerah', 'khusus', 'kota', 'ada', 'sedih', 'dan', 'cuek', 'jika', 'faktor', 'ekonomi', 'proyek', 'infrastruktur', 'yang', 'sedang', 'jalan', 'jadi', 'mangkrak', 'yang', 'sudah', 'bangun', 'mangkrak', 'akan', 'rugi', 'tampil', 'kurang', 'tarik', 'tutur', 'dia', 'bangun', 'tidak', 'masif', 'rafida', 'warga', 'grogol', 'tambur', 'barat', 'ada', 'bangun', 'infrastruktur', 'tidak', 'masif', 'saat', 'status', 'kota', 'bangun', 'enggak', 'masif', 'pas', 'kota', 'pusat', 'perintah', 'pindah', 'ikn', 'dia', 'jumat', 'itu', 'respons', 'keluh', 'warga', 'saja', 'jadi', 'lambat', 'nanti', 'sudah', 'lagi', 'status', 'kota', 'ada', 'masalah', 'enggak', 'tanggap', 'cepat', 'pas', 'kota', 'karena', 'lebih', 'utama', 'ikn', 'inti', 'kayak', 'sudah', 'nomor', 'dua', 'gitu', 'pungkas', 'rafida', 'baca', 'stafsus', 'presiden', 'ikn', 'efektif', 'kota', 'negara', 'ada', 'keppres', 'tahu', 'status', 'daerah', 'khusus', 'kota', 'dki', 'yang', 'semat', 'pada', 'habis', 'februari', 'status', 'kota', 'iring', 'implementasi', 'undang', 'undang', 'uu', 'nomor', 'tentang', 'ubah', 'uu', 'nomor', 'tentang', 'kota', 'negara', 'ikn', 'ketua', 'badan', 'legislasi', 'dewan', 'wakil', 'rakyat', 'baleg', 'dpr', 'supratman', 'andi', 'agtas', 'status', 'dki', 'tuang', 'uu', 'nomor', 'tentang', 'perintah', 'provinsi', 'dki', 'jakarta', 'bagai', 'kota', 'nkri', 'ada', 'uu', 'ikn', 'pun', 'segera', 'bahas', 'rancang', 'undang', 'undang', 'daerah', 'khusus', 'jakarta', 'ruu', 'dkj', 'atas', 'hilang', 'status', 'namun', 'staf', 'khusus', 'presiden', 'bidang', 'hukum', 'purwono', 'kata', 'dki', 'jakarta', 'tetap', 'status', 'bagai', 'ibu', 'kota', 'negara', 'ri', 'presiden', 'joko', 'widodo', 'jokowi', 'terbit', 'putus', 'presiden', 'keppres', 'pindah', 'ibu', 'kota', 'negara', 'nusantara', 'itu', 'dia', 'sesuai', 'tentu', 'alih', 'pasal', 'undang', 'undang', 'uu', 'ikn', 'kata', 'jakarta', 'tetap', 'jadi', 'ibu', 'kota', 'keppres', 'pindah', 'pindah', 'ibu', 'kota', 'terbit', 'baca', 'fraksi', 'pdi', 'p', 'usul', 'pilgub', 'jakarta', 'hanya', 'gelar', 'putar', 'tak', 'lagi', 'jadi', 'ibu', 'kota', 'kendati', 'belum', 'bisa', 'pasti', 'keppres', 'terbit', 'sebut', 'sepenuh', 'wenang', 'presiden']\n"
          ]
        }
      ],
      "source": [
        "print(df['filtered'][0])\n",
        "print(df['tokenized'][0])"
      ]
    },
    {
      "cell_type": "code",
      "source": [
        "print(len(df['stemmed'][0]))\n",
        "print(len(df['tokenized'][0]))"
      ],
      "metadata": {
        "id": "cKxfF4GhdjLa",
        "outputId": "2299d0ee-57b1-4770-ce17-3c87bf72fe8b",
        "colab": {
          "base_uri": "https://localhost:8080/"
        }
      },
      "execution_count": null,
      "outputs": [
        {
          "output_type": "stream",
          "name": "stdout",
          "text": [
            "1584\n",
            "272\n"
          ]
        }
      ]
    },
    {
      "cell_type": "markdown",
      "source": [
        "##Second Stopwords"
      ],
      "metadata": {
        "id": "OqDFduCP47A2"
      }
    },
    {
      "cell_type": "code",
      "source": [
        "df.head()"
      ],
      "metadata": {
        "id": "Aw3zSYeJqjFs"
      },
      "execution_count": null,
      "outputs": []
    },
    {
      "cell_type": "code",
      "source": [
        "# Define a function to remove stopwords from a list of tokens\n",
        "def remove_stopwords(tokens):\n",
        "    return [word for word in tokens if word not in stopwords]\n",
        "\n",
        "# Apply the remove_stopwords function to each row in the 'tokenized' column\n",
        "df['filtered2'] = df['tokenized'].apply(lambda tokens: remove_stopwords(tokens))\n",
        "\n",
        "# Display the updated DataFrame\n",
        "print(df.head())"
      ],
      "metadata": {
        "id": "sH3TSo9o3Q-p"
      },
      "execution_count": null,
      "outputs": []
    },
    {
      "cell_type": "code",
      "source": [
        "#df.drop(columns=['tokenized'], inplace=True)"
      ],
      "metadata": {
        "id": "7Hp-bXYa6zt3"
      },
      "execution_count": null,
      "outputs": []
    },
    {
      "cell_type": "code",
      "source": [
        "len(stopwords)"
      ],
      "metadata": {
        "colab": {
          "base_uri": "https://localhost:8080/"
        },
        "id": "rRogv2OAAmP_",
        "outputId": "4c04e11c-170f-400a-c0a2-de840a04ebb3"
      },
      "execution_count": null,
      "outputs": [
        {
          "output_type": "execute_result",
          "data": {
            "text/plain": [
              "946"
            ]
          },
          "metadata": {},
          "execution_count": 38
        }
      ]
    },
    {
      "cell_type": "code",
      "source": [
        "df.head()"
      ],
      "metadata": {
        "id": "zHRIWaHa6rA2"
      },
      "execution_count": null,
      "outputs": []
    },
    {
      "cell_type": "code",
      "source": [
        "print(df['tokenized'][55])\n",
        "print(df['filtered2'][55])"
      ],
      "metadata": {
        "colab": {
          "base_uri": "https://localhost:8080/"
        },
        "id": "NiVe2d298O_r",
        "outputId": "c7b18485-225b-46b4-c516-0c55ba2591a0"
      },
      "execution_count": null,
      "outputs": [
        {
          "output_type": "stream",
          "name": "stdout",
          "text": [
            "['tim', 'inafis', 'polres', 'banggaiselidiki', 'curi', 'desa', 'bubung', 'rugi', 'rp', 'juta', 'tim', 'indonesianautomatic', 'fingerprints', 'identification', 'system', 'inafissatreskrimpolres', 'banggaitengah', 'intensif', 'lidi', 'kait', 'curi', 'jadi', 'desa', 'bubungkecamatan', 'luwuk', 'selatan', 'jadi', 'tahu', 'kamis', 'wita', 'lapor', 'nomor', 'polisi', 'lpbxiispktres', 'banggaipolda', 'sulteng', 'kamis', 'desember', 'keterangankasat', 'reskrim', 'polres', 'akp', 'tondytim', 'inafis', 'olah', 'jadi', 'perkara', 'tkp', 'kumpul', 'bukti', 'tunjuk', 'kait', 'jadi', 'korban', 'nama', 'arifin', 'morintoh', 'lapor', 'jadi', 'pada', 'pukul', 'wita', 'temu', 'rumah', 'telah', 'rusak', 'curi', 'saksi', 'saksi', 'libat', 'jadi', 'seperti', 'indah', 'permata', 'sari', 'morintoh', 'terang', 'saat', 'rumah', 'di', 'desa', 'bubung', 'temu', 'rumah', 'beranta', 'temu', 'jendela', 'rumah', 'samping', 'rusak', 'cara', 'cungkil', 'akp', 'anjas', 'suyono', 'jaga', 'rumah', 'jelas', 'pada', 'rabu', 'pukul', 'wita', 'tinggal', 'rumah', 'dalam', 'ada', 'kunci', 'ia', 'kejut', 'indah', 'memberitahu', 'rumah', 'telah', 'sasar', 'curi', 'akibat', 'jadi', 'hilang', 'unit', 'keyboard', 'merk', 'yamaha', 'kg', 'kemiri', 'total', 'rugi', 'lebih', 'rp', 'juta', 'kasat', 'pihak', 'polisi', 'terus', 'laku', 'lidi', 'identifikasi', 'laku', 'pulih', 'barang', 'barang', 'hilang', 'masyarakat', 'informasi', 'apa', 'dapat', 'bantu', 'selesai', 'pihak', 'wajib', 'curi', 'ini', 'jadi', 'perhati', 'serius', 'tim', 'inafis', 'untuk', 'ungkap', 'ada', 'laku', 'manfaat', 'teknologi', 'canggih', 'analisis', 'forensik']\n",
            "['tim', 'inafis', 'polres', 'banggaiselidiki', 'curi', 'desa', 'bubung', 'rugi', 'rp', 'juta', 'tim', 'indonesianautomatic', 'fingerprints', 'identification', 'system', 'inafissatreskrimpolres', 'banggaitengah', 'intensif', 'lidi', 'kait', 'curi', 'desa', 'bubungkecamatan', 'selatan', 'kamis', 'wita', 'lapor', 'nomor', 'polisi', 'lpbxiispktres', 'banggaipolda', 'sulteng', 'kamis', 'desember', 'keterangankasat', 'reskrim', 'polres', 'akp', 'tondytim', 'inafis', 'olah', 'perkara', 'tkp', 'kumpul', 'bukti', 'kait', 'korban', 'nama', 'arifin', 'morintoh', 'lapor', 'wita', 'temu', 'rumah', 'rusak', 'curi', 'saksi', 'saksi', 'libat', 'indah', 'permata', 'sari', 'morintoh', 'terang', 'rumah', 'desa', 'bubung', 'temu', 'rumah', 'beranta', 'temu', 'jendela', 'rumah', 'samping', 'rusak', 'cungkil', 'akp', 'anjas', 'suyono', 'jaga', 'rumah', 'rabu', 'wita', 'tinggal', 'rumah', 'kunci', 'kejut', 'indah', 'memberitahu', 'rumah', 'sasar', 'curi', 'akibat', 'hilang', 'unit', 'keyboard', 'merk', 'yamaha', 'kg', 'kemiri', 'total', 'rugi', 'rp', 'juta', 'kasat', 'polisi', 'laku', 'lidi', 'identifikasi', 'laku', 'pulih', 'barang', 'barang', 'hilang', 'masyarakat', 'informasi', 'bantu', 'selesai', 'wajib', 'curi', 'perhati', 'serius', 'tim', 'inafis', 'laku', 'manfaat', 'teknologi', 'canggih', 'analisis', 'forensik']\n"
          ]
        }
      ]
    },
    {
      "cell_type": "markdown",
      "source": [
        "# Text Sentiment Classification"
      ],
      "metadata": {
        "id": "C1kdSoKuOwTU"
      }
    },
    {
      "cell_type": "code",
      "source": [
        "# For manual Review\n",
        "#import random\n",
        "\n",
        "# Set the number of random samples you want to select\n",
        "#num_samples = 100  # Adjust this number as needed\n",
        "\n",
        "# Select random samples from the DataFrame\n",
        "#random_indices = random.sample(range(len(df)), num_samples)\n",
        "#random_data = df.iloc[random_indices][[\"title\", \"text\"]]\n",
        "\n",
        "# Save random data to a CSV file\n",
        "#random_data.to_csv(\"random_data.csv\")\n"
      ],
      "metadata": {
        "id": "eGNyh7EV1b5f"
      },
      "execution_count": null,
      "outputs": []
    },
    {
      "cell_type": "code",
      "source": [
        "df.info()"
      ],
      "metadata": {
        "id": "CdinjW6N7dUR",
        "colab": {
          "base_uri": "https://localhost:8080/"
        },
        "outputId": "c2d098eb-251c-42bd-dbff-3c53510a8784"
      },
      "execution_count": 12,
      "outputs": [
        {
          "output_type": "stream",
          "name": "stdout",
          "text": [
            "<class 'pandas.core.frame.DataFrame'>\n",
            "RangeIndex: 562 entries, 0 to 561\n",
            "Data columns (total 2 columns):\n",
            " #   Column     Non-Null Count  Dtype \n",
            "---  ------     --------------  ----- \n",
            " 0   text       562 non-null    object\n",
            " 1   sentiment  562 non-null    object\n",
            "dtypes: object(2)\n",
            "memory usage: 8.9+ KB\n"
          ]
        }
      ]
    },
    {
      "cell_type": "markdown",
      "source": [
        "## Preprocessing (Text Classification)"
      ],
      "metadata": {
        "id": "noVBc6ad72p_"
      }
    },
    {
      "cell_type": "code",
      "source": [
        "df.head()"
      ],
      "metadata": {
        "id": "OJ9PEx6Orzlf",
        "colab": {
          "base_uri": "https://localhost:8080/",
          "height": 206
        },
        "outputId": "5fa0cafe-5a18-4731-8ff7-94a305d9e342"
      },
      "execution_count": null,
      "outputs": [
        {
          "output_type": "execute_result",
          "data": {
            "text/plain": [
              "                                                text sentiment\n",
              "0  15 Menit sebelm tutup kantor minta ditunggu bi...   negatif\n",
              "1  Salah satu hal teraneh di dunia ini versiku ad...    netral\n",
              "2  W benci bgt kalo co cod tapi alamatnya salah h...   negatif\n",
              "3  Dear @Erdioo Radio *RADIO GALASIKA FM LUWUK (@...   negatif\n",
              "4                    Kenapa batui itu dinginnya aneh   negatif"
            ],
            "text/html": [
              "\n",
              "  <div id=\"df-ee5682af-d1e7-4a8b-a78e-ab93f550e2eb\" class=\"colab-df-container\">\n",
              "    <div>\n",
              "<style scoped>\n",
              "    .dataframe tbody tr th:only-of-type {\n",
              "        vertical-align: middle;\n",
              "    }\n",
              "\n",
              "    .dataframe tbody tr th {\n",
              "        vertical-align: top;\n",
              "    }\n",
              "\n",
              "    .dataframe thead th {\n",
              "        text-align: right;\n",
              "    }\n",
              "</style>\n",
              "<table border=\"1\" class=\"dataframe\">\n",
              "  <thead>\n",
              "    <tr style=\"text-align: right;\">\n",
              "      <th></th>\n",
              "      <th>text</th>\n",
              "      <th>sentiment</th>\n",
              "    </tr>\n",
              "  </thead>\n",
              "  <tbody>\n",
              "    <tr>\n",
              "      <th>0</th>\n",
              "      <td>15 Menit sebelm tutup kantor minta ditunggu bi...</td>\n",
              "      <td>negatif</td>\n",
              "    </tr>\n",
              "    <tr>\n",
              "      <th>1</th>\n",
              "      <td>Salah satu hal teraneh di dunia ini versiku ad...</td>\n",
              "      <td>netral</td>\n",
              "    </tr>\n",
              "    <tr>\n",
              "      <th>2</th>\n",
              "      <td>W benci bgt kalo co cod tapi alamatnya salah h...</td>\n",
              "      <td>negatif</td>\n",
              "    </tr>\n",
              "    <tr>\n",
              "      <th>3</th>\n",
              "      <td>Dear @Erdioo Radio *RADIO GALASIKA FM LUWUK (@...</td>\n",
              "      <td>negatif</td>\n",
              "    </tr>\n",
              "    <tr>\n",
              "      <th>4</th>\n",
              "      <td>Kenapa batui itu dinginnya aneh</td>\n",
              "      <td>negatif</td>\n",
              "    </tr>\n",
              "  </tbody>\n",
              "</table>\n",
              "</div>\n",
              "    <div class=\"colab-df-buttons\">\n",
              "\n",
              "  <div class=\"colab-df-container\">\n",
              "    <button class=\"colab-df-convert\" onclick=\"convertToInteractive('df-ee5682af-d1e7-4a8b-a78e-ab93f550e2eb')\"\n",
              "            title=\"Convert this dataframe to an interactive table.\"\n",
              "            style=\"display:none;\">\n",
              "\n",
              "  <svg xmlns=\"http://www.w3.org/2000/svg\" height=\"24px\" viewBox=\"0 -960 960 960\">\n",
              "    <path d=\"M120-120v-720h720v720H120Zm60-500h600v-160H180v160Zm220 220h160v-160H400v160Zm0 220h160v-160H400v160ZM180-400h160v-160H180v160Zm440 0h160v-160H620v160ZM180-180h160v-160H180v160Zm440 0h160v-160H620v160Z\"/>\n",
              "  </svg>\n",
              "    </button>\n",
              "\n",
              "  <style>\n",
              "    .colab-df-container {\n",
              "      display:flex;\n",
              "      gap: 12px;\n",
              "    }\n",
              "\n",
              "    .colab-df-convert {\n",
              "      background-color: #E8F0FE;\n",
              "      border: none;\n",
              "      border-radius: 50%;\n",
              "      cursor: pointer;\n",
              "      display: none;\n",
              "      fill: #1967D2;\n",
              "      height: 32px;\n",
              "      padding: 0 0 0 0;\n",
              "      width: 32px;\n",
              "    }\n",
              "\n",
              "    .colab-df-convert:hover {\n",
              "      background-color: #E2EBFA;\n",
              "      box-shadow: 0px 1px 2px rgba(60, 64, 67, 0.3), 0px 1px 3px 1px rgba(60, 64, 67, 0.15);\n",
              "      fill: #174EA6;\n",
              "    }\n",
              "\n",
              "    .colab-df-buttons div {\n",
              "      margin-bottom: 4px;\n",
              "    }\n",
              "\n",
              "    [theme=dark] .colab-df-convert {\n",
              "      background-color: #3B4455;\n",
              "      fill: #D2E3FC;\n",
              "    }\n",
              "\n",
              "    [theme=dark] .colab-df-convert:hover {\n",
              "      background-color: #434B5C;\n",
              "      box-shadow: 0px 1px 3px 1px rgba(0, 0, 0, 0.15);\n",
              "      filter: drop-shadow(0px 1px 2px rgba(0, 0, 0, 0.3));\n",
              "      fill: #FFFFFF;\n",
              "    }\n",
              "  </style>\n",
              "\n",
              "    <script>\n",
              "      const buttonEl =\n",
              "        document.querySelector('#df-ee5682af-d1e7-4a8b-a78e-ab93f550e2eb button.colab-df-convert');\n",
              "      buttonEl.style.display =\n",
              "        google.colab.kernel.accessAllowed ? 'block' : 'none';\n",
              "\n",
              "      async function convertToInteractive(key) {\n",
              "        const element = document.querySelector('#df-ee5682af-d1e7-4a8b-a78e-ab93f550e2eb');\n",
              "        const dataTable =\n",
              "          await google.colab.kernel.invokeFunction('convertToInteractive',\n",
              "                                                    [key], {});\n",
              "        if (!dataTable) return;\n",
              "\n",
              "        const docLinkHtml = 'Like what you see? Visit the ' +\n",
              "          '<a target=\"_blank\" href=https://colab.research.google.com/notebooks/data_table.ipynb>data table notebook</a>'\n",
              "          + ' to learn more about interactive tables.';\n",
              "        element.innerHTML = '';\n",
              "        dataTable['output_type'] = 'display_data';\n",
              "        await google.colab.output.renderOutput(dataTable, element);\n",
              "        const docLink = document.createElement('div');\n",
              "        docLink.innerHTML = docLinkHtml;\n",
              "        element.appendChild(docLink);\n",
              "      }\n",
              "    </script>\n",
              "  </div>\n",
              "\n",
              "\n",
              "<div id=\"df-2f3909ae-c8f6-49a2-952d-477618dea475\">\n",
              "  <button class=\"colab-df-quickchart\" onclick=\"quickchart('df-2f3909ae-c8f6-49a2-952d-477618dea475')\"\n",
              "            title=\"Suggest charts\"\n",
              "            style=\"display:none;\">\n",
              "\n",
              "<svg xmlns=\"http://www.w3.org/2000/svg\" height=\"24px\"viewBox=\"0 0 24 24\"\n",
              "     width=\"24px\">\n",
              "    <g>\n",
              "        <path d=\"M19 3H5c-1.1 0-2 .9-2 2v14c0 1.1.9 2 2 2h14c1.1 0 2-.9 2-2V5c0-1.1-.9-2-2-2zM9 17H7v-7h2v7zm4 0h-2V7h2v10zm4 0h-2v-4h2v4z\"/>\n",
              "    </g>\n",
              "</svg>\n",
              "  </button>\n",
              "\n",
              "<style>\n",
              "  .colab-df-quickchart {\n",
              "      --bg-color: #E8F0FE;\n",
              "      --fill-color: #1967D2;\n",
              "      --hover-bg-color: #E2EBFA;\n",
              "      --hover-fill-color: #174EA6;\n",
              "      --disabled-fill-color: #AAA;\n",
              "      --disabled-bg-color: #DDD;\n",
              "  }\n",
              "\n",
              "  [theme=dark] .colab-df-quickchart {\n",
              "      --bg-color: #3B4455;\n",
              "      --fill-color: #D2E3FC;\n",
              "      --hover-bg-color: #434B5C;\n",
              "      --hover-fill-color: #FFFFFF;\n",
              "      --disabled-bg-color: #3B4455;\n",
              "      --disabled-fill-color: #666;\n",
              "  }\n",
              "\n",
              "  .colab-df-quickchart {\n",
              "    background-color: var(--bg-color);\n",
              "    border: none;\n",
              "    border-radius: 50%;\n",
              "    cursor: pointer;\n",
              "    display: none;\n",
              "    fill: var(--fill-color);\n",
              "    height: 32px;\n",
              "    padding: 0;\n",
              "    width: 32px;\n",
              "  }\n",
              "\n",
              "  .colab-df-quickchart:hover {\n",
              "    background-color: var(--hover-bg-color);\n",
              "    box-shadow: 0 1px 2px rgba(60, 64, 67, 0.3), 0 1px 3px 1px rgba(60, 64, 67, 0.15);\n",
              "    fill: var(--button-hover-fill-color);\n",
              "  }\n",
              "\n",
              "  .colab-df-quickchart-complete:disabled,\n",
              "  .colab-df-quickchart-complete:disabled:hover {\n",
              "    background-color: var(--disabled-bg-color);\n",
              "    fill: var(--disabled-fill-color);\n",
              "    box-shadow: none;\n",
              "  }\n",
              "\n",
              "  .colab-df-spinner {\n",
              "    border: 2px solid var(--fill-color);\n",
              "    border-color: transparent;\n",
              "    border-bottom-color: var(--fill-color);\n",
              "    animation:\n",
              "      spin 1s steps(1) infinite;\n",
              "  }\n",
              "\n",
              "  @keyframes spin {\n",
              "    0% {\n",
              "      border-color: transparent;\n",
              "      border-bottom-color: var(--fill-color);\n",
              "      border-left-color: var(--fill-color);\n",
              "    }\n",
              "    20% {\n",
              "      border-color: transparent;\n",
              "      border-left-color: var(--fill-color);\n",
              "      border-top-color: var(--fill-color);\n",
              "    }\n",
              "    30% {\n",
              "      border-color: transparent;\n",
              "      border-left-color: var(--fill-color);\n",
              "      border-top-color: var(--fill-color);\n",
              "      border-right-color: var(--fill-color);\n",
              "    }\n",
              "    40% {\n",
              "      border-color: transparent;\n",
              "      border-right-color: var(--fill-color);\n",
              "      border-top-color: var(--fill-color);\n",
              "    }\n",
              "    60% {\n",
              "      border-color: transparent;\n",
              "      border-right-color: var(--fill-color);\n",
              "    }\n",
              "    80% {\n",
              "      border-color: transparent;\n",
              "      border-right-color: var(--fill-color);\n",
              "      border-bottom-color: var(--fill-color);\n",
              "    }\n",
              "    90% {\n",
              "      border-color: transparent;\n",
              "      border-bottom-color: var(--fill-color);\n",
              "    }\n",
              "  }\n",
              "</style>\n",
              "\n",
              "  <script>\n",
              "    async function quickchart(key) {\n",
              "      const quickchartButtonEl =\n",
              "        document.querySelector('#' + key + ' button');\n",
              "      quickchartButtonEl.disabled = true;  // To prevent multiple clicks.\n",
              "      quickchartButtonEl.classList.add('colab-df-spinner');\n",
              "      try {\n",
              "        const charts = await google.colab.kernel.invokeFunction(\n",
              "            'suggestCharts', [key], {});\n",
              "      } catch (error) {\n",
              "        console.error('Error during call to suggestCharts:', error);\n",
              "      }\n",
              "      quickchartButtonEl.classList.remove('colab-df-spinner');\n",
              "      quickchartButtonEl.classList.add('colab-df-quickchart-complete');\n",
              "    }\n",
              "    (() => {\n",
              "      let quickchartButtonEl =\n",
              "        document.querySelector('#df-2f3909ae-c8f6-49a2-952d-477618dea475 button');\n",
              "      quickchartButtonEl.style.display =\n",
              "        google.colab.kernel.accessAllowed ? 'block' : 'none';\n",
              "    })();\n",
              "  </script>\n",
              "</div>\n",
              "    </div>\n",
              "  </div>\n"
            ],
            "application/vnd.google.colaboratory.intrinsic+json": {
              "type": "dataframe",
              "variable_name": "df",
              "summary": "{\n  \"name\": \"df\",\n  \"rows\": 562,\n  \"fields\": [\n    {\n      \"column\": \"text\",\n      \"properties\": {\n        \"dtype\": \"string\",\n        \"num_unique_values\": 562,\n        \"samples\": [\n          \"Yg di siuna luwuk ad kh?? #siunapagimana\",\n          \"Sultan-sultan Luwuk tolong buka gerai chatime atau es teh indonesia danggg\\u200d\\ufe0f\",\n          \"harap harap pulang luwuk sehat samua. Trang syang tua tapi tuhan Lebe sayang\"\n        ],\n        \"semantic_type\": \"\",\n        \"description\": \"\"\n      }\n    },\n    {\n      \"column\": \"sentiment\",\n      \"properties\": {\n        \"dtype\": \"category\",\n        \"num_unique_values\": 3,\n        \"samples\": [\n          \"negatif\",\n          \"netral\",\n          \"positif\"\n        ],\n        \"semantic_type\": \"\",\n        \"description\": \"\"\n      }\n    }\n  ]\n}"
            }
          },
          "metadata": {},
          "execution_count": 45
        }
      ]
    },
    {
      "cell_type": "code",
      "source": [
        "# Spliting database to train_set and test_set\n",
        "from sklearn.model_selection import train_test_split\n",
        "\n",
        "X = df['text']\n",
        "y = df['sentiment']\n",
        "\n",
        "X_train, X_test, y_train, y_test = train_test_split(X,y,test_size=0.20, random_state=42)"
      ],
      "metadata": {
        "id": "yK4iUNuC8Ce_"
      },
      "execution_count": 34,
      "outputs": []
    },
    {
      "cell_type": "code",
      "source": [
        "X_train.head()"
      ],
      "metadata": {
        "colab": {
          "base_uri": "https://localhost:8080/"
        },
        "id": "t_yzs0h8uLT5",
        "outputId": "73c20fdb-e35d-4420-db83-a5e86941e16d"
      },
      "execution_count": 35,
      "outputs": [
        {
          "output_type": "execute_result",
          "data": {
            "text/plain": [
              "464    Capek ngga motil mks-jogja-solo-jogja-sby-mks-...\n",
              "0      15 Menit sebelm tutup kantor minta ditunggu bi...\n",
              "11       Ketika hati so dirumah tapi raga masih di batui\n",
              "448                        rindu vibes pildun di luwuk e\n",
              "22                              Pindah kampung otw batui\n",
              "Name: text, dtype: object"
            ]
          },
          "metadata": {},
          "execution_count": 35
        }
      ]
    },
    {
      "cell_type": "code",
      "source": [
        "print(y_test.unique())\n",
        "\n",
        "\n",
        "#df['Topic'].nunique()"
      ],
      "metadata": {
        "id": "7THnmOhCuQQO",
        "colab": {
          "base_uri": "https://localhost:8080/"
        },
        "outputId": "6559a50e-e113-415c-fa0f-b81636dcd927"
      },
      "execution_count": 36,
      "outputs": [
        {
          "output_type": "stream",
          "name": "stdout",
          "text": [
            "['netral' 'positif' 'negatif']\n"
          ]
        }
      ]
    },
    {
      "cell_type": "code",
      "source": [
        "# CountVectorizer\n",
        "from sklearn.feature_extraction.text import CountVectorizer\n",
        "count_vect = CountVectorizer()\n",
        "\n",
        "\n",
        "X_train_counts = count_vect.fit_transform(X_train)\n"
      ],
      "metadata": {
        "id": "D6nBa7pi810R"
      },
      "execution_count": 37,
      "outputs": []
    },
    {
      "cell_type": "code",
      "source": [
        "X_train_counts"
      ],
      "metadata": {
        "colab": {
          "base_uri": "https://localhost:8080/"
        },
        "id": "XOBDrAK69uA1",
        "outputId": "efccf0e2-2c37-4356-b8c9-8b7452e6c768"
      },
      "execution_count": null,
      "outputs": [
        {
          "output_type": "execute_result",
          "data": {
            "text/plain": [
              "<438x2657 sparse matrix of type '<class 'numpy.int64'>'\n",
              "\twith 5826 stored elements in Compressed Sparse Row format>"
            ]
          },
          "metadata": {},
          "execution_count": 50
        }
      ]
    },
    {
      "cell_type": "code",
      "source": [
        "X_train.shape"
      ],
      "metadata": {
        "colab": {
          "base_uri": "https://localhost:8080/"
        },
        "id": "8LM0Ff5V9w-G",
        "outputId": "a38d8f98-b7a4-4f7b-bf8e-e2511af5d530"
      },
      "execution_count": null,
      "outputs": [
        {
          "output_type": "execute_result",
          "data": {
            "text/plain": [
              "(438,)"
            ]
          },
          "metadata": {},
          "execution_count": 59
        }
      ]
    },
    {
      "cell_type": "code",
      "source": [
        "X_train_counts.shape"
      ],
      "metadata": {
        "colab": {
          "base_uri": "https://localhost:8080/"
        },
        "id": "D0uBSd2O98zu",
        "outputId": "8180c9bb-02b9-4647-add0-9bc747d9f383"
      },
      "execution_count": null,
      "outputs": [
        {
          "output_type": "execute_result",
          "data": {
            "text/plain": [
              "(438, 2657)"
            ]
          },
          "metadata": {},
          "execution_count": 51
        }
      ]
    },
    {
      "cell_type": "code",
      "source": [
        "# TFIDFVectorizer and LinearSVC with pipeline\n",
        "from sklearn.feature_extraction.text import TfidfVectorizer\n",
        "from sklearn.svm import LinearSVC\n",
        "#from sklearn.linear_model import LogisticRegression\n",
        "#from sklearn.naive_bayes import MultinomialNB\n",
        "#from sklearn.ensemble import GradientBoostingClassifier\n",
        "#from sklearn.ensemble import RandomForestClassifier\n",
        "\n",
        "\n",
        "from sklearn.pipeline import Pipeline\n",
        "\n",
        "sent_clf_twt = Pipeline([('tfidf', TfidfVectorizer()),('clf',LinearSVC())])\n",
        "sent_clf_twt.fit(X_train, y_train)\n",
        "\n"
      ],
      "metadata": {
        "colab": {
          "base_uri": "https://localhost:8080/",
          "height": 126
        },
        "id": "n3AylBPk9_rA",
        "outputId": "b7fa5b3e-2813-4a0c-fadf-9a43f338347e"
      },
      "execution_count": 39,
      "outputs": [
        {
          "output_type": "execute_result",
          "data": {
            "text/plain": [
              "Pipeline(steps=[('tfidf', TfidfVectorizer()), ('clf', LinearSVC())])"
            ],
            "text/html": [
              "<style>#sk-container-id-5 {color: black;background-color: white;}#sk-container-id-5 pre{padding: 0;}#sk-container-id-5 div.sk-toggleable {background-color: white;}#sk-container-id-5 label.sk-toggleable__label {cursor: pointer;display: block;width: 100%;margin-bottom: 0;padding: 0.3em;box-sizing: border-box;text-align: center;}#sk-container-id-5 label.sk-toggleable__label-arrow:before {content: \"▸\";float: left;margin-right: 0.25em;color: #696969;}#sk-container-id-5 label.sk-toggleable__label-arrow:hover:before {color: black;}#sk-container-id-5 div.sk-estimator:hover label.sk-toggleable__label-arrow:before {color: black;}#sk-container-id-5 div.sk-toggleable__content {max-height: 0;max-width: 0;overflow: hidden;text-align: left;background-color: #f0f8ff;}#sk-container-id-5 div.sk-toggleable__content pre {margin: 0.2em;color: black;border-radius: 0.25em;background-color: #f0f8ff;}#sk-container-id-5 input.sk-toggleable__control:checked~div.sk-toggleable__content {max-height: 200px;max-width: 100%;overflow: auto;}#sk-container-id-5 input.sk-toggleable__control:checked~label.sk-toggleable__label-arrow:before {content: \"▾\";}#sk-container-id-5 div.sk-estimator input.sk-toggleable__control:checked~label.sk-toggleable__label {background-color: #d4ebff;}#sk-container-id-5 div.sk-label input.sk-toggleable__control:checked~label.sk-toggleable__label {background-color: #d4ebff;}#sk-container-id-5 input.sk-hidden--visually {border: 0;clip: rect(1px 1px 1px 1px);clip: rect(1px, 1px, 1px, 1px);height: 1px;margin: -1px;overflow: hidden;padding: 0;position: absolute;width: 1px;}#sk-container-id-5 div.sk-estimator {font-family: monospace;background-color: #f0f8ff;border: 1px dotted black;border-radius: 0.25em;box-sizing: border-box;margin-bottom: 0.5em;}#sk-container-id-5 div.sk-estimator:hover {background-color: #d4ebff;}#sk-container-id-5 div.sk-parallel-item::after {content: \"\";width: 100%;border-bottom: 1px solid gray;flex-grow: 1;}#sk-container-id-5 div.sk-label:hover label.sk-toggleable__label {background-color: #d4ebff;}#sk-container-id-5 div.sk-serial::before {content: \"\";position: absolute;border-left: 1px solid gray;box-sizing: border-box;top: 0;bottom: 0;left: 50%;z-index: 0;}#sk-container-id-5 div.sk-serial {display: flex;flex-direction: column;align-items: center;background-color: white;padding-right: 0.2em;padding-left: 0.2em;position: relative;}#sk-container-id-5 div.sk-item {position: relative;z-index: 1;}#sk-container-id-5 div.sk-parallel {display: flex;align-items: stretch;justify-content: center;background-color: white;position: relative;}#sk-container-id-5 div.sk-item::before, #sk-container-id-5 div.sk-parallel-item::before {content: \"\";position: absolute;border-left: 1px solid gray;box-sizing: border-box;top: 0;bottom: 0;left: 50%;z-index: -1;}#sk-container-id-5 div.sk-parallel-item {display: flex;flex-direction: column;z-index: 1;position: relative;background-color: white;}#sk-container-id-5 div.sk-parallel-item:first-child::after {align-self: flex-end;width: 50%;}#sk-container-id-5 div.sk-parallel-item:last-child::after {align-self: flex-start;width: 50%;}#sk-container-id-5 div.sk-parallel-item:only-child::after {width: 0;}#sk-container-id-5 div.sk-dashed-wrapped {border: 1px dashed gray;margin: 0 0.4em 0.5em 0.4em;box-sizing: border-box;padding-bottom: 0.4em;background-color: white;}#sk-container-id-5 div.sk-label label {font-family: monospace;font-weight: bold;display: inline-block;line-height: 1.2em;}#sk-container-id-5 div.sk-label-container {text-align: center;}#sk-container-id-5 div.sk-container {/* jupyter's `normalize.less` sets `[hidden] { display: none; }` but bootstrap.min.css set `[hidden] { display: none !important; }` so we also need the `!important` here to be able to override the default hidden behavior on the sphinx rendered scikit-learn.org. See: https://github.com/scikit-learn/scikit-learn/issues/21755 */display: inline-block !important;position: relative;}#sk-container-id-5 div.sk-text-repr-fallback {display: none;}</style><div id=\"sk-container-id-5\" class=\"sk-top-container\"><div class=\"sk-text-repr-fallback\"><pre>Pipeline(steps=[(&#x27;tfidf&#x27;, TfidfVectorizer()), (&#x27;clf&#x27;, LinearSVC())])</pre><b>In a Jupyter environment, please rerun this cell to show the HTML representation or trust the notebook. <br />On GitHub, the HTML representation is unable to render, please try loading this page with nbviewer.org.</b></div><div class=\"sk-container\" hidden><div class=\"sk-item sk-dashed-wrapped\"><div class=\"sk-label-container\"><div class=\"sk-label sk-toggleable\"><input class=\"sk-toggleable__control sk-hidden--visually\" id=\"sk-estimator-id-13\" type=\"checkbox\" ><label for=\"sk-estimator-id-13\" class=\"sk-toggleable__label sk-toggleable__label-arrow\">Pipeline</label><div class=\"sk-toggleable__content\"><pre>Pipeline(steps=[(&#x27;tfidf&#x27;, TfidfVectorizer()), (&#x27;clf&#x27;, LinearSVC())])</pre></div></div></div><div class=\"sk-serial\"><div class=\"sk-item\"><div class=\"sk-estimator sk-toggleable\"><input class=\"sk-toggleable__control sk-hidden--visually\" id=\"sk-estimator-id-14\" type=\"checkbox\" ><label for=\"sk-estimator-id-14\" class=\"sk-toggleable__label sk-toggleable__label-arrow\">TfidfVectorizer</label><div class=\"sk-toggleable__content\"><pre>TfidfVectorizer()</pre></div></div></div><div class=\"sk-item\"><div class=\"sk-estimator sk-toggleable\"><input class=\"sk-toggleable__control sk-hidden--visually\" id=\"sk-estimator-id-15\" type=\"checkbox\" ><label for=\"sk-estimator-id-15\" class=\"sk-toggleable__label sk-toggleable__label-arrow\">LinearSVC</label><div class=\"sk-toggleable__content\"><pre>LinearSVC()</pre></div></div></div></div></div></div></div>"
            ]
          },
          "metadata": {},
          "execution_count": 39
        }
      ]
    },
    {
      "cell_type": "code",
      "source": [
        "predictions = sent_clf_twt.predict(X_test)"
      ],
      "metadata": {
        "id": "_0uXjSqXAbPW"
      },
      "execution_count": 40,
      "outputs": []
    },
    {
      "cell_type": "code",
      "source": [
        "# Checking performance using confusion matrix\n",
        "from sklearn.metrics import confusion_matrix, classification_report\n",
        "from sklearn import metrics\n",
        "print(confusion_matrix(y_test, predictions))\n",
        "print(classification_report(y_test, predictions))\n",
        "print(f\"Accuracy {metrics.accuracy_score(y_test, predictions)}\")"
      ],
      "metadata": {
        "colab": {
          "base_uri": "https://localhost:8080/"
        },
        "id": "YzxATtYOApNg",
        "outputId": "fa494fb1-b7bd-4657-a51c-89527786a360"
      },
      "execution_count": 41,
      "outputs": [
        {
          "output_type": "stream",
          "name": "stdout",
          "text": [
            "[[10 15  3]\n",
            " [ 3 51  6]\n",
            " [ 2 18  5]]\n",
            "              precision    recall  f1-score   support\n",
            "\n",
            "     negatif       0.67      0.36      0.47        28\n",
            "      netral       0.61      0.85      0.71        60\n",
            "     positif       0.36      0.20      0.26        25\n",
            "\n",
            "    accuracy                           0.58       113\n",
            "   macro avg       0.54      0.47      0.48       113\n",
            "weighted avg       0.57      0.58      0.55       113\n",
            "\n",
            "Accuracy 0.584070796460177\n"
          ]
        }
      ]
    },
    {
      "cell_type": "markdown",
      "source": [
        "# Input Data"
      ],
      "metadata": {
        "id": "Y7RB23lXm393"
      }
    },
    {
      "cell_type": "code",
      "source": [
        "elasticsearch_url = 'https://es-1.datanusantara.com:9201'\n",
        "username = 'adminkibana'\n",
        "password = 'kibanaPASS!@#2019'\n",
        "index_endpoint = 'socmed-twitter'"
      ],
      "metadata": {
        "id": "jo9g9dqIZLVV"
      },
      "execution_count": null,
      "outputs": []
    },
    {
      "cell_type": "code",
      "source": [
        "query = {\n",
        "  \"_source\": [\"target\", \"source\",\"text\"],\n",
        "  \"size\": 176,\n",
        "  \"query\": {\n",
        "    \"bool\": {\n",
        "      \"must\": [],\n",
        "      \"filter\": [\n",
        "        {\n",
        "          \"match_all\": {}\n",
        "        },\n",
        "        {\n",
        "          \"bool\": {\n",
        "            \"should\": [\n",
        "\n",
        "\n",
        "              {\n",
        "                \"match_phrase\": {\n",
        "                  \"target\": \"banggai\"\n",
        "                }\n",
        "              }\n",
        "            ],\n",
        "            \"minimum_should_match\": 1\n",
        "\n",
        "\n",
        "          }\n",
        "        }\n",
        "      ]\n",
        "    }\n",
        "  }\n",
        "}\n",
        "search_url = f\"{elasticsearch_url}/{index_endpoint}/_search\"\n",
        "response = requests.get(search_url, json=query, auth=(username, password))\n"
      ],
      "metadata": {
        "id": "43tPecVaZOxP"
      },
      "execution_count": null,
      "outputs": []
    },
    {
      "cell_type": "code",
      "source": [
        "search_results = response.json()\n",
        "# print(json.dumps(search_results, indent=2))\n",
        "print(len(search_results['hits']['hits']))"
      ],
      "metadata": {
        "colab": {
          "base_uri": "https://localhost:8080/"
        },
        "id": "ko61bAY7ZSTu",
        "outputId": "d8dd118a-18db-4c3a-d552-17fe7676f8fb"
      },
      "execution_count": null,
      "outputs": [
        {
          "output_type": "stream",
          "name": "stdout",
          "text": [
            "176\n"
          ]
        }
      ]
    },
    {
      "cell_type": "code",
      "source": [
        "# Input\n",
        "# Parse the response to extract relevant data\n",
        "search_results = response.json()\n",
        "\n",
        "# Process the data and create a DataFrame\n",
        "data = []\n",
        "for hit in search_results.get(\"hits\", {}).get(\"hits\", []):\n",
        "    target = hit[\"_source\"][\"target\"]\n",
        "    source = hit[\"_source\"][\"source\"]\n",
        "    text = hit[\"_source\"][\"text\"]\n",
        "\n",
        "    data.append({\"target\": target,  \"source\": source, \"text\": text})\n",
        "\n",
        "# Create a DataFrame\n",
        "input_df = pd.DataFrame(data)\n",
        "print(input_df.head())"
      ],
      "metadata": {
        "id": "ZmVoxpgYjK49",
        "colab": {
          "base_uri": "https://localhost:8080/"
        },
        "outputId": "bcf48cb0-1835-4295-82ff-44b5ea8b3b73"
      },
      "execution_count": null,
      "outputs": [
        {
          "output_type": "stream",
          "name": "stdout",
          "text": [
            "    target    source                                               text\n",
            "0  banggai    #luwuk         Ada bocoran Nurut Apa Kata Mama Season 2?!\n",
            "1  banggai    #luwuk  【NEW】PRO X WIRELESS KEYBOARD\\n\\nプロ選手にも一般ゲーマーにも...\n",
            "2  banggai  #banggai  We're thrilled to announce that HCLTech has be...\n",
            "3  banggai  #banggai  Elevate your enterprise reliability and busine...\n",
            "4  banggai  #banggai         Ada bocoran Nurut Apa Kata Mama Season 2?!\n"
          ]
        }
      ]
    },
    {
      "cell_type": "code",
      "source": [
        "input_df.head()"
      ],
      "metadata": {
        "id": "SEWU_WUDt98k",
        "colab": {
          "base_uri": "https://localhost:8080/",
          "height": 206
        },
        "outputId": "efb40604-15ee-41d1-bf25-2b34d311a526"
      },
      "execution_count": null,
      "outputs": [
        {
          "output_type": "execute_result",
          "data": {
            "text/plain": [
              "    target    source                                               text\n",
              "0  banggai    #luwuk         Ada bocoran Nurut Apa Kata Mama Season 2?!\n",
              "1  banggai    #luwuk  【NEW】PRO X WIRELESS KEYBOARD\\n\\nプロ選手にも一般ゲーマーにも...\n",
              "2  banggai  #banggai  We're thrilled to announce that HCLTech has be...\n",
              "3  banggai  #banggai  Elevate your enterprise reliability and busine...\n",
              "4  banggai  #banggai         Ada bocoran Nurut Apa Kata Mama Season 2?!"
            ],
            "text/html": [
              "\n",
              "  <div id=\"df-8b61ba4b-e94b-4175-b296-d9871f112dda\" class=\"colab-df-container\">\n",
              "    <div>\n",
              "<style scoped>\n",
              "    .dataframe tbody tr th:only-of-type {\n",
              "        vertical-align: middle;\n",
              "    }\n",
              "\n",
              "    .dataframe tbody tr th {\n",
              "        vertical-align: top;\n",
              "    }\n",
              "\n",
              "    .dataframe thead th {\n",
              "        text-align: right;\n",
              "    }\n",
              "</style>\n",
              "<table border=\"1\" class=\"dataframe\">\n",
              "  <thead>\n",
              "    <tr style=\"text-align: right;\">\n",
              "      <th></th>\n",
              "      <th>target</th>\n",
              "      <th>source</th>\n",
              "      <th>text</th>\n",
              "    </tr>\n",
              "  </thead>\n",
              "  <tbody>\n",
              "    <tr>\n",
              "      <th>0</th>\n",
              "      <td>banggai</td>\n",
              "      <td>#luwuk</td>\n",
              "      <td>Ada bocoran Nurut Apa Kata Mama Season 2?!</td>\n",
              "    </tr>\n",
              "    <tr>\n",
              "      <th>1</th>\n",
              "      <td>banggai</td>\n",
              "      <td>#luwuk</td>\n",
              "      <td>【NEW】PRO X WIRELESS KEYBOARD\\n\\nプロ選手にも一般ゲーマーにも...</td>\n",
              "    </tr>\n",
              "    <tr>\n",
              "      <th>2</th>\n",
              "      <td>banggai</td>\n",
              "      <td>#banggai</td>\n",
              "      <td>We're thrilled to announce that HCLTech has be...</td>\n",
              "    </tr>\n",
              "    <tr>\n",
              "      <th>3</th>\n",
              "      <td>banggai</td>\n",
              "      <td>#banggai</td>\n",
              "      <td>Elevate your enterprise reliability and busine...</td>\n",
              "    </tr>\n",
              "    <tr>\n",
              "      <th>4</th>\n",
              "      <td>banggai</td>\n",
              "      <td>#banggai</td>\n",
              "      <td>Ada bocoran Nurut Apa Kata Mama Season 2?!</td>\n",
              "    </tr>\n",
              "  </tbody>\n",
              "</table>\n",
              "</div>\n",
              "    <div class=\"colab-df-buttons\">\n",
              "\n",
              "  <div class=\"colab-df-container\">\n",
              "    <button class=\"colab-df-convert\" onclick=\"convertToInteractive('df-8b61ba4b-e94b-4175-b296-d9871f112dda')\"\n",
              "            title=\"Convert this dataframe to an interactive table.\"\n",
              "            style=\"display:none;\">\n",
              "\n",
              "  <svg xmlns=\"http://www.w3.org/2000/svg\" height=\"24px\" viewBox=\"0 -960 960 960\">\n",
              "    <path d=\"M120-120v-720h720v720H120Zm60-500h600v-160H180v160Zm220 220h160v-160H400v160Zm0 220h160v-160H400v160ZM180-400h160v-160H180v160Zm440 0h160v-160H620v160ZM180-180h160v-160H180v160Zm440 0h160v-160H620v160Z\"/>\n",
              "  </svg>\n",
              "    </button>\n",
              "\n",
              "  <style>\n",
              "    .colab-df-container {\n",
              "      display:flex;\n",
              "      gap: 12px;\n",
              "    }\n",
              "\n",
              "    .colab-df-convert {\n",
              "      background-color: #E8F0FE;\n",
              "      border: none;\n",
              "      border-radius: 50%;\n",
              "      cursor: pointer;\n",
              "      display: none;\n",
              "      fill: #1967D2;\n",
              "      height: 32px;\n",
              "      padding: 0 0 0 0;\n",
              "      width: 32px;\n",
              "    }\n",
              "\n",
              "    .colab-df-convert:hover {\n",
              "      background-color: #E2EBFA;\n",
              "      box-shadow: 0px 1px 2px rgba(60, 64, 67, 0.3), 0px 1px 3px 1px rgba(60, 64, 67, 0.15);\n",
              "      fill: #174EA6;\n",
              "    }\n",
              "\n",
              "    .colab-df-buttons div {\n",
              "      margin-bottom: 4px;\n",
              "    }\n",
              "\n",
              "    [theme=dark] .colab-df-convert {\n",
              "      background-color: #3B4455;\n",
              "      fill: #D2E3FC;\n",
              "    }\n",
              "\n",
              "    [theme=dark] .colab-df-convert:hover {\n",
              "      background-color: #434B5C;\n",
              "      box-shadow: 0px 1px 3px 1px rgba(0, 0, 0, 0.15);\n",
              "      filter: drop-shadow(0px 1px 2px rgba(0, 0, 0, 0.3));\n",
              "      fill: #FFFFFF;\n",
              "    }\n",
              "  </style>\n",
              "\n",
              "    <script>\n",
              "      const buttonEl =\n",
              "        document.querySelector('#df-8b61ba4b-e94b-4175-b296-d9871f112dda button.colab-df-convert');\n",
              "      buttonEl.style.display =\n",
              "        google.colab.kernel.accessAllowed ? 'block' : 'none';\n",
              "\n",
              "      async function convertToInteractive(key) {\n",
              "        const element = document.querySelector('#df-8b61ba4b-e94b-4175-b296-d9871f112dda');\n",
              "        const dataTable =\n",
              "          await google.colab.kernel.invokeFunction('convertToInteractive',\n",
              "                                                    [key], {});\n",
              "        if (!dataTable) return;\n",
              "\n",
              "        const docLinkHtml = 'Like what you see? Visit the ' +\n",
              "          '<a target=\"_blank\" href=https://colab.research.google.com/notebooks/data_table.ipynb>data table notebook</a>'\n",
              "          + ' to learn more about interactive tables.';\n",
              "        element.innerHTML = '';\n",
              "        dataTable['output_type'] = 'display_data';\n",
              "        await google.colab.output.renderOutput(dataTable, element);\n",
              "        const docLink = document.createElement('div');\n",
              "        docLink.innerHTML = docLinkHtml;\n",
              "        element.appendChild(docLink);\n",
              "      }\n",
              "    </script>\n",
              "  </div>\n",
              "\n",
              "\n",
              "<div id=\"df-af12a857-78cd-4acb-adaa-e077d216afca\">\n",
              "  <button class=\"colab-df-quickchart\" onclick=\"quickchart('df-af12a857-78cd-4acb-adaa-e077d216afca')\"\n",
              "            title=\"Suggest charts\"\n",
              "            style=\"display:none;\">\n",
              "\n",
              "<svg xmlns=\"http://www.w3.org/2000/svg\" height=\"24px\"viewBox=\"0 0 24 24\"\n",
              "     width=\"24px\">\n",
              "    <g>\n",
              "        <path d=\"M19 3H5c-1.1 0-2 .9-2 2v14c0 1.1.9 2 2 2h14c1.1 0 2-.9 2-2V5c0-1.1-.9-2-2-2zM9 17H7v-7h2v7zm4 0h-2V7h2v10zm4 0h-2v-4h2v4z\"/>\n",
              "    </g>\n",
              "</svg>\n",
              "  </button>\n",
              "\n",
              "<style>\n",
              "  .colab-df-quickchart {\n",
              "      --bg-color: #E8F0FE;\n",
              "      --fill-color: #1967D2;\n",
              "      --hover-bg-color: #E2EBFA;\n",
              "      --hover-fill-color: #174EA6;\n",
              "      --disabled-fill-color: #AAA;\n",
              "      --disabled-bg-color: #DDD;\n",
              "  }\n",
              "\n",
              "  [theme=dark] .colab-df-quickchart {\n",
              "      --bg-color: #3B4455;\n",
              "      --fill-color: #D2E3FC;\n",
              "      --hover-bg-color: #434B5C;\n",
              "      --hover-fill-color: #FFFFFF;\n",
              "      --disabled-bg-color: #3B4455;\n",
              "      --disabled-fill-color: #666;\n",
              "  }\n",
              "\n",
              "  .colab-df-quickchart {\n",
              "    background-color: var(--bg-color);\n",
              "    border: none;\n",
              "    border-radius: 50%;\n",
              "    cursor: pointer;\n",
              "    display: none;\n",
              "    fill: var(--fill-color);\n",
              "    height: 32px;\n",
              "    padding: 0;\n",
              "    width: 32px;\n",
              "  }\n",
              "\n",
              "  .colab-df-quickchart:hover {\n",
              "    background-color: var(--hover-bg-color);\n",
              "    box-shadow: 0 1px 2px rgba(60, 64, 67, 0.3), 0 1px 3px 1px rgba(60, 64, 67, 0.15);\n",
              "    fill: var(--button-hover-fill-color);\n",
              "  }\n",
              "\n",
              "  .colab-df-quickchart-complete:disabled,\n",
              "  .colab-df-quickchart-complete:disabled:hover {\n",
              "    background-color: var(--disabled-bg-color);\n",
              "    fill: var(--disabled-fill-color);\n",
              "    box-shadow: none;\n",
              "  }\n",
              "\n",
              "  .colab-df-spinner {\n",
              "    border: 2px solid var(--fill-color);\n",
              "    border-color: transparent;\n",
              "    border-bottom-color: var(--fill-color);\n",
              "    animation:\n",
              "      spin 1s steps(1) infinite;\n",
              "  }\n",
              "\n",
              "  @keyframes spin {\n",
              "    0% {\n",
              "      border-color: transparent;\n",
              "      border-bottom-color: var(--fill-color);\n",
              "      border-left-color: var(--fill-color);\n",
              "    }\n",
              "    20% {\n",
              "      border-color: transparent;\n",
              "      border-left-color: var(--fill-color);\n",
              "      border-top-color: var(--fill-color);\n",
              "    }\n",
              "    30% {\n",
              "      border-color: transparent;\n",
              "      border-left-color: var(--fill-color);\n",
              "      border-top-color: var(--fill-color);\n",
              "      border-right-color: var(--fill-color);\n",
              "    }\n",
              "    40% {\n",
              "      border-color: transparent;\n",
              "      border-right-color: var(--fill-color);\n",
              "      border-top-color: var(--fill-color);\n",
              "    }\n",
              "    60% {\n",
              "      border-color: transparent;\n",
              "      border-right-color: var(--fill-color);\n",
              "    }\n",
              "    80% {\n",
              "      border-color: transparent;\n",
              "      border-right-color: var(--fill-color);\n",
              "      border-bottom-color: var(--fill-color);\n",
              "    }\n",
              "    90% {\n",
              "      border-color: transparent;\n",
              "      border-bottom-color: var(--fill-color);\n",
              "    }\n",
              "  }\n",
              "</style>\n",
              "\n",
              "  <script>\n",
              "    async function quickchart(key) {\n",
              "      const quickchartButtonEl =\n",
              "        document.querySelector('#' + key + ' button');\n",
              "      quickchartButtonEl.disabled = true;  // To prevent multiple clicks.\n",
              "      quickchartButtonEl.classList.add('colab-df-spinner');\n",
              "      try {\n",
              "        const charts = await google.colab.kernel.invokeFunction(\n",
              "            'suggestCharts', [key], {});\n",
              "      } catch (error) {\n",
              "        console.error('Error during call to suggestCharts:', error);\n",
              "      }\n",
              "      quickchartButtonEl.classList.remove('colab-df-spinner');\n",
              "      quickchartButtonEl.classList.add('colab-df-quickchart-complete');\n",
              "    }\n",
              "    (() => {\n",
              "      let quickchartButtonEl =\n",
              "        document.querySelector('#df-af12a857-78cd-4acb-adaa-e077d216afca button');\n",
              "      quickchartButtonEl.style.display =\n",
              "        google.colab.kernel.accessAllowed ? 'block' : 'none';\n",
              "    })();\n",
              "  </script>\n",
              "</div>\n",
              "    </div>\n",
              "  </div>\n"
            ],
            "application/vnd.google.colaboratory.intrinsic+json": {
              "type": "dataframe",
              "variable_name": "input_df",
              "summary": "{\n  \"name\": \"input_df\",\n  \"rows\": 176,\n  \"fields\": [\n    {\n      \"column\": \"target\",\n      \"properties\": {\n        \"dtype\": \"category\",\n        \"num_unique_values\": 1,\n        \"samples\": [\n          \"banggai\"\n        ],\n        \"semantic_type\": \"\",\n        \"description\": \"\"\n      }\n    },\n    {\n      \"column\": \"source\",\n      \"properties\": {\n        \"dtype\": \"category\",\n        \"num_unique_values\": 5,\n        \"samples\": [\n          \"#banggai\"\n        ],\n        \"semantic_type\": \"\",\n        \"description\": \"\"\n      }\n    },\n    {\n      \"column\": \"text\",\n      \"properties\": {\n        \"dtype\": \"string\",\n        \"num_unique_values\": 166,\n        \"samples\": [\n          \"\\ud83d\\udd14#Earthquake (#gempa) M2.7 strikes 114 km NW of #Luwuk (#Indonesia) 12 min ago. More info: https://t.co/d6b3mTwlKc\"\n        ],\n        \"semantic_type\": \"\",\n        \"description\": \"\"\n      }\n    }\n  ]\n}"
            }
          },
          "metadata": {},
          "execution_count": 87
        }
      ]
    },
    {
      "cell_type": "markdown",
      "source": [
        "## Preprocessing"
      ],
      "metadata": {
        "id": "ypMTFDakovXo"
      }
    },
    {
      "cell_type": "code",
      "source": [
        "# Delete Duplicates\n",
        "input_df.duplicated(subset='title').sum()\n",
        "input_df = input_df.drop_duplicates(subset='title')\n",
        "\n",
        "# Delete Blank text (Nan) Rows\n",
        "input_df = input_df[input_df['text'] != '']\n",
        "\n",
        "# Case Folding\n",
        "def clean_lower(lwr):\n",
        "    lwr = lwr.lower() # lowercase text\n",
        "    return lwr\n",
        "\n",
        "input_df['lwr'] = input_df['text'].apply(clean_lower)\n",
        "input_df['lwr']\n",
        "\n",
        "\n",
        "# Remove Numbers\n",
        "def remove_numbers(text):\n",
        "  text = re.sub('[0-9]+', '', text)\n",
        "  return text\n",
        "\n",
        "input_df['clean_number'] = input_df['lwr'].apply(remove_numbers)\n",
        "input_df['clean_number']\n",
        "\n",
        "\n",
        "# Remove Punctuation\n",
        "clean_spcl = re.compile('[/(){}\\[\\]\\|@,;]')\n",
        "clean_symbol = re.compile('[^0-9a-z]')\n",
        "def clean_punct(text):\n",
        "    text = clean_spcl.sub('', text)\n",
        "    text = clean_symbol.sub(' ', text)\n",
        "    return text\n",
        "\n",
        "input_df['clean_punct'] = input_df['clean_number'].apply(clean_punct)\n",
        "input_df['clean_punct']\n",
        "\n",
        "\n",
        "# Delete Whitespaces\n",
        "def normalize_whitespace(text):\n",
        "    corrected = str(text)\n",
        "    corrected = re.sub(r\"//t\",r\"\\t\", corrected)\n",
        "    corrected = re.sub(r\"( )\\1+\",r\"\\1\", corrected)\n",
        "    corrected = re.sub(r\"(\\n)\\1+\",r\"\\1\", corrected)\n",
        "    corrected = re.sub(r\"(\\r)\\1+\",r\"\\1\", corrected)\n",
        "    corrected = re.sub(r\"(\\t)\\1+\",r\"\\1\", corrected)\n",
        "    return corrected.strip(\" \")\n",
        "\n",
        "input_df['clean_double_ws'] = input_df['clean_punct'].apply(normalize_whitespace)\n",
        "input_df['clean_double_ws']\n"
      ],
      "metadata": {
        "id": "VbX305x1oywh",
        "colab": {
          "base_uri": "https://localhost:8080/"
        },
        "outputId": "0b9f2dc6-8dde-4186-c758-ec0d66604140"
      },
      "execution_count": null,
      "outputs": [
        {
          "output_type": "execute_result",
          "data": {
            "text/plain": [
              "0      kabar luwuk suasana pasar murah bersubsidi di ...\n",
              "1      kabar luwuk film horor piara mayat kreativitas...\n",
              "2      kabar luwuk festival malabot tumbe kembali mer...\n",
              "3      kerja cepat dan terkoordinir dalam penerbitan ...\n",
              "4      kabar luwuk bawaslu banggaiperkuat koordinasi ...\n",
              "                             ...                        \n",
              "995    terasbanggai com bawaslu banggai akan meningka...\n",
              "996    banggai raya bupati banggai ir h amirudin mm a...\n",
              "997    terasbanggai com setelah sempat tertunda masa ...\n",
              "998    banggai januari bertempat di ruang sidang pada...\n",
              "999    banggai raya bawaslu kabupaten banggai menggel...\n",
              "Name: clean_double_ws, Length: 966, dtype: object"
            ]
          },
          "metadata": {},
          "execution_count": 104
        }
      ]
    },
    {
      "cell_type": "code",
      "source": [
        "len(input_df)"
      ],
      "metadata": {
        "id": "SWMa0q52qfy4",
        "colab": {
          "base_uri": "https://localhost:8080/"
        },
        "outputId": "c767f291-690c-4ce9-8d55-dadba9986315"
      },
      "execution_count": null,
      "outputs": [
        {
          "output_type": "execute_result",
          "data": {
            "text/plain": [
              "966"
            ]
          },
          "metadata": {},
          "execution_count": 105
        }
      ]
    },
    {
      "cell_type": "code",
      "source": [
        "input_df.head()"
      ],
      "metadata": {
        "id": "3WGgr4UyqaNX"
      },
      "execution_count": null,
      "outputs": []
    },
    {
      "cell_type": "code",
      "source": [
        "# Adding Stopwords\n",
        "url1 = 'https://raw.githubusercontent.com/TaillessTanuki/Berita_Banggai/main/ID-stopwords_banggai_addedwords.csv'\n",
        "df_stopword1 = pd.read_csv(url1, delimiter = \";\",encoding='cp1252')\n",
        "\n",
        "url2 = 'https://raw.githubusercontent.com/TaillessTanuki/Berita_Banggai/main/ID-Stopwords(MasDevid).csv'\n",
        "df_stopword2 = pd.read_csv(url2, delimiter = \";\",encoding='cp1252')\n",
        "\n",
        "custom_stopword1 = list(df_stopword1['stopword'])\n",
        "custom_stopword2 = list(df_stopword2['Stopwords'])\n",
        "\n",
        "factory = StopWordRemoverFactory()\n",
        "stopwords = factory.get_stop_words() + custom_stopword1 + custom_stopword2\n",
        "\n",
        "\n",
        "# 1st Stopwords Removal\n",
        "def filtering(text):\n",
        "  stop = stopword.remove(text)\n",
        "  return stop\n",
        "\n",
        "input_df['filtered'] = input_df['clean_double_ws'].apply(filtering)\n",
        "input_df['filtered']\n",
        "\n",
        "\n",
        "# Stemming\n",
        "from Sastrawi.Stemmer.StemmerFactory import StemmerFactory\n",
        "stem_factory = StemmerFactory()\n",
        "stemmer = stem_factory.create_stemmer()\n",
        "\n",
        "def stem(text):\n",
        "  return stemmer.stem(text)\n",
        "\n",
        "input_df['stemmed'] = input_df['filtered'].apply(stem)\n",
        "input_df['stemmed']\n",
        "\n",
        "\n",
        "# Tokenizing\n",
        "def tokenize(text):\n",
        "  tokens = nltk.tokenize.word_tokenize(text)\n",
        "  return tokens\n",
        "\n",
        "input_df['tokenized'] = input_df['stemmed'].apply(tokenize)\n",
        "input_df['tokenized']\n",
        "\n",
        "\n",
        "# 2nd Stopwords Removal\n",
        "# Define a function to remove stopwords from a list of tokens\n",
        "def remove_stopwords(tokens):\n",
        "    return [word for word in tokens if word not in stopwords]\n",
        "\n",
        "# Apply the remove_stopwords function to each row in the 'tokenized' column\n",
        "input_df['filtered2'] = input_df['tokenized'].apply(lambda tokens: remove_stopwords(tokens))"
      ],
      "metadata": {
        "id": "06iX4I5RkRQF"
      },
      "execution_count": null,
      "outputs": []
    },
    {
      "cell_type": "code",
      "source": [
        "input_df.head()"
      ],
      "metadata": {
        "id": "OUYdUqXHs83w",
        "colab": {
          "base_uri": "https://localhost:8080/",
          "height": 678
        },
        "outputId": "89dfbad4-7569-4cb5-ae93-3a0166f224dd"
      },
      "execution_count": null,
      "outputs": [
        {
          "output_type": "execute_result",
          "data": {
            "text/plain": [
              "    target                                              title  \\\n",
              "0  banggai  Mobil Sim Keliling Polres Banggai Meriahkan Pa...   \n",
              "1  banggai  Film Horor “Piara Mayat”,  Kreativitas Anak Mu...   \n",
              "2  banggai  Festival Malabot Tumbe 2023 Kembali Meriahkan ...   \n",
              "3  banggai  Rakor Kampanye Damai Pemilu 2024, Polres Bangg...   \n",
              "4  banggai  Bawaslu Banggai Perkuat Koordinasi dengan Panw...   \n",
              "\n",
              "                                                text  \\\n",
              "0  KABAR LUWUK –  Suasana Pasar Murah bersubsidi ...   \n",
              "1  KABAR LUWUK  –  Film Horor“Piara Mayat”,Kreati...   \n",
              "2  KABAR LUWUK  –Festival Malabot Tumbe 2023Kemba...   \n",
              "3  “Kerja Cepat dan Terkoordinir dalam Penerbitan...   \n",
              "4  KABAR LUWUK  –Bawaslu BanggaiPerkuat Koordinas...   \n",
              "\n",
              "                                                 lwr  \\\n",
              "0  kabar luwuk –  suasana pasar murah bersubsidi ...   \n",
              "1  kabar luwuk  –  film horor“piara mayat”,kreati...   \n",
              "2  kabar luwuk  –festival malabot tumbe 2023kemba...   \n",
              "3  “kerja cepat dan terkoordinir dalam penerbitan...   \n",
              "4  kabar luwuk  –bawaslu banggaiperkuat koordinas...   \n",
              "\n",
              "                                        clean_number  \\\n",
              "0  kabar luwuk –  suasana pasar murah bersubsidi ...   \n",
              "1  kabar luwuk  –  film horor“piara mayat”,kreati...   \n",
              "2  kabar luwuk  –festival malabot tumbe kembali m...   \n",
              "3  “kerja cepat dan terkoordinir dalam penerbitan...   \n",
              "4  kabar luwuk  –bawaslu banggaiperkuat koordinas...   \n",
              "\n",
              "                                         clean_punct  \\\n",
              "0  kabar luwuk    suasana pasar murah bersubsidi ...   \n",
              "1  kabar luwuk     film horor piara mayat kreativ...   \n",
              "2  kabar luwuk   festival malabot tumbe kembali m...   \n",
              "3   kerja cepat dan terkoordinir dalam penerbitan...   \n",
              "4  kabar luwuk   bawaslu banggaiperkuat koordinas...   \n",
              "\n",
              "                                     clean_double_ws  \\\n",
              "0  kabar luwuk suasana pasar murah bersubsidi di ...   \n",
              "1  kabar luwuk film horor piara mayat kreativitas...   \n",
              "2  kabar luwuk festival malabot tumbe kembali mer...   \n",
              "3  kerja cepat dan terkoordinir dalam penerbitan ...   \n",
              "4  kabar luwuk bawaslu banggaiperkuat koordinasi ...   \n",
              "\n",
              "                                            filtered  \\\n",
              "0  luwuk suasana pasar murah bersubsidi semarak k...   \n",
              "1  luwuk film horor piara mayat kreativitasanak m...   \n",
              "2  luwuk festival malabot tumbe meriahkankabupate...   \n",
              "3  kerja cepat terkoordinir penerbitan sttp luwuk...   \n",
              "4  luwuk bawaslu banggaiperkuat koordinasi dengan...   \n",
              "\n",
              "                                             stemmed  \\\n",
              "0  luwuk suasana pasar murah subsidi semarak hadi...   \n",
              "1  luwuk film horor piara mayat kreativitasanak m...   \n",
              "2  luwuk festival malabot tumbe meriahkankabupate...   \n",
              "3  kerja cepat terkoordinir terbit sttp luwuk rak...   \n",
              "4  luwuk bawaslu banggaiperkuat koordinasi dengan...   \n",
              "\n",
              "                                           tokenized  \\\n",
              "0  [luwuk, suasana, pasar, murah, subsidi, semara...   \n",
              "1  [luwuk, film, horor, piara, mayat, kreativitas...   \n",
              "2  [luwuk, festival, malabot, tumbe, meriahkankab...   \n",
              "3  [kerja, cepat, terkoordinir, terbit, sttp, luw...   \n",
              "4  [luwuk, bawaslu, banggaiperkuat, koordinasi, d...   \n",
              "\n",
              "                                           filtered2  \\\n",
              "0  [suasana, pasar, murah, subsidi, semarak, hadi...   \n",
              "1  [film, horor, piara, mayat, kreativitasanak, m...   \n",
              "2  [festival, malabot, tumbe, meriahkankabupaten,...   \n",
              "3  [kerja, cepat, terkoordinir, terbit, sttp, rak...   \n",
              "4  [bawaslu, banggaiperkuat, koordinasi, denganpa...   \n",
              "\n",
              "                                               text2  \n",
              "0  suasana pasar murah subsidi semarak hadir lalu...  \n",
              "1  film horor piara mayat kreativitasanak muda ba...  \n",
              "2  festival malabot tumbe meriahkankabupaten laut...  \n",
              "3  kerja cepat terkoordinir terbit sttp rakor kam...  \n",
              "4  bawaslu banggaiperkuat koordinasi denganpanwas...  "
            ],
            "text/html": [
              "\n",
              "  <div id=\"df-ded4bba5-61e7-492f-9e0d-8a5893a8b2af\" class=\"colab-df-container\">\n",
              "    <div>\n",
              "<style scoped>\n",
              "    .dataframe tbody tr th:only-of-type {\n",
              "        vertical-align: middle;\n",
              "    }\n",
              "\n",
              "    .dataframe tbody tr th {\n",
              "        vertical-align: top;\n",
              "    }\n",
              "\n",
              "    .dataframe thead th {\n",
              "        text-align: right;\n",
              "    }\n",
              "</style>\n",
              "<table border=\"1\" class=\"dataframe\">\n",
              "  <thead>\n",
              "    <tr style=\"text-align: right;\">\n",
              "      <th></th>\n",
              "      <th>target</th>\n",
              "      <th>title</th>\n",
              "      <th>text</th>\n",
              "      <th>lwr</th>\n",
              "      <th>clean_number</th>\n",
              "      <th>clean_punct</th>\n",
              "      <th>clean_double_ws</th>\n",
              "      <th>filtered</th>\n",
              "      <th>stemmed</th>\n",
              "      <th>tokenized</th>\n",
              "      <th>filtered2</th>\n",
              "      <th>text2</th>\n",
              "    </tr>\n",
              "  </thead>\n",
              "  <tbody>\n",
              "    <tr>\n",
              "      <th>0</th>\n",
              "      <td>banggai</td>\n",
              "      <td>Mobil Sim Keliling Polres Banggai Meriahkan Pa...</td>\n",
              "      <td>KABAR LUWUK –  Suasana Pasar Murah bersubsidi ...</td>\n",
              "      <td>kabar luwuk –  suasana pasar murah bersubsidi ...</td>\n",
              "      <td>kabar luwuk –  suasana pasar murah bersubsidi ...</td>\n",
              "      <td>kabar luwuk    suasana pasar murah bersubsidi ...</td>\n",
              "      <td>kabar luwuk suasana pasar murah bersubsidi di ...</td>\n",
              "      <td>luwuk suasana pasar murah bersubsidi semarak k...</td>\n",
              "      <td>luwuk suasana pasar murah subsidi semarak hadi...</td>\n",
              "      <td>[luwuk, suasana, pasar, murah, subsidi, semara...</td>\n",
              "      <td>[suasana, pasar, murah, subsidi, semarak, hadi...</td>\n",
              "      <td>suasana pasar murah subsidi semarak hadir lalu...</td>\n",
              "    </tr>\n",
              "    <tr>\n",
              "      <th>1</th>\n",
              "      <td>banggai</td>\n",
              "      <td>Film Horor “Piara Mayat”,  Kreativitas Anak Mu...</td>\n",
              "      <td>KABAR LUWUK  –  Film Horor“Piara Mayat”,Kreati...</td>\n",
              "      <td>kabar luwuk  –  film horor“piara mayat”,kreati...</td>\n",
              "      <td>kabar luwuk  –  film horor“piara mayat”,kreati...</td>\n",
              "      <td>kabar luwuk     film horor piara mayat kreativ...</td>\n",
              "      <td>kabar luwuk film horor piara mayat kreativitas...</td>\n",
              "      <td>luwuk film horor piara mayat kreativitasanak m...</td>\n",
              "      <td>luwuk film horor piara mayat kreativitasanak m...</td>\n",
              "      <td>[luwuk, film, horor, piara, mayat, kreativitas...</td>\n",
              "      <td>[film, horor, piara, mayat, kreativitasanak, m...</td>\n",
              "      <td>film horor piara mayat kreativitasanak muda ba...</td>\n",
              "    </tr>\n",
              "    <tr>\n",
              "      <th>2</th>\n",
              "      <td>banggai</td>\n",
              "      <td>Festival Malabot Tumbe 2023 Kembali Meriahkan ...</td>\n",
              "      <td>KABAR LUWUK  –Festival Malabot Tumbe 2023Kemba...</td>\n",
              "      <td>kabar luwuk  –festival malabot tumbe 2023kemba...</td>\n",
              "      <td>kabar luwuk  –festival malabot tumbe kembali m...</td>\n",
              "      <td>kabar luwuk   festival malabot tumbe kembali m...</td>\n",
              "      <td>kabar luwuk festival malabot tumbe kembali mer...</td>\n",
              "      <td>luwuk festival malabot tumbe meriahkankabupate...</td>\n",
              "      <td>luwuk festival malabot tumbe meriahkankabupate...</td>\n",
              "      <td>[luwuk, festival, malabot, tumbe, meriahkankab...</td>\n",
              "      <td>[festival, malabot, tumbe, meriahkankabupaten,...</td>\n",
              "      <td>festival malabot tumbe meriahkankabupaten laut...</td>\n",
              "    </tr>\n",
              "    <tr>\n",
              "      <th>3</th>\n",
              "      <td>banggai</td>\n",
              "      <td>Rakor Kampanye Damai Pemilu 2024, Polres Bangg...</td>\n",
              "      <td>“Kerja Cepat dan Terkoordinir dalam Penerbitan...</td>\n",
              "      <td>“kerja cepat dan terkoordinir dalam penerbitan...</td>\n",
              "      <td>“kerja cepat dan terkoordinir dalam penerbitan...</td>\n",
              "      <td>kerja cepat dan terkoordinir dalam penerbitan...</td>\n",
              "      <td>kerja cepat dan terkoordinir dalam penerbitan ...</td>\n",
              "      <td>kerja cepat terkoordinir penerbitan sttp luwuk...</td>\n",
              "      <td>kerja cepat terkoordinir terbit sttp luwuk rak...</td>\n",
              "      <td>[kerja, cepat, terkoordinir, terbit, sttp, luw...</td>\n",
              "      <td>[kerja, cepat, terkoordinir, terbit, sttp, rak...</td>\n",
              "      <td>kerja cepat terkoordinir terbit sttp rakor kam...</td>\n",
              "    </tr>\n",
              "    <tr>\n",
              "      <th>4</th>\n",
              "      <td>banggai</td>\n",
              "      <td>Bawaslu Banggai Perkuat Koordinasi dengan Panw...</td>\n",
              "      <td>KABAR LUWUK  –Bawaslu BanggaiPerkuat Koordinas...</td>\n",
              "      <td>kabar luwuk  –bawaslu banggaiperkuat koordinas...</td>\n",
              "      <td>kabar luwuk  –bawaslu banggaiperkuat koordinas...</td>\n",
              "      <td>kabar luwuk   bawaslu banggaiperkuat koordinas...</td>\n",
              "      <td>kabar luwuk bawaslu banggaiperkuat koordinasi ...</td>\n",
              "      <td>luwuk bawaslu banggaiperkuat koordinasi dengan...</td>\n",
              "      <td>luwuk bawaslu banggaiperkuat koordinasi dengan...</td>\n",
              "      <td>[luwuk, bawaslu, banggaiperkuat, koordinasi, d...</td>\n",
              "      <td>[bawaslu, banggaiperkuat, koordinasi, denganpa...</td>\n",
              "      <td>bawaslu banggaiperkuat koordinasi denganpanwas...</td>\n",
              "    </tr>\n",
              "  </tbody>\n",
              "</table>\n",
              "</div>\n",
              "    <div class=\"colab-df-buttons\">\n",
              "\n",
              "  <div class=\"colab-df-container\">\n",
              "    <button class=\"colab-df-convert\" onclick=\"convertToInteractive('df-ded4bba5-61e7-492f-9e0d-8a5893a8b2af')\"\n",
              "            title=\"Convert this dataframe to an interactive table.\"\n",
              "            style=\"display:none;\">\n",
              "\n",
              "  <svg xmlns=\"http://www.w3.org/2000/svg\" height=\"24px\" viewBox=\"0 -960 960 960\">\n",
              "    <path d=\"M120-120v-720h720v720H120Zm60-500h600v-160H180v160Zm220 220h160v-160H400v160Zm0 220h160v-160H400v160ZM180-400h160v-160H180v160Zm440 0h160v-160H620v160ZM180-180h160v-160H180v160Zm440 0h160v-160H620v160Z\"/>\n",
              "  </svg>\n",
              "    </button>\n",
              "\n",
              "  <style>\n",
              "    .colab-df-container {\n",
              "      display:flex;\n",
              "      gap: 12px;\n",
              "    }\n",
              "\n",
              "    .colab-df-convert {\n",
              "      background-color: #E8F0FE;\n",
              "      border: none;\n",
              "      border-radius: 50%;\n",
              "      cursor: pointer;\n",
              "      display: none;\n",
              "      fill: #1967D2;\n",
              "      height: 32px;\n",
              "      padding: 0 0 0 0;\n",
              "      width: 32px;\n",
              "    }\n",
              "\n",
              "    .colab-df-convert:hover {\n",
              "      background-color: #E2EBFA;\n",
              "      box-shadow: 0px 1px 2px rgba(60, 64, 67, 0.3), 0px 1px 3px 1px rgba(60, 64, 67, 0.15);\n",
              "      fill: #174EA6;\n",
              "    }\n",
              "\n",
              "    .colab-df-buttons div {\n",
              "      margin-bottom: 4px;\n",
              "    }\n",
              "\n",
              "    [theme=dark] .colab-df-convert {\n",
              "      background-color: #3B4455;\n",
              "      fill: #D2E3FC;\n",
              "    }\n",
              "\n",
              "    [theme=dark] .colab-df-convert:hover {\n",
              "      background-color: #434B5C;\n",
              "      box-shadow: 0px 1px 3px 1px rgba(0, 0, 0, 0.15);\n",
              "      filter: drop-shadow(0px 1px 2px rgba(0, 0, 0, 0.3));\n",
              "      fill: #FFFFFF;\n",
              "    }\n",
              "  </style>\n",
              "\n",
              "    <script>\n",
              "      const buttonEl =\n",
              "        document.querySelector('#df-ded4bba5-61e7-492f-9e0d-8a5893a8b2af button.colab-df-convert');\n",
              "      buttonEl.style.display =\n",
              "        google.colab.kernel.accessAllowed ? 'block' : 'none';\n",
              "\n",
              "      async function convertToInteractive(key) {\n",
              "        const element = document.querySelector('#df-ded4bba5-61e7-492f-9e0d-8a5893a8b2af');\n",
              "        const dataTable =\n",
              "          await google.colab.kernel.invokeFunction('convertToInteractive',\n",
              "                                                    [key], {});\n",
              "        if (!dataTable) return;\n",
              "\n",
              "        const docLinkHtml = 'Like what you see? Visit the ' +\n",
              "          '<a target=\"_blank\" href=https://colab.research.google.com/notebooks/data_table.ipynb>data table notebook</a>'\n",
              "          + ' to learn more about interactive tables.';\n",
              "        element.innerHTML = '';\n",
              "        dataTable['output_type'] = 'display_data';\n",
              "        await google.colab.output.renderOutput(dataTable, element);\n",
              "        const docLink = document.createElement('div');\n",
              "        docLink.innerHTML = docLinkHtml;\n",
              "        element.appendChild(docLink);\n",
              "      }\n",
              "    </script>\n",
              "  </div>\n",
              "\n",
              "\n",
              "<div id=\"df-7fea51c7-d3c1-4e14-9385-6f255ae898f4\">\n",
              "  <button class=\"colab-df-quickchart\" onclick=\"quickchart('df-7fea51c7-d3c1-4e14-9385-6f255ae898f4')\"\n",
              "            title=\"Suggest charts\"\n",
              "            style=\"display:none;\">\n",
              "\n",
              "<svg xmlns=\"http://www.w3.org/2000/svg\" height=\"24px\"viewBox=\"0 0 24 24\"\n",
              "     width=\"24px\">\n",
              "    <g>\n",
              "        <path d=\"M19 3H5c-1.1 0-2 .9-2 2v14c0 1.1.9 2 2 2h14c1.1 0 2-.9 2-2V5c0-1.1-.9-2-2-2zM9 17H7v-7h2v7zm4 0h-2V7h2v10zm4 0h-2v-4h2v4z\"/>\n",
              "    </g>\n",
              "</svg>\n",
              "  </button>\n",
              "\n",
              "<style>\n",
              "  .colab-df-quickchart {\n",
              "      --bg-color: #E8F0FE;\n",
              "      --fill-color: #1967D2;\n",
              "      --hover-bg-color: #E2EBFA;\n",
              "      --hover-fill-color: #174EA6;\n",
              "      --disabled-fill-color: #AAA;\n",
              "      --disabled-bg-color: #DDD;\n",
              "  }\n",
              "\n",
              "  [theme=dark] .colab-df-quickchart {\n",
              "      --bg-color: #3B4455;\n",
              "      --fill-color: #D2E3FC;\n",
              "      --hover-bg-color: #434B5C;\n",
              "      --hover-fill-color: #FFFFFF;\n",
              "      --disabled-bg-color: #3B4455;\n",
              "      --disabled-fill-color: #666;\n",
              "  }\n",
              "\n",
              "  .colab-df-quickchart {\n",
              "    background-color: var(--bg-color);\n",
              "    border: none;\n",
              "    border-radius: 50%;\n",
              "    cursor: pointer;\n",
              "    display: none;\n",
              "    fill: var(--fill-color);\n",
              "    height: 32px;\n",
              "    padding: 0;\n",
              "    width: 32px;\n",
              "  }\n",
              "\n",
              "  .colab-df-quickchart:hover {\n",
              "    background-color: var(--hover-bg-color);\n",
              "    box-shadow: 0 1px 2px rgba(60, 64, 67, 0.3), 0 1px 3px 1px rgba(60, 64, 67, 0.15);\n",
              "    fill: var(--button-hover-fill-color);\n",
              "  }\n",
              "\n",
              "  .colab-df-quickchart-complete:disabled,\n",
              "  .colab-df-quickchart-complete:disabled:hover {\n",
              "    background-color: var(--disabled-bg-color);\n",
              "    fill: var(--disabled-fill-color);\n",
              "    box-shadow: none;\n",
              "  }\n",
              "\n",
              "  .colab-df-spinner {\n",
              "    border: 2px solid var(--fill-color);\n",
              "    border-color: transparent;\n",
              "    border-bottom-color: var(--fill-color);\n",
              "    animation:\n",
              "      spin 1s steps(1) infinite;\n",
              "  }\n",
              "\n",
              "  @keyframes spin {\n",
              "    0% {\n",
              "      border-color: transparent;\n",
              "      border-bottom-color: var(--fill-color);\n",
              "      border-left-color: var(--fill-color);\n",
              "    }\n",
              "    20% {\n",
              "      border-color: transparent;\n",
              "      border-left-color: var(--fill-color);\n",
              "      border-top-color: var(--fill-color);\n",
              "    }\n",
              "    30% {\n",
              "      border-color: transparent;\n",
              "      border-left-color: var(--fill-color);\n",
              "      border-top-color: var(--fill-color);\n",
              "      border-right-color: var(--fill-color);\n",
              "    }\n",
              "    40% {\n",
              "      border-color: transparent;\n",
              "      border-right-color: var(--fill-color);\n",
              "      border-top-color: var(--fill-color);\n",
              "    }\n",
              "    60% {\n",
              "      border-color: transparent;\n",
              "      border-right-color: var(--fill-color);\n",
              "    }\n",
              "    80% {\n",
              "      border-color: transparent;\n",
              "      border-right-color: var(--fill-color);\n",
              "      border-bottom-color: var(--fill-color);\n",
              "    }\n",
              "    90% {\n",
              "      border-color: transparent;\n",
              "      border-bottom-color: var(--fill-color);\n",
              "    }\n",
              "  }\n",
              "</style>\n",
              "\n",
              "  <script>\n",
              "    async function quickchart(key) {\n",
              "      const quickchartButtonEl =\n",
              "        document.querySelector('#' + key + ' button');\n",
              "      quickchartButtonEl.disabled = true;  // To prevent multiple clicks.\n",
              "      quickchartButtonEl.classList.add('colab-df-spinner');\n",
              "      try {\n",
              "        const charts = await google.colab.kernel.invokeFunction(\n",
              "            'suggestCharts', [key], {});\n",
              "      } catch (error) {\n",
              "        console.error('Error during call to suggestCharts:', error);\n",
              "      }\n",
              "      quickchartButtonEl.classList.remove('colab-df-spinner');\n",
              "      quickchartButtonEl.classList.add('colab-df-quickchart-complete');\n",
              "    }\n",
              "    (() => {\n",
              "      let quickchartButtonEl =\n",
              "        document.querySelector('#df-7fea51c7-d3c1-4e14-9385-6f255ae898f4 button');\n",
              "      quickchartButtonEl.style.display =\n",
              "        google.colab.kernel.accessAllowed ? 'block' : 'none';\n",
              "    })();\n",
              "  </script>\n",
              "</div>\n",
              "    </div>\n",
              "  </div>\n"
            ],
            "application/vnd.google.colaboratory.intrinsic+json": {
              "type": "dataframe",
              "variable_name": "input_df",
              "summary": "{\n  \"name\": \"input_df\",\n  \"rows\": 966,\n  \"fields\": [\n    {\n      \"column\": \"target\",\n      \"properties\": {\n        \"dtype\": \"category\",\n        \"num_unique_values\": 1,\n        \"samples\": [\n          \"banggai\"\n        ],\n        \"semantic_type\": \"\",\n        \"description\": \"\"\n      }\n    },\n    {\n      \"column\": \"title\",\n      \"properties\": {\n        \"dtype\": \"string\",\n        \"num_unique_values\": 966,\n        \"samples\": [\n          \"Zikir dan Doa Bersama Sambut Tahun Baru, Ini Harapan Bupati Banggai\"\n        ],\n        \"semantic_type\": \"\",\n        \"description\": \"\"\n      }\n    },\n    {\n      \"column\": \"text\",\n      \"properties\": {\n        \"dtype\": \"string\",\n        \"num_unique_values\": 957,\n        \"samples\": [\n          \"BANGGAI RAYA- Bupati Banggai Amirudin mengikuti kegiatan wawancara Paritrana Award Tingkat Provinsi Sulawesi Tengah dengan nominasi penghargaan Jaminan Sosial Ketenagakerjaan kategori nominasi pemerintah kabupaten/kota, pada Selasa (27/2/2024), bertempat di Hotel Aston, Palu.Paritrana Award merupakan penghargaan yang diberikan pemerintah pusat kepada pemerintah daerah, dan perusahaan badan usaha yang memiliki kepedulian (awareness) tinggi, dan citra positif terhadap program jaminan sosial ketenagakerjaan.Pada kesempatan tersebut, Bupati Amirudin memaparkan kebijakan pemerintah daerah terkait implementasi Program Jaminan Sosial Ketenagakerjaan, yang merupakan bagian dari upaya menindaklanjuti Instruksi Presiden (INPRES) Nomor 2 Tahun 2021 tentang optimalisasi pelaksanaan program jaminan sosial ketenagakerjaan.BACA JUGA:Pemilu 2024, Bali Mang Melangkah ke DPRD SultengSebagai bentuk keseriusan, lanjut Bupati Amirudin, Pemkab Banggai menindaklanjuti Inpres Nomor 2 Tahun 2021 tersebut dengan mengeluarkan Peraturan Bupati (Perbup) Nomor 32 Tahun 2021 tentang pelaksanaan program Jaminan Sosial Ketenagakerjaan di daerah dan Keputusan Bupati Banggai Nomor 560/935/NAKERTRANS tentang tim koordinasi pembinaan dan pemantauan terhadap pelaksanaan program BPJS Ketenagakerjaan di Kabupaten Banggai.Tidak hanya sampai di situ, upaya penguatan regulasi daerah dan perlindungan pekerja tersebut, maka ditingkatkan status regulasi dari Peraturan Bupati (Perbup) menjadi Peraturan Daerah (Perda) dengan ditetapkannya Perda Nomor 9 Tahun 2023 tentang Optimalisasi Penyelenggaraan Program Jaminan Sosial Ketenagakerjaan.BACA JUGA:Tak Terima Diberhentikan, Sekdes Segel Kantor Desa Solan BaruUntuk tahun 2023 melalui APBD telah dianggarkan iuran kepesertaan BPJS Ketenagakerjaan untuk program Jaminan Kecelakaan Kerja (JKK) dan Jaminan Kematian (JKM) bagi 13.765 orang tenaga kerja.Keterlibatan Bupati Banggai dalam wawancara ini menegaskan komitmen Pemerintah Kabupaten Banggai dalam memberikan perlindungan sosial yang memadai bagi para tenaga kerja di wilayah tersebut.Presentasi yang disampaikan oleh Bupati Amirudin memberikan gambaran yang jelas mengenai upaya konkret yang telah dilakukan untuk meningkatkan kesejahteraan dan keamanan sosial bagi masyarakat Banggai.Adapun yang menjadi tim penilai kegiatan ini terdiri dari Setda Provinsi, Dra. Novalina, MM., Kepala BPJS Ketenagakerjaan Provinsi Sulawesi Tengah, A. Syamsul Rijal, Kadis Nakertrans Provinsi, Drs. Arnould Firdaus, MT, Ahli ekonomi, Mohammad Ahlis Djirimu, SE, DEA.Phd, Ahli Kebijakan Publik : Dr.Drs Muzakir Tawil. M.Si, Ahli Hukum, Dr. H. Abdur Rasyid thalib S.H, Ahli Jaminan Sosial, Drs.H.Arifuddin Bidin, Ketua DPD APINDO, H. Achrul Udaya, dan Serikat Buruh, Karlan ladandu.BACA JUGA:Asia Muslim Charity Foundation Luncurkan Kapal Kemanusiaan untuk Perairan SultengKehadiran Bupati Banggai dalam acara ini menandai langkah nyata dalam membangun sistem jaminan sosial yang inklusif dan berkeadilan bagi seluruh masyarakat Kabupaten Banggai.**\"\n        ],\n        \"semantic_type\": \"\",\n        \"description\": \"\"\n      }\n    },\n    {\n      \"column\": \"lwr\",\n      \"properties\": {\n        \"dtype\": \"string\",\n        \"num_unique_values\": 957,\n        \"samples\": [\n          \"banggai raya- bupati banggai amirudin mengikuti kegiatan wawancara paritrana award tingkat provinsi sulawesi tengah dengan nominasi penghargaan jaminan sosial ketenagakerjaan kategori nominasi pemerintah kabupaten/kota, pada selasa (27/2/2024), bertempat di hotel aston, palu.paritrana award merupakan penghargaan yang diberikan pemerintah pusat kepada pemerintah daerah, dan perusahaan badan usaha yang memiliki kepedulian (awareness) tinggi, dan citra positif terhadap program jaminan sosial ketenagakerjaan.pada kesempatan tersebut, bupati amirudin memaparkan kebijakan pemerintah daerah terkait implementasi program jaminan sosial ketenagakerjaan, yang merupakan bagian dari upaya menindaklanjuti instruksi presiden (inpres) nomor 2 tahun 2021 tentang optimalisasi pelaksanaan program jaminan sosial ketenagakerjaan.baca juga:pemilu 2024, bali mang melangkah ke dprd sultengsebagai bentuk keseriusan, lanjut bupati amirudin, pemkab banggai menindaklanjuti inpres nomor 2 tahun 2021 tersebut dengan mengeluarkan peraturan bupati (perbup) nomor 32 tahun 2021 tentang pelaksanaan program jaminan sosial ketenagakerjaan di daerah dan keputusan bupati banggai nomor 560/935/nakertrans tentang tim koordinasi pembinaan dan pemantauan terhadap pelaksanaan program bpjs ketenagakerjaan di kabupaten banggai.tidak hanya sampai di situ, upaya penguatan regulasi daerah dan perlindungan pekerja tersebut, maka ditingkatkan status regulasi dari peraturan bupati (perbup) menjadi peraturan daerah (perda) dengan ditetapkannya perda nomor 9 tahun 2023 tentang optimalisasi penyelenggaraan program jaminan sosial ketenagakerjaan.baca juga:tak terima diberhentikan, sekdes segel kantor desa solan baruuntuk tahun 2023 melalui apbd telah dianggarkan iuran kepesertaan bpjs ketenagakerjaan untuk program jaminan kecelakaan kerja (jkk) dan jaminan kematian (jkm) bagi 13.765 orang tenaga kerja.keterlibatan bupati banggai dalam wawancara ini menegaskan komitmen pemerintah kabupaten banggai dalam memberikan perlindungan sosial yang memadai bagi para tenaga kerja di wilayah tersebut.presentasi yang disampaikan oleh bupati amirudin memberikan gambaran yang jelas mengenai upaya konkret yang telah dilakukan untuk meningkatkan kesejahteraan dan keamanan sosial bagi masyarakat banggai.adapun yang menjadi tim penilai kegiatan ini terdiri dari setda provinsi, dra. novalina, mm., kepala bpjs ketenagakerjaan provinsi sulawesi tengah, a. syamsul rijal, kadis nakertrans provinsi, drs. arnould firdaus, mt, ahli ekonomi, mohammad ahlis djirimu, se, dea.phd, ahli kebijakan publik : dr.drs muzakir tawil. m.si, ahli hukum, dr. h. abdur rasyid thalib s.h, ahli jaminan sosial, drs.h.arifuddin bidin, ketua dpd apindo, h. achrul udaya, dan serikat buruh, karlan ladandu.baca juga:asia muslim charity foundation luncurkan kapal kemanusiaan untuk perairan sultengkehadiran bupati banggai dalam acara ini menandai langkah nyata dalam membangun sistem jaminan sosial yang inklusif dan berkeadilan bagi seluruh masyarakat kabupaten banggai.**\"\n        ],\n        \"semantic_type\": \"\",\n        \"description\": \"\"\n      }\n    },\n    {\n      \"column\": \"clean_number\",\n      \"properties\": {\n        \"dtype\": \"string\",\n        \"num_unique_values\": 957,\n        \"samples\": [\n          \"banggai raya- bupati banggai amirudin mengikuti kegiatan wawancara paritrana award tingkat provinsi sulawesi tengah dengan nominasi penghargaan jaminan sosial ketenagakerjaan kategori nominasi pemerintah kabupaten/kota, pada selasa (//), bertempat di hotel aston, palu.paritrana award merupakan penghargaan yang diberikan pemerintah pusat kepada pemerintah daerah, dan perusahaan badan usaha yang memiliki kepedulian (awareness) tinggi, dan citra positif terhadap program jaminan sosial ketenagakerjaan.pada kesempatan tersebut, bupati amirudin memaparkan kebijakan pemerintah daerah terkait implementasi program jaminan sosial ketenagakerjaan, yang merupakan bagian dari upaya menindaklanjuti instruksi presiden (inpres) nomor  tahun  tentang optimalisasi pelaksanaan program jaminan sosial ketenagakerjaan.baca juga:pemilu , bali mang melangkah ke dprd sultengsebagai bentuk keseriusan, lanjut bupati amirudin, pemkab banggai menindaklanjuti inpres nomor  tahun  tersebut dengan mengeluarkan peraturan bupati (perbup) nomor  tahun  tentang pelaksanaan program jaminan sosial ketenagakerjaan di daerah dan keputusan bupati banggai nomor //nakertrans tentang tim koordinasi pembinaan dan pemantauan terhadap pelaksanaan program bpjs ketenagakerjaan di kabupaten banggai.tidak hanya sampai di situ, upaya penguatan regulasi daerah dan perlindungan pekerja tersebut, maka ditingkatkan status regulasi dari peraturan bupati (perbup) menjadi peraturan daerah (perda) dengan ditetapkannya perda nomor  tahun  tentang optimalisasi penyelenggaraan program jaminan sosial ketenagakerjaan.baca juga:tak terima diberhentikan, sekdes segel kantor desa solan baruuntuk tahun  melalui apbd telah dianggarkan iuran kepesertaan bpjs ketenagakerjaan untuk program jaminan kecelakaan kerja (jkk) dan jaminan kematian (jkm) bagi . orang tenaga kerja.keterlibatan bupati banggai dalam wawancara ini menegaskan komitmen pemerintah kabupaten banggai dalam memberikan perlindungan sosial yang memadai bagi para tenaga kerja di wilayah tersebut.presentasi yang disampaikan oleh bupati amirudin memberikan gambaran yang jelas mengenai upaya konkret yang telah dilakukan untuk meningkatkan kesejahteraan dan keamanan sosial bagi masyarakat banggai.adapun yang menjadi tim penilai kegiatan ini terdiri dari setda provinsi, dra. novalina, mm., kepala bpjs ketenagakerjaan provinsi sulawesi tengah, a. syamsul rijal, kadis nakertrans provinsi, drs. arnould firdaus, mt, ahli ekonomi, mohammad ahlis djirimu, se, dea.phd, ahli kebijakan publik : dr.drs muzakir tawil. m.si, ahli hukum, dr. h. abdur rasyid thalib s.h, ahli jaminan sosial, drs.h.arifuddin bidin, ketua dpd apindo, h. achrul udaya, dan serikat buruh, karlan ladandu.baca juga:asia muslim charity foundation luncurkan kapal kemanusiaan untuk perairan sultengkehadiran bupati banggai dalam acara ini menandai langkah nyata dalam membangun sistem jaminan sosial yang inklusif dan berkeadilan bagi seluruh masyarakat kabupaten banggai.**\"\n        ],\n        \"semantic_type\": \"\",\n        \"description\": \"\"\n      }\n    },\n    {\n      \"column\": \"clean_punct\",\n      \"properties\": {\n        \"dtype\": \"string\",\n        \"num_unique_values\": 957,\n        \"samples\": [\n          \"banggai raya  bupati banggai amirudin mengikuti kegiatan wawancara paritrana award tingkat provinsi sulawesi tengah dengan nominasi penghargaan jaminan sosial ketenagakerjaan kategori nominasi pemerintah kabupatenkota pada selasa  bertempat di hotel aston palu paritrana award merupakan penghargaan yang diberikan pemerintah pusat kepada pemerintah daerah dan perusahaan badan usaha yang memiliki kepedulian awareness tinggi dan citra positif terhadap program jaminan sosial ketenagakerjaan pada kesempatan tersebut bupati amirudin memaparkan kebijakan pemerintah daerah terkait implementasi program jaminan sosial ketenagakerjaan yang merupakan bagian dari upaya menindaklanjuti instruksi presiden inpres nomor  tahun  tentang optimalisasi pelaksanaan program jaminan sosial ketenagakerjaan baca juga pemilu  bali mang melangkah ke dprd sultengsebagai bentuk keseriusan lanjut bupati amirudin pemkab banggai menindaklanjuti inpres nomor  tahun  tersebut dengan mengeluarkan peraturan bupati perbup nomor  tahun  tentang pelaksanaan program jaminan sosial ketenagakerjaan di daerah dan keputusan bupati banggai nomor nakertrans tentang tim koordinasi pembinaan dan pemantauan terhadap pelaksanaan program bpjs ketenagakerjaan di kabupaten banggai tidak hanya sampai di situ upaya penguatan regulasi daerah dan perlindungan pekerja tersebut maka ditingkatkan status regulasi dari peraturan bupati perbup menjadi peraturan daerah perda dengan ditetapkannya perda nomor  tahun  tentang optimalisasi penyelenggaraan program jaminan sosial ketenagakerjaan baca juga tak terima diberhentikan sekdes segel kantor desa solan baruuntuk tahun  melalui apbd telah dianggarkan iuran kepesertaan bpjs ketenagakerjaan untuk program jaminan kecelakaan kerja jkk dan jaminan kematian jkm bagi   orang tenaga kerja keterlibatan bupati banggai dalam wawancara ini menegaskan komitmen pemerintah kabupaten banggai dalam memberikan perlindungan sosial yang memadai bagi para tenaga kerja di wilayah tersebut presentasi yang disampaikan oleh bupati amirudin memberikan gambaran yang jelas mengenai upaya konkret yang telah dilakukan untuk meningkatkan kesejahteraan dan keamanan sosial bagi masyarakat banggai adapun yang menjadi tim penilai kegiatan ini terdiri dari setda provinsi dra  novalina mm  kepala bpjs ketenagakerjaan provinsi sulawesi tengah a  syamsul rijal kadis nakertrans provinsi drs  arnould firdaus mt ahli ekonomi mohammad ahlis djirimu se dea phd ahli kebijakan publik   dr drs muzakir tawil  m si ahli hukum dr  h  abdur rasyid thalib s h ahli jaminan sosial drs h arifuddin bidin ketua dpd apindo h  achrul udaya dan serikat buruh karlan ladandu baca juga asia muslim charity foundation luncurkan kapal kemanusiaan untuk perairan sultengkehadiran bupati banggai dalam acara ini menandai langkah nyata dalam membangun sistem jaminan sosial yang inklusif dan berkeadilan bagi seluruh masyarakat kabupaten banggai   \"\n        ],\n        \"semantic_type\": \"\",\n        \"description\": \"\"\n      }\n    },\n    {\n      \"column\": \"clean_double_ws\",\n      \"properties\": {\n        \"dtype\": \"string\",\n        \"num_unique_values\": 956,\n        \"samples\": [\n          \"polresbanggai com kapolres banggaiakbp ade nuramdani sh sik mm bersamabupati banggaiir h amirudin tamoreka dan unsur forkopimda melaksanakan pengecekan dan kunjungan ke sejumlah gereja dalam pelaksanaan ibadah malam natal tahun di wilayah kotaluwukkabupaten banggai minggu selain para forkopimda dalam rombongan tersebut diikuti para forkopimda asisten dan staf ahli setda banggai kunjungan dan pengecekan itu dilakukan guna bersilahturahmi dan memastikan situasi kamtibmas berjalan aman dan kondusif selama ibadah misa natal tahun adapun gereja yang dikunjungi yakni gpdi betlehem gereja katolik bintang kejora st yoseph gereja bukit moria dan gereja kristen indonesia gki dalam sambutannya bupati mengatakan seluruh unsur forkopimda mengucapkan selamat hari raya natal kepada umat kristiani yang saat ini sedang merayakan kami berharap perayaan natal ini dapat membawa sukacita dan damai di kabupaten banggai ucapnya iapun mengajak seluruh lapisan masyarakat untuk peduli sesama serta tetap menjaga harmonisasi dalam kerukunan hidup antar etnis dan agama sehingga pelaksanaan pembangunan daerah dapat berjalan dengan aman dan lancar jelas bupati bupati amirudin mengucapkan terima kasih atas partisipasi jemaat gereja yang selama ini telah berperan aktif dalam kegiatan kegiatan sosial terima kasih atas sumbangsi jemaat gereja yang selama ini telah berperan aktif dalam kegiatan kegiatan sosial khususnya di wilayah kabupaten banggai tutupnya kegiatan kunjungan ke gereja oleh unsur forkopimda berakhir pada pukul wita dan berjalan aman dan lancar\"\n        ],\n        \"semantic_type\": \"\",\n        \"description\": \"\"\n      }\n    },\n    {\n      \"column\": \"filtered\",\n      \"properties\": {\n        \"dtype\": \"string\",\n        \"num_unique_values\": 956,\n        \"samples\": [\n          \"com kapolres banggaiakbp ade nuramdani sh sik mm bersamabupati banggaiir amirudin tamoreka unsur forkopimda melaksanakan pengecekan kunjungan sejumlah gereja pelaksanaan ibadah malam natal wilayah kotaluwukkabupaten minggu forkopimda rombongan diikuti para forkopimda asisten staf ahli setda kunjungan pengecekan dilakukan bersilahturahmi memastikan situasi kamtibmas berjalan aman kondusif ibadah misa natal adapun gereja dikunjungi gpdi betlehem gereja katolik bintang kejora st yoseph gereja bukit moria gereja kristen indonesia gki sambutannya mengatakan unsur forkopimda selamat raya natal umat kristiani saat sedang merayakan berharap perayaan natal membawa sukacita damai di ucapnya iapun mengajak lapisan masyarakat peduli serta menjaga harmonisasi kerukunan hidup etnis agama pelaksanaan pembangunan daerah dapat berjalan aman lancar bupati amirudin terima kasih partisipasi jemaat gereja selama telah berperan aktif kegiatan kegiatan sosial terima kasih sumbangsi jemaat gereja selama telah berperan aktif kegiatan kegiatan sosial di wilayah kabupaten banggai tutupnya kegiatan kunjungan gereja unsur forkopimda pada wita berjalan aman lancar\"\n        ],\n        \"semantic_type\": \"\",\n        \"description\": \"\"\n      }\n    },\n    {\n      \"column\": \"stemmed\",\n      \"properties\": {\n        \"dtype\": \"string\",\n        \"num_unique_values\": 956,\n        \"samples\": [\n          \"com kapolres banggaiakbp ade nuramdani sh sik mm bersamabupati banggaiir amirudin tamoreka unsur forkopimda laksana kece kunjung jumlah gereja laksana ibadah malam natal wilayah kotaluwukkabupaten minggu forkopimda rombong ikut para forkopimda asisten staf ahli setda kunjung kece laku bersilahturahmi pasti situasi kamtibmas jalan aman kondusif ibadah misa natal adapun gereja kunjung gpdi betlehem gereja katolik bintang kejora st yoseph gereja bukit moria gereja kristen indonesia gki sambut kata unsur forkopimda selamat raya natal umat kristiani saat sedang raya harap raya natal bawa sukacita damai di ucap iapun ajak lapis masyarakat peduli serta jaga harmonisasi rukun hidup etnis agama laksana bangun daerah dapat jalan aman lancar bupati amirudin terima kasih partisipasi jemaat gereja lama telah peran aktif giat giat sosial terima kasih sumbangsi jemaat gereja lama telah peran aktif giat giat sosial di wilayah kabupaten bangga tutup giat kunjung gereja unsur forkopimda pada wita jalan aman lancar\"\n        ],\n        \"semantic_type\": \"\",\n        \"description\": \"\"\n      }\n    },\n    {\n      \"column\": \"tokenized\",\n      \"properties\": {\n        \"dtype\": \"object\",\n        \"semantic_type\": \"\",\n        \"description\": \"\"\n      }\n    },\n    {\n      \"column\": \"filtered2\",\n      \"properties\": {\n        \"dtype\": \"object\",\n        \"semantic_type\": \"\",\n        \"description\": \"\"\n      }\n    },\n    {\n      \"column\": \"text2\",\n      \"properties\": {\n        \"dtype\": \"string\",\n        \"num_unique_values\": 956,\n        \"samples\": [\n          \"kapolres banggaiakbp ade nuramdani sh sik mm bersamabupati banggaiir tamoreka unsur forkopimda laksana kece kunjung gereja laksana ibadah malam natal wilayah kotaluwukkabupaten minggu forkopimda rombong forkopimda asisten staf ahli setda kunjung kece laku bersilahturahmi situasi kamtibmas jalan aman kondusif ibadah misa natal gereja kunjung gpdi betlehem gereja katolik bintang kejora st yoseph gereja bukit moria gereja kristen indonesia gki sambut unsur forkopimda selamat natal umat kristiani harap natal bawa sukacita damai iapun ajak lapis masyarakat peduli jaga harmonisasi rukun hidup etnis agama laksana bangun daerah jalan aman lancar terima kasih partisipasi jemaat gereja peran aktif giat giat sosial terima kasih sumbangsi jemaat gereja peran aktif giat giat sosial wilayah tutup giat kunjung gereja unsur forkopimda wita jalan aman lancar\"\n        ],\n        \"semantic_type\": \"\",\n        \"description\": \"\"\n      }\n    }\n  ]\n}"
            }
          },
          "metadata": {},
          "execution_count": 114
        }
      ]
    },
    {
      "cell_type": "code",
      "source": [
        "# input_df.drop(columns=['text2'], inplace=True)"
      ],
      "metadata": {
        "id": "ANhUfqmMzZtH"
      },
      "execution_count": null,
      "outputs": []
    },
    {
      "cell_type": "code",
      "source": [
        "# Convert tokenized text to string representation\n",
        "#text_strings = [' '.join(doc) for doc in df['tokenized']]\n",
        "input_df['text2'] = input_df['filtered2'].apply(lambda x: ' '.join(x))\n"
      ],
      "metadata": {
        "id": "snJSk_5ULzDL"
      },
      "execution_count": null,
      "outputs": []
    },
    {
      "cell_type": "code",
      "source": [
        "input_df.head()"
      ],
      "metadata": {
        "id": "pbEpcDfOzCw4"
      },
      "execution_count": null,
      "outputs": []
    },
    {
      "cell_type": "markdown",
      "source": [
        "## Convert input_df to csv"
      ],
      "metadata": {
        "id": "2opI8g0QULEZ"
      }
    },
    {
      "cell_type": "code",
      "source": [
        "input_df.to_csv(\"preprocesed_input_df.csv\", index=False)"
      ],
      "metadata": {
        "id": "XZdWBF5DMVUg"
      },
      "execution_count": null,
      "outputs": []
    },
    {
      "cell_type": "markdown",
      "source": [
        "# Predicting Input Data"
      ],
      "metadata": {
        "id": "RTE8VdSp0jM0"
      }
    },
    {
      "cell_type": "code",
      "source": [
        "\n",
        "# Assuming 'selected_features' is a list of feature names used during model training\n",
        "X_input = input_df['text2']\n",
        "\n",
        "# 3. Predict using the model\n",
        "predictions = text_sent_clf.predict(X_input)\n",
        "\n",
        "# 4. Add predictions to a new column in the DataFrame\n",
        "input_df['final_review'] = predictions"
      ],
      "metadata": {
        "id": "VMWEUJw60mtW"
      },
      "execution_count": null,
      "outputs": []
    },
    {
      "cell_type": "code",
      "source": [
        "input_df.head()"
      ],
      "metadata": {
        "id": "zicdjt5XL6AT"
      },
      "execution_count": null,
      "outputs": []
    },
    {
      "cell_type": "markdown",
      "source": [
        "## Convert input_df to csv and excel"
      ],
      "metadata": {
        "id": "TxY72sNRhu4n"
      }
    },
    {
      "cell_type": "code",
      "source": [
        "# Assuming 'df' is your existing DataFrame and 'columns_to_keep' is a list of column names you want to keep\n",
        "columns_to_keep = ['title', 'text', 'final_review']  # Adjust with your desired column names\n",
        "\n",
        "# Create a new DataFrame with only the selected columns\n",
        "final_text_sent_cls1 = input_df[columns_to_keep].copy()\n",
        "\n",
        "final_text_sent_cls1.to_csv('final_text_sent_cls1.csv', index=False)\n",
        "final_text_sent_cls1.to_excel('final_text_sent_cls1.xlsx', index=False)"
      ],
      "metadata": {
        "id": "AuiTLWW7hu4u"
      },
      "execution_count": null,
      "outputs": []
    },
    {
      "cell_type": "markdown",
      "source": [
        "## Pickling Model"
      ],
      "metadata": {
        "id": "5Dk2WfkTcryp"
      }
    },
    {
      "cell_type": "code",
      "source": [
        "import pickle\n",
        "#pickle.dump(model, open('model_name_you_want_to_save_as.sav', 'wb'))\n",
        "pickle.dump(sent_clf_twt, open('sentiment_classifier_twt1.0.sav', 'wb'))"
      ],
      "metadata": {
        "id": "oLNqsi_i_hpT"
      },
      "execution_count": 42,
      "outputs": []
    }
  ]
}